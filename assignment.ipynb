{
 "cells": [
  {
   "cell_type": "code",
   "execution_count": 1,
   "id": "cc3e2839",
   "metadata": {},
   "outputs": [],
   "source": [
    "import numpy as np\n",
    "import time\n",
    "import pandas as pd"
   ]
  },
  {
   "cell_type": "code",
   "execution_count": 2,
   "id": "e22d9e8f",
   "metadata": {},
   "outputs": [],
   "source": [
    "a = np.random.random((10,10))"
   ]
  },
  {
   "cell_type": "code",
   "execution_count": 3,
   "id": "898d38eb",
   "metadata": {},
   "outputs": [
    {
     "data": {
      "text/plain": [
       "array([[0.47949963, 0.7299345 , 0.90773463, 0.84141837, 0.867988  ,\n",
       "        0.31235114, 0.90253769, 0.36608185, 0.7321836 , 0.57726822],\n",
       "       [0.21516325, 0.57756153, 0.89818507, 0.81995957, 0.35060484,\n",
       "        0.82970734, 0.46323527, 0.32227353, 0.44831145, 0.83305571],\n",
       "       [0.00731276, 0.47727155, 0.81572745, 0.93915316, 0.30892678,\n",
       "        0.6533983 , 0.37823214, 0.22721625, 0.94567981, 0.84548707],\n",
       "       [0.83454918, 0.59649341, 0.79014112, 0.46593649, 0.3621356 ,\n",
       "        0.8649656 , 0.72665958, 0.06282294, 0.36523932, 0.98355808],\n",
       "       [0.7662607 , 0.61106074, 0.61188846, 0.98941861, 0.52545861,\n",
       "        0.56110447, 0.23778176, 0.73713815, 0.6909835 , 0.70079236],\n",
       "       [0.87581321, 0.33501248, 0.62943106, 0.77447654, 0.78880335,\n",
       "        0.92721142, 0.83887853, 0.31346104, 0.05256299, 0.15068996],\n",
       "       [0.06310261, 0.74676515, 0.25485637, 0.55354778, 0.90621103,\n",
       "        0.03757763, 0.01284579, 0.38834101, 0.16925152, 0.02201443],\n",
       "       [0.62583233, 0.43006473, 0.45107357, 0.65768326, 0.84235658,\n",
       "        0.98691273, 0.24831069, 0.21238314, 0.39067112, 0.05641156],\n",
       "       [0.59345488, 0.96831242, 0.88014657, 0.6898448 , 0.29240075,\n",
       "        0.95685259, 0.21961025, 0.426194  , 0.41471214, 0.33970216],\n",
       "       [0.92787176, 0.92793639, 0.50230981, 0.79750958, 0.71233243,\n",
       "        0.60033515, 0.52348544, 0.58355198, 0.71165725, 0.23048085]])"
      ]
     },
     "execution_count": 3,
     "metadata": {},
     "output_type": "execute_result"
    }
   ],
   "source": [
    "a"
   ]
  },
  {
   "cell_type": "code",
   "execution_count": 4,
   "id": "ca722e5f",
   "metadata": {},
   "outputs": [],
   "source": [
    "start = time.time()"
   ]
  },
  {
   "cell_type": "code",
   "execution_count": 5,
   "id": "4acdf25f",
   "metadata": {},
   "outputs": [],
   "source": [
    "for x in range(10):\n",
    "    for y in range(10):\n",
    "        a[x][y] = a[x][y] +10"
   ]
  },
  {
   "cell_type": "code",
   "execution_count": 6,
   "id": "b5049884",
   "metadata": {},
   "outputs": [],
   "source": [
    "end = time.time()"
   ]
  },
  {
   "cell_type": "code",
   "execution_count": 7,
   "id": "f135d2f5",
   "metadata": {},
   "outputs": [],
   "source": [
    "time_taken = end - start"
   ]
  },
  {
   "cell_type": "code",
   "execution_count": 8,
   "id": "7e7cfc9e",
   "metadata": {},
   "outputs": [
    {
     "data": {
      "text/plain": [
       "0.03108048439025879"
      ]
     },
     "execution_count": 8,
     "metadata": {},
     "output_type": "execute_result"
    }
   ],
   "source": [
    "time_taken"
   ]
  },
  {
   "cell_type": "code",
   "execution_count": 9,
   "id": "bf78f28b",
   "metadata": {},
   "outputs": [
    {
     "data": {
      "text/plain": [
       "array([[10.47949963, 10.7299345 , 10.90773463, 10.84141837, 10.867988  ,\n",
       "        10.31235114, 10.90253769, 10.36608185, 10.7321836 , 10.57726822],\n",
       "       [10.21516325, 10.57756153, 10.89818507, 10.81995957, 10.35060484,\n",
       "        10.82970734, 10.46323527, 10.32227353, 10.44831145, 10.83305571],\n",
       "       [10.00731276, 10.47727155, 10.81572745, 10.93915316, 10.30892678,\n",
       "        10.6533983 , 10.37823214, 10.22721625, 10.94567981, 10.84548707],\n",
       "       [10.83454918, 10.59649341, 10.79014112, 10.46593649, 10.3621356 ,\n",
       "        10.8649656 , 10.72665958, 10.06282294, 10.36523932, 10.98355808],\n",
       "       [10.7662607 , 10.61106074, 10.61188846, 10.98941861, 10.52545861,\n",
       "        10.56110447, 10.23778176, 10.73713815, 10.6909835 , 10.70079236],\n",
       "       [10.87581321, 10.33501248, 10.62943106, 10.77447654, 10.78880335,\n",
       "        10.92721142, 10.83887853, 10.31346104, 10.05256299, 10.15068996],\n",
       "       [10.06310261, 10.74676515, 10.25485637, 10.55354778, 10.90621103,\n",
       "        10.03757763, 10.01284579, 10.38834101, 10.16925152, 10.02201443],\n",
       "       [10.62583233, 10.43006473, 10.45107357, 10.65768326, 10.84235658,\n",
       "        10.98691273, 10.24831069, 10.21238314, 10.39067112, 10.05641156],\n",
       "       [10.59345488, 10.96831242, 10.88014657, 10.6898448 , 10.29240075,\n",
       "        10.95685259, 10.21961025, 10.426194  , 10.41471214, 10.33970216],\n",
       "       [10.92787176, 10.92793639, 10.50230981, 10.79750958, 10.71233243,\n",
       "        10.60033515, 10.52348544, 10.58355198, 10.71165725, 10.23048085]])"
      ]
     },
     "execution_count": 9,
     "metadata": {},
     "output_type": "execute_result"
    }
   ],
   "source": [
    "a"
   ]
  },
  {
   "cell_type": "code",
   "execution_count": 10,
   "id": "1db6579b",
   "metadata": {},
   "outputs": [],
   "source": [
    "b = np.zeros((10,10))"
   ]
  },
  {
   "cell_type": "code",
   "execution_count": 11,
   "id": "5b4e4e47",
   "metadata": {},
   "outputs": [],
   "source": [
    "for x in range(10):\n",
    "    for y in range(10):\n",
    "        b[x][y] = b[x][y] + 10"
   ]
  },
  {
   "cell_type": "code",
   "execution_count": 12,
   "id": "cf6802db",
   "metadata": {},
   "outputs": [
    {
     "data": {
      "text/plain": [
       "array([[10., 10., 10., 10., 10., 10., 10., 10., 10., 10.],\n",
       "       [10., 10., 10., 10., 10., 10., 10., 10., 10., 10.],\n",
       "       [10., 10., 10., 10., 10., 10., 10., 10., 10., 10.],\n",
       "       [10., 10., 10., 10., 10., 10., 10., 10., 10., 10.],\n",
       "       [10., 10., 10., 10., 10., 10., 10., 10., 10., 10.],\n",
       "       [10., 10., 10., 10., 10., 10., 10., 10., 10., 10.],\n",
       "       [10., 10., 10., 10., 10., 10., 10., 10., 10., 10.],\n",
       "       [10., 10., 10., 10., 10., 10., 10., 10., 10., 10.],\n",
       "       [10., 10., 10., 10., 10., 10., 10., 10., 10., 10.],\n",
       "       [10., 10., 10., 10., 10., 10., 10., 10., 10., 10.]])"
      ]
     },
     "execution_count": 12,
     "metadata": {},
     "output_type": "execute_result"
    }
   ],
   "source": [
    "b\n"
   ]
  },
  {
   "cell_type": "code",
   "execution_count": 13,
   "id": "9f62f533",
   "metadata": {},
   "outputs": [],
   "source": [
    "start1 = time.time()"
   ]
  },
  {
   "cell_type": "code",
   "execution_count": 14,
   "id": "2397199a",
   "metadata": {},
   "outputs": [],
   "source": [
    "a = a + b"
   ]
  },
  {
   "cell_type": "code",
   "execution_count": 15,
   "id": "5103025d",
   "metadata": {},
   "outputs": [],
   "source": [
    "end1 = time.time()"
   ]
  },
  {
   "cell_type": "code",
   "execution_count": 16,
   "id": "1662ecdf",
   "metadata": {},
   "outputs": [
    {
     "data": {
      "text/plain": [
       "0.050050973892211914"
      ]
     },
     "execution_count": 16,
     "metadata": {},
     "output_type": "execute_result"
    }
   ],
   "source": [
    "time_taken1  = end1- start1\n",
    "time_taken1"
   ]
  },
  {
   "cell_type": "markdown",
   "id": "8daaf1c5",
   "metadata": {},
   "source": [
    "time_taken1 < time_taken"
   ]
  },
  {
   "cell_type": "code",
   "execution_count": 17,
   "id": "f0d3bdb0",
   "metadata": {},
   "outputs": [
    {
     "data": {
      "text/plain": [
       "array([[20.47949963, 20.7299345 , 20.90773463, 20.84141837, 20.867988  ,\n",
       "        20.31235114, 20.90253769, 20.36608185, 20.7321836 , 20.57726822],\n",
       "       [20.21516325, 20.57756153, 20.89818507, 20.81995957, 20.35060484,\n",
       "        20.82970734, 20.46323527, 20.32227353, 20.44831145, 20.83305571],\n",
       "       [20.00731276, 20.47727155, 20.81572745, 20.93915316, 20.30892678,\n",
       "        20.6533983 , 20.37823214, 20.22721625, 20.94567981, 20.84548707],\n",
       "       [20.83454918, 20.59649341, 20.79014112, 20.46593649, 20.3621356 ,\n",
       "        20.8649656 , 20.72665958, 20.06282294, 20.36523932, 20.98355808],\n",
       "       [20.7662607 , 20.61106074, 20.61188846, 20.98941861, 20.52545861,\n",
       "        20.56110447, 20.23778176, 20.73713815, 20.6909835 , 20.70079236],\n",
       "       [20.87581321, 20.33501248, 20.62943106, 20.77447654, 20.78880335,\n",
       "        20.92721142, 20.83887853, 20.31346104, 20.05256299, 20.15068996],\n",
       "       [20.06310261, 20.74676515, 20.25485637, 20.55354778, 20.90621103,\n",
       "        20.03757763, 20.01284579, 20.38834101, 20.16925152, 20.02201443],\n",
       "       [20.62583233, 20.43006473, 20.45107357, 20.65768326, 20.84235658,\n",
       "        20.98691273, 20.24831069, 20.21238314, 20.39067112, 20.05641156],\n",
       "       [20.59345488, 20.96831242, 20.88014657, 20.6898448 , 20.29240075,\n",
       "        20.95685259, 20.21961025, 20.426194  , 20.41471214, 20.33970216],\n",
       "       [20.92787176, 20.92793639, 20.50230981, 20.79750958, 20.71233243,\n",
       "        20.60033515, 20.52348544, 20.58355198, 20.71165725, 20.23048085]])"
      ]
     },
     "execution_count": 17,
     "metadata": {},
     "output_type": "execute_result"
    }
   ],
   "source": [
    "a\n"
   ]
  },
  {
   "cell_type": "markdown",
   "id": "afc7a53c",
   "metadata": {},
   "source": [
    "## Pandas"
   ]
  },
  {
   "cell_type": "code",
   "execution_count": 18,
   "id": "19c6bc6f",
   "metadata": {},
   "outputs": [],
   "source": [
    "data = [[21, 'Ram', 'Maths', 20, 100],[22, 'Rom', 'Eng', 20, 90],[25, 'Tam', 'Bio', 20, 96],[27, 'Kam', 'Maths', 21, 99],[39, 'Sam', 'Bio', 22, 98],[32, 'Lam', 'Maths', 25, 100],[29, 'Tom', 'Maths', 25, 90],[30 ,'Pam', 'Eng', 27, 99],[58, 'Bam', 'Maths', 25, 80],[45, 'Jam', 'Bio', 25, 99]]"
   ]
  },
  {
   "cell_type": "code",
   "execution_count": 19,
   "id": "1d461e82",
   "metadata": {},
   "outputs": [
    {
     "data": {
      "text/html": [
       "<div>\n",
       "<style scoped>\n",
       "    .dataframe tbody tr th:only-of-type {\n",
       "        vertical-align: middle;\n",
       "    }\n",
       "\n",
       "    .dataframe tbody tr th {\n",
       "        vertical-align: top;\n",
       "    }\n",
       "\n",
       "    .dataframe thead th {\n",
       "        text-align: right;\n",
       "    }\n",
       "</style>\n",
       "<table border=\"1\" class=\"dataframe\">\n",
       "  <thead>\n",
       "    <tr style=\"text-align: right;\">\n",
       "      <th></th>\n",
       "      <th>rollno</th>\n",
       "      <th>name</th>\n",
       "      <th>subject</th>\n",
       "      <th>age</th>\n",
       "      <th>marks</th>\n",
       "    </tr>\n",
       "  </thead>\n",
       "  <tbody>\n",
       "    <tr>\n",
       "      <th>0</th>\n",
       "      <td>21</td>\n",
       "      <td>Ram</td>\n",
       "      <td>Maths</td>\n",
       "      <td>20</td>\n",
       "      <td>100</td>\n",
       "    </tr>\n",
       "    <tr>\n",
       "      <th>1</th>\n",
       "      <td>22</td>\n",
       "      <td>Rom</td>\n",
       "      <td>Eng</td>\n",
       "      <td>20</td>\n",
       "      <td>90</td>\n",
       "    </tr>\n",
       "    <tr>\n",
       "      <th>2</th>\n",
       "      <td>25</td>\n",
       "      <td>Tam</td>\n",
       "      <td>Bio</td>\n",
       "      <td>20</td>\n",
       "      <td>96</td>\n",
       "    </tr>\n",
       "    <tr>\n",
       "      <th>3</th>\n",
       "      <td>27</td>\n",
       "      <td>Kam</td>\n",
       "      <td>Maths</td>\n",
       "      <td>21</td>\n",
       "      <td>99</td>\n",
       "    </tr>\n",
       "    <tr>\n",
       "      <th>4</th>\n",
       "      <td>39</td>\n",
       "      <td>Sam</td>\n",
       "      <td>Bio</td>\n",
       "      <td>22</td>\n",
       "      <td>98</td>\n",
       "    </tr>\n",
       "    <tr>\n",
       "      <th>5</th>\n",
       "      <td>32</td>\n",
       "      <td>Lam</td>\n",
       "      <td>Maths</td>\n",
       "      <td>25</td>\n",
       "      <td>100</td>\n",
       "    </tr>\n",
       "    <tr>\n",
       "      <th>6</th>\n",
       "      <td>29</td>\n",
       "      <td>Tom</td>\n",
       "      <td>Maths</td>\n",
       "      <td>25</td>\n",
       "      <td>90</td>\n",
       "    </tr>\n",
       "    <tr>\n",
       "      <th>7</th>\n",
       "      <td>30</td>\n",
       "      <td>Pam</td>\n",
       "      <td>Eng</td>\n",
       "      <td>27</td>\n",
       "      <td>99</td>\n",
       "    </tr>\n",
       "    <tr>\n",
       "      <th>8</th>\n",
       "      <td>58</td>\n",
       "      <td>Bam</td>\n",
       "      <td>Maths</td>\n",
       "      <td>25</td>\n",
       "      <td>80</td>\n",
       "    </tr>\n",
       "    <tr>\n",
       "      <th>9</th>\n",
       "      <td>45</td>\n",
       "      <td>Jam</td>\n",
       "      <td>Bio</td>\n",
       "      <td>25</td>\n",
       "      <td>99</td>\n",
       "    </tr>\n",
       "  </tbody>\n",
       "</table>\n",
       "</div>"
      ],
      "text/plain": [
       "   rollno name subject  age  marks\n",
       "0      21  Ram   Maths   20    100\n",
       "1      22  Rom     Eng   20     90\n",
       "2      25  Tam     Bio   20     96\n",
       "3      27  Kam   Maths   21     99\n",
       "4      39  Sam     Bio   22     98\n",
       "5      32  Lam   Maths   25    100\n",
       "6      29  Tom   Maths   25     90\n",
       "7      30  Pam     Eng   27     99\n",
       "8      58  Bam   Maths   25     80\n",
       "9      45  Jam     Bio   25     99"
      ]
     },
     "execution_count": 19,
     "metadata": {},
     "output_type": "execute_result"
    }
   ],
   "source": [
    "d = pd.DataFrame(data, columns=['rollno', 'name', 'subject', 'age', 'marks'])\n",
    "d\n"
   ]
  },
  {
   "cell_type": "code",
   "execution_count": 20,
   "id": "9c472e51",
   "metadata": {},
   "outputs": [],
   "source": [
    "sumn =  d.marks.sum()"
   ]
  },
  {
   "cell_type": "code",
   "execution_count": 21,
   "id": "588ed823",
   "metadata": {},
   "outputs": [
    {
     "data": {
      "text/plain": [
       "951"
      ]
     },
     "execution_count": 21,
     "metadata": {},
     "output_type": "execute_result"
    }
   ],
   "source": [
    "sumn"
   ]
  },
  {
   "cell_type": "code",
   "execution_count": 22,
   "id": "c747ba9f",
   "metadata": {},
   "outputs": [],
   "source": [
    "mean = d.marks.mean()"
   ]
  },
  {
   "cell_type": "code",
   "execution_count": 23,
   "id": "3ba636f2",
   "metadata": {},
   "outputs": [
    {
     "data": {
      "text/plain": [
       "95.1"
      ]
     },
     "execution_count": 23,
     "metadata": {},
     "output_type": "execute_result"
    }
   ],
   "source": [
    "mean"
   ]
  },
  {
   "cell_type": "code",
   "execution_count": 24,
   "id": "8ee1e4aa",
   "metadata": {},
   "outputs": [],
   "source": [
    "max = d.marks.max()"
   ]
  },
  {
   "cell_type": "code",
   "execution_count": 25,
   "id": "f20f848c",
   "metadata": {},
   "outputs": [
    {
     "data": {
      "text/plain": [
       "100"
      ]
     },
     "execution_count": 25,
     "metadata": {},
     "output_type": "execute_result"
    }
   ],
   "source": [
    "max"
   ]
  },
  {
   "cell_type": "code",
   "execution_count": 26,
   "id": "af58f4e1",
   "metadata": {},
   "outputs": [],
   "source": [
    "min = d.marks.min()"
   ]
  },
  {
   "cell_type": "code",
   "execution_count": 27,
   "id": "8f34e313",
   "metadata": {},
   "outputs": [
    {
     "data": {
      "text/plain": [
       "80"
      ]
     },
     "execution_count": 27,
     "metadata": {},
     "output_type": "execute_result"
    }
   ],
   "source": [
    "min"
   ]
  },
  {
   "cell_type": "markdown",
   "id": "2c66d1bb",
   "metadata": {},
   "source": [
    "sd = d.marks.std()"
   ]
  },
  {
   "cell_type": "code",
   "execution_count": 28,
   "id": "336a4c62",
   "metadata": {},
   "outputs": [],
   "source": [
    "sd = d.marks.std()"
   ]
  },
  {
   "cell_type": "code",
   "execution_count": 29,
   "id": "a9509a10",
   "metadata": {},
   "outputs": [
    {
     "data": {
      "text/plain": [
       "6.5226102477799826"
      ]
     },
     "execution_count": 29,
     "metadata": {},
     "output_type": "execute_result"
    }
   ],
   "source": [
    "sd"
   ]
  },
  {
   "cell_type": "code",
   "execution_count": 30,
   "id": "808e76ec",
   "metadata": {},
   "outputs": [],
   "source": [
    "median = d.marks.median()"
   ]
  },
  {
   "cell_type": "code",
   "execution_count": 31,
   "id": "2ea0c960",
   "metadata": {},
   "outputs": [
    {
     "data": {
      "text/plain": [
       "98.5"
      ]
     },
     "execution_count": 31,
     "metadata": {},
     "output_type": "execute_result"
    }
   ],
   "source": [
    "median"
   ]
  },
  {
   "cell_type": "markdown",
   "id": "98d7b07a",
   "metadata": {},
   "source": [
    "## Sum"
   ]
  },
  {
   "cell_type": "code",
   "execution_count": 32,
   "id": "8b695597",
   "metadata": {},
   "outputs": [],
   "source": [
    "sum1 = 5+6+7+8+9"
   ]
  },
  {
   "cell_type": "code",
   "execution_count": 33,
   "id": "30768a0c",
   "metadata": {},
   "outputs": [
    {
     "data": {
      "text/plain": [
       "35"
      ]
     },
     "execution_count": 33,
     "metadata": {},
     "output_type": "execute_result"
    }
   ],
   "source": [
    "sum1"
   ]
  },
  {
   "cell_type": "code",
   "execution_count": 34,
   "id": "38a75919",
   "metadata": {},
   "outputs": [],
   "source": [
    "list = [5,6,7,8,9]"
   ]
  },
  {
   "cell_type": "code",
   "execution_count": 35,
   "id": "5a9a382d",
   "metadata": {},
   "outputs": [],
   "source": [
    "sum2 = sum(list)"
   ]
  },
  {
   "cell_type": "markdown",
   "id": "07e99c8d",
   "metadata": {},
   "source": []
  },
  {
   "cell_type": "code",
   "execution_count": 36,
   "id": "e787530b",
   "metadata": {},
   "outputs": [
    {
     "data": {
      "text/plain": [
       "35"
      ]
     },
     "execution_count": 36,
     "metadata": {},
     "output_type": "execute_result"
    }
   ],
   "source": [
    "sum2"
   ]
  },
  {
   "cell_type": "markdown",
   "id": "79de863f",
   "metadata": {},
   "source": [
    "## Strings"
   ]
  },
  {
   "cell_type": "code",
   "execution_count": 37,
   "id": "e65d7ef9",
   "metadata": {},
   "outputs": [
    {
     "name": "stdout",
     "output_type": "stream",
     "text": [
      "Enter string1 yay\n"
     ]
    }
   ],
   "source": [
    "str1 = input(\"Enter string1 \")"
   ]
  },
  {
   "cell_type": "code",
   "execution_count": 38,
   "id": "20974027",
   "metadata": {},
   "outputs": [
    {
     "name": "stdout",
     "output_type": "stream",
     "text": [
      "Enter string2 yay\n"
     ]
    }
   ],
   "source": [
    "str2 = input(\"Enter string2 \")"
   ]
  },
  {
   "cell_type": "code",
   "execution_count": 39,
   "id": "1a9bce3f",
   "metadata": {},
   "outputs": [
    {
     "name": "stdout",
     "output_type": "stream",
     "text": [
      "Anagram\n"
     ]
    }
   ],
   "source": [
    "if(len(str1)==len(str2)):\n",
    "    str1 = sorted(str1)\n",
    "    str2 = sorted(str2)\n",
    "    if(str1 == str2):\n",
    "        print(\"Anagram\")\n",
    "    else:\n",
    "        print(\"Not an Anagram\")\n",
    "else:\n",
    "    print(\"Not Anagram\")\n",
    "    \n",
    "    "
   ]
  },
  {
   "cell_type": "markdown",
   "id": "db4430ea",
   "metadata": {},
   "source": [
    "## Rnadint"
   ]
  },
  {
   "cell_type": "code",
   "execution_count": 40,
   "id": "b5cb97ec",
   "metadata": {},
   "outputs": [],
   "source": [
    "l1 = []"
   ]
  },
  {
   "cell_type": "code",
   "execution_count": 41,
   "id": "2a97c800",
   "metadata": {},
   "outputs": [],
   "source": [
    "l1.append(np.random.randint(5,9))"
   ]
  },
  {
   "cell_type": "code",
   "execution_count": 42,
   "id": "4d2c616d",
   "metadata": {},
   "outputs": [],
   "source": [
    "for x in range(9):\n",
    "    l1.append(np.random.randint(5,9))"
   ]
  },
  {
   "cell_type": "code",
   "execution_count": 43,
   "id": "b0c4f226",
   "metadata": {},
   "outputs": [
    {
     "data": {
      "text/plain": [
       "[7, 7, 8, 8, 7, 5, 6, 8, 5, 6]"
      ]
     },
     "execution_count": 43,
     "metadata": {},
     "output_type": "execute_result"
    }
   ],
   "source": [
    "l1"
   ]
  },
  {
   "cell_type": "code",
   "execution_count": 44,
   "id": "078b485e",
   "metadata": {},
   "outputs": [
    {
     "data": {
      "text/plain": [
       "array([5, 6, 7, 8])"
      ]
     },
     "execution_count": 44,
     "metadata": {},
     "output_type": "execute_result"
    }
   ],
   "source": [
    "np.unique(l1)"
   ]
  },
  {
   "cell_type": "code",
   "execution_count": 45,
   "id": "6a54aca3",
   "metadata": {},
   "outputs": [
    {
     "data": {
      "text/plain": [
       "7    3\n",
       "8    3\n",
       "5    2\n",
       "6    2\n",
       "dtype: int64"
      ]
     },
     "execution_count": 45,
     "metadata": {},
     "output_type": "execute_result"
    }
   ],
   "source": [
    "pd.value_counts(l1)"
   ]
  },
  {
   "cell_type": "code",
   "execution_count": 46,
   "id": "607a2edb",
   "metadata": {},
   "outputs": [],
   "source": [
    "l2 = pd.DataFrame(pd.value_counts(l1).reset_index())"
   ]
  },
  {
   "cell_type": "code",
   "execution_count": 47,
   "id": "26eb4df3",
   "metadata": {},
   "outputs": [
    {
     "data": {
      "text/plain": [
       "Index(['index', 0], dtype='object')"
      ]
     },
     "execution_count": 47,
     "metadata": {},
     "output_type": "execute_result"
    }
   ],
   "source": [
    "l2.columns\n"
   ]
  },
  {
   "cell_type": "code",
   "execution_count": 48,
   "id": "baac099c",
   "metadata": {},
   "outputs": [],
   "source": [
    "l2.columns = ['data', 'count']"
   ]
  },
  {
   "cell_type": "code",
   "execution_count": 49,
   "id": "9a118e7b",
   "metadata": {},
   "outputs": [
    {
     "data": {
      "text/plain": [
       "Index(['data', 'count'], dtype='object')"
      ]
     },
     "execution_count": 49,
     "metadata": {},
     "output_type": "execute_result"
    }
   ],
   "source": [
    "l2.columns"
   ]
  },
  {
   "cell_type": "code",
   "execution_count": 50,
   "id": "1d8f1f4f",
   "metadata": {},
   "outputs": [
    {
     "data": {
      "text/html": [
       "<div>\n",
       "<style scoped>\n",
       "    .dataframe tbody tr th:only-of-type {\n",
       "        vertical-align: middle;\n",
       "    }\n",
       "\n",
       "    .dataframe tbody tr th {\n",
       "        vertical-align: top;\n",
       "    }\n",
       "\n",
       "    .dataframe thead th {\n",
       "        text-align: right;\n",
       "    }\n",
       "</style>\n",
       "<table border=\"1\" class=\"dataframe\">\n",
       "  <thead>\n",
       "    <tr style=\"text-align: right;\">\n",
       "      <th></th>\n",
       "      <th>data</th>\n",
       "      <th>count</th>\n",
       "    </tr>\n",
       "  </thead>\n",
       "  <tbody>\n",
       "    <tr>\n",
       "      <th>0</th>\n",
       "      <td>7</td>\n",
       "      <td>3</td>\n",
       "    </tr>\n",
       "    <tr>\n",
       "      <th>1</th>\n",
       "      <td>8</td>\n",
       "      <td>3</td>\n",
       "    </tr>\n",
       "    <tr>\n",
       "      <th>2</th>\n",
       "      <td>5</td>\n",
       "      <td>2</td>\n",
       "    </tr>\n",
       "    <tr>\n",
       "      <th>3</th>\n",
       "      <td>6</td>\n",
       "      <td>2</td>\n",
       "    </tr>\n",
       "  </tbody>\n",
       "</table>\n",
       "</div>"
      ],
      "text/plain": [
       "   data  count\n",
       "0     7      3\n",
       "1     8      3\n",
       "2     5      2\n",
       "3     6      2"
      ]
     },
     "execution_count": 50,
     "metadata": {},
     "output_type": "execute_result"
    }
   ],
   "source": [
    "l2"
   ]
  },
  {
   "cell_type": "code",
   "execution_count": 51,
   "id": "d79c10ff",
   "metadata": {},
   "outputs": [
    {
     "data": {
      "text/plain": [
       "3"
      ]
     },
     "execution_count": 51,
     "metadata": {},
     "output_type": "execute_result"
    }
   ],
   "source": [
    "np.max(l2['count'])"
   ]
  },
  {
   "cell_type": "code",
   "execution_count": 52,
   "id": "3f316f78",
   "metadata": {},
   "outputs": [
    {
     "data": {
      "text/plain": [
       "7"
      ]
     },
     "execution_count": 52,
     "metadata": {},
     "output_type": "execute_result"
    }
   ],
   "source": [
    "l2.data[0]"
   ]
  },
  {
   "cell_type": "markdown",
   "id": "58db8b79",
   "metadata": {},
   "source": [
    "## List"
   ]
  },
  {
   "cell_type": "code",
   "execution_count": 53,
   "id": "30e0e695",
   "metadata": {},
   "outputs": [],
   "source": [
    "l2 = []"
   ]
  },
  {
   "cell_type": "code",
   "execution_count": 54,
   "id": "6c55195a",
   "metadata": {},
   "outputs": [],
   "source": [
    "l3 = []"
   ]
  },
  {
   "cell_type": "code",
   "execution_count": 55,
   "id": "47cbb54d",
   "metadata": {},
   "outputs": [],
   "source": [
    "for x in range(10):\n",
    "    l2.append(np.random.randint(40,49))"
   ]
  },
  {
   "cell_type": "code",
   "execution_count": 56,
   "id": "fac333f4",
   "metadata": {},
   "outputs": [],
   "source": [
    "for x in range(10):\n",
    "    l3.append(np.random.randint(41,48))"
   ]
  },
  {
   "cell_type": "code",
   "execution_count": 57,
   "id": "822d829c",
   "metadata": {},
   "outputs": [],
   "source": [
    "l4 = []"
   ]
  },
  {
   "cell_type": "code",
   "execution_count": 58,
   "id": "0620ae13",
   "metadata": {},
   "outputs": [],
   "source": [
    "y = 0\n",
    "z = 0\n",
    "for x in range(10):\n",
    "    if(x%2==0):\n",
    "        l4.append(l2[y])\n",
    "        y=y+1\n",
    "    else:\n",
    "        l4.append(l3[z])\n",
    "        z=z+1"
   ]
  },
  {
   "cell_type": "code",
   "execution_count": 59,
   "id": "31d49725",
   "metadata": {},
   "outputs": [
    {
     "data": {
      "text/plain": [
       "[42, 47, 43, 47, 43, 41, 44, 46, 45, 43]"
      ]
     },
     "execution_count": 59,
     "metadata": {},
     "output_type": "execute_result"
    }
   ],
   "source": [
    "l4"
   ]
  },
  {
   "cell_type": "markdown",
   "id": "da8cf98b",
   "metadata": {},
   "source": []
  },
  {
   "cell_type": "code",
   "execution_count": 60,
   "id": "7acf7f92",
   "metadata": {},
   "outputs": [],
   "source": [
    "def listunique(l):\n",
    "    l2 = []\n",
    "    l2 = pd.unique(l)\n",
    "    return l2"
   ]
  },
  {
   "cell_type": "code",
   "execution_count": 61,
   "id": "d4a00ef6",
   "metadata": {},
   "outputs": [
    {
     "data": {
      "text/plain": [
       "array([42, 47, 43, 41, 44, 46, 45])"
      ]
     },
     "execution_count": 61,
     "metadata": {},
     "output_type": "execute_result"
    }
   ],
   "source": [
    "listunique(l4)"
   ]
  },
  {
   "cell_type": "code",
   "execution_count": null,
   "id": "036a8026",
   "metadata": {},
   "outputs": [],
   "source": []
  },
  {
   "cell_type": "code",
   "execution_count": 62,
   "id": "fefb6ffe",
   "metadata": {},
   "outputs": [],
   "source": [
    "arr = np.random.random((20,5))"
   ]
  },
  {
   "cell_type": "code",
   "execution_count": 63,
   "id": "7bc43890",
   "metadata": {},
   "outputs": [],
   "source": [
    "df = pd.DataFrame(arr)"
   ]
  },
  {
   "cell_type": "code",
   "execution_count": 64,
   "id": "37229dd3",
   "metadata": {},
   "outputs": [
    {
     "data": {
      "text/html": [
       "<div>\n",
       "<style scoped>\n",
       "    .dataframe tbody tr th:only-of-type {\n",
       "        vertical-align: middle;\n",
       "    }\n",
       "\n",
       "    .dataframe tbody tr th {\n",
       "        vertical-align: top;\n",
       "    }\n",
       "\n",
       "    .dataframe thead th {\n",
       "        text-align: right;\n",
       "    }\n",
       "</style>\n",
       "<table border=\"1\" class=\"dataframe\">\n",
       "  <thead>\n",
       "    <tr style=\"text-align: right;\">\n",
       "      <th></th>\n",
       "      <th>0</th>\n",
       "      <th>1</th>\n",
       "      <th>2</th>\n",
       "      <th>3</th>\n",
       "      <th>4</th>\n",
       "    </tr>\n",
       "  </thead>\n",
       "  <tbody>\n",
       "    <tr>\n",
       "      <th>0</th>\n",
       "      <td>0.169036</td>\n",
       "      <td>0.604225</td>\n",
       "      <td>0.974579</td>\n",
       "      <td>0.340194</td>\n",
       "      <td>0.821884</td>\n",
       "    </tr>\n",
       "    <tr>\n",
       "      <th>1</th>\n",
       "      <td>0.467662</td>\n",
       "      <td>0.731890</td>\n",
       "      <td>0.875850</td>\n",
       "      <td>0.562026</td>\n",
       "      <td>0.962575</td>\n",
       "    </tr>\n",
       "    <tr>\n",
       "      <th>2</th>\n",
       "      <td>0.379170</td>\n",
       "      <td>0.172032</td>\n",
       "      <td>0.401844</td>\n",
       "      <td>0.285978</td>\n",
       "      <td>0.736278</td>\n",
       "    </tr>\n",
       "    <tr>\n",
       "      <th>3</th>\n",
       "      <td>0.481863</td>\n",
       "      <td>0.894420</td>\n",
       "      <td>0.204522</td>\n",
       "      <td>0.298507</td>\n",
       "      <td>0.438222</td>\n",
       "    </tr>\n",
       "    <tr>\n",
       "      <th>4</th>\n",
       "      <td>0.095290</td>\n",
       "      <td>0.379279</td>\n",
       "      <td>0.689071</td>\n",
       "      <td>0.757711</td>\n",
       "      <td>0.474623</td>\n",
       "    </tr>\n",
       "    <tr>\n",
       "      <th>5</th>\n",
       "      <td>0.912176</td>\n",
       "      <td>0.080567</td>\n",
       "      <td>0.330251</td>\n",
       "      <td>0.450467</td>\n",
       "      <td>0.361352</td>\n",
       "    </tr>\n",
       "    <tr>\n",
       "      <th>6</th>\n",
       "      <td>0.768772</td>\n",
       "      <td>0.075066</td>\n",
       "      <td>0.960665</td>\n",
       "      <td>0.680530</td>\n",
       "      <td>0.218190</td>\n",
       "    </tr>\n",
       "    <tr>\n",
       "      <th>7</th>\n",
       "      <td>0.081634</td>\n",
       "      <td>0.773598</td>\n",
       "      <td>0.449748</td>\n",
       "      <td>0.248598</td>\n",
       "      <td>0.756895</td>\n",
       "    </tr>\n",
       "    <tr>\n",
       "      <th>8</th>\n",
       "      <td>0.375988</td>\n",
       "      <td>0.920646</td>\n",
       "      <td>0.546160</td>\n",
       "      <td>0.592725</td>\n",
       "      <td>0.252656</td>\n",
       "    </tr>\n",
       "    <tr>\n",
       "      <th>9</th>\n",
       "      <td>0.540385</td>\n",
       "      <td>0.273475</td>\n",
       "      <td>0.788138</td>\n",
       "      <td>0.745048</td>\n",
       "      <td>0.025959</td>\n",
       "    </tr>\n",
       "    <tr>\n",
       "      <th>10</th>\n",
       "      <td>0.654807</td>\n",
       "      <td>0.880676</td>\n",
       "      <td>0.118057</td>\n",
       "      <td>0.694154</td>\n",
       "      <td>0.703018</td>\n",
       "    </tr>\n",
       "    <tr>\n",
       "      <th>11</th>\n",
       "      <td>0.630330</td>\n",
       "      <td>0.893980</td>\n",
       "      <td>0.229399</td>\n",
       "      <td>0.392713</td>\n",
       "      <td>0.030741</td>\n",
       "    </tr>\n",
       "    <tr>\n",
       "      <th>12</th>\n",
       "      <td>0.329964</td>\n",
       "      <td>0.787496</td>\n",
       "      <td>0.307025</td>\n",
       "      <td>0.398446</td>\n",
       "      <td>0.688082</td>\n",
       "    </tr>\n",
       "    <tr>\n",
       "      <th>13</th>\n",
       "      <td>0.705315</td>\n",
       "      <td>0.294342</td>\n",
       "      <td>0.029271</td>\n",
       "      <td>0.565789</td>\n",
       "      <td>0.462181</td>\n",
       "    </tr>\n",
       "    <tr>\n",
       "      <th>14</th>\n",
       "      <td>0.120313</td>\n",
       "      <td>0.350359</td>\n",
       "      <td>0.418183</td>\n",
       "      <td>0.350483</td>\n",
       "      <td>0.347565</td>\n",
       "    </tr>\n",
       "    <tr>\n",
       "      <th>15</th>\n",
       "      <td>0.737518</td>\n",
       "      <td>0.260163</td>\n",
       "      <td>0.943404</td>\n",
       "      <td>0.033083</td>\n",
       "      <td>0.488041</td>\n",
       "    </tr>\n",
       "    <tr>\n",
       "      <th>16</th>\n",
       "      <td>0.812742</td>\n",
       "      <td>0.432322</td>\n",
       "      <td>0.772308</td>\n",
       "      <td>0.279239</td>\n",
       "      <td>0.303492</td>\n",
       "    </tr>\n",
       "    <tr>\n",
       "      <th>17</th>\n",
       "      <td>0.509145</td>\n",
       "      <td>0.236081</td>\n",
       "      <td>0.567214</td>\n",
       "      <td>0.938516</td>\n",
       "      <td>0.793045</td>\n",
       "    </tr>\n",
       "    <tr>\n",
       "      <th>18</th>\n",
       "      <td>0.436958</td>\n",
       "      <td>0.093294</td>\n",
       "      <td>0.425973</td>\n",
       "      <td>0.366804</td>\n",
       "      <td>0.258622</td>\n",
       "    </tr>\n",
       "    <tr>\n",
       "      <th>19</th>\n",
       "      <td>0.541438</td>\n",
       "      <td>0.047158</td>\n",
       "      <td>0.304378</td>\n",
       "      <td>0.293191</td>\n",
       "      <td>0.629110</td>\n",
       "    </tr>\n",
       "  </tbody>\n",
       "</table>\n",
       "</div>"
      ],
      "text/plain": [
       "           0         1         2         3         4\n",
       "0   0.169036  0.604225  0.974579  0.340194  0.821884\n",
       "1   0.467662  0.731890  0.875850  0.562026  0.962575\n",
       "2   0.379170  0.172032  0.401844  0.285978  0.736278\n",
       "3   0.481863  0.894420  0.204522  0.298507  0.438222\n",
       "4   0.095290  0.379279  0.689071  0.757711  0.474623\n",
       "5   0.912176  0.080567  0.330251  0.450467  0.361352\n",
       "6   0.768772  0.075066  0.960665  0.680530  0.218190\n",
       "7   0.081634  0.773598  0.449748  0.248598  0.756895\n",
       "8   0.375988  0.920646  0.546160  0.592725  0.252656\n",
       "9   0.540385  0.273475  0.788138  0.745048  0.025959\n",
       "10  0.654807  0.880676  0.118057  0.694154  0.703018\n",
       "11  0.630330  0.893980  0.229399  0.392713  0.030741\n",
       "12  0.329964  0.787496  0.307025  0.398446  0.688082\n",
       "13  0.705315  0.294342  0.029271  0.565789  0.462181\n",
       "14  0.120313  0.350359  0.418183  0.350483  0.347565\n",
       "15  0.737518  0.260163  0.943404  0.033083  0.488041\n",
       "16  0.812742  0.432322  0.772308  0.279239  0.303492\n",
       "17  0.509145  0.236081  0.567214  0.938516  0.793045\n",
       "18  0.436958  0.093294  0.425973  0.366804  0.258622\n",
       "19  0.541438  0.047158  0.304378  0.293191  0.629110"
      ]
     },
     "execution_count": 64,
     "metadata": {},
     "output_type": "execute_result"
    }
   ],
   "source": [
    "df"
   ]
  },
  {
   "cell_type": "code",
   "execution_count": 65,
   "id": "e5dac1e0",
   "metadata": {},
   "outputs": [],
   "source": [
    "brr = df.head(10)"
   ]
  },
  {
   "cell_type": "code",
   "execution_count": 66,
   "id": "19e54a07",
   "metadata": {},
   "outputs": [
    {
     "data": {
      "text/html": [
       "<div>\n",
       "<style scoped>\n",
       "    .dataframe tbody tr th:only-of-type {\n",
       "        vertical-align: middle;\n",
       "    }\n",
       "\n",
       "    .dataframe tbody tr th {\n",
       "        vertical-align: top;\n",
       "    }\n",
       "\n",
       "    .dataframe thead th {\n",
       "        text-align: right;\n",
       "    }\n",
       "</style>\n",
       "<table border=\"1\" class=\"dataframe\">\n",
       "  <thead>\n",
       "    <tr style=\"text-align: right;\">\n",
       "      <th></th>\n",
       "      <th>0</th>\n",
       "      <th>1</th>\n",
       "      <th>2</th>\n",
       "      <th>3</th>\n",
       "      <th>4</th>\n",
       "    </tr>\n",
       "  </thead>\n",
       "  <tbody>\n",
       "    <tr>\n",
       "      <th>0</th>\n",
       "      <td>0.169036</td>\n",
       "      <td>0.604225</td>\n",
       "      <td>0.974579</td>\n",
       "      <td>0.340194</td>\n",
       "      <td>0.821884</td>\n",
       "    </tr>\n",
       "    <tr>\n",
       "      <th>1</th>\n",
       "      <td>0.467662</td>\n",
       "      <td>0.731890</td>\n",
       "      <td>0.875850</td>\n",
       "      <td>0.562026</td>\n",
       "      <td>0.962575</td>\n",
       "    </tr>\n",
       "    <tr>\n",
       "      <th>2</th>\n",
       "      <td>0.379170</td>\n",
       "      <td>0.172032</td>\n",
       "      <td>0.401844</td>\n",
       "      <td>0.285978</td>\n",
       "      <td>0.736278</td>\n",
       "    </tr>\n",
       "    <tr>\n",
       "      <th>3</th>\n",
       "      <td>0.481863</td>\n",
       "      <td>0.894420</td>\n",
       "      <td>0.204522</td>\n",
       "      <td>0.298507</td>\n",
       "      <td>0.438222</td>\n",
       "    </tr>\n",
       "    <tr>\n",
       "      <th>4</th>\n",
       "      <td>0.095290</td>\n",
       "      <td>0.379279</td>\n",
       "      <td>0.689071</td>\n",
       "      <td>0.757711</td>\n",
       "      <td>0.474623</td>\n",
       "    </tr>\n",
       "    <tr>\n",
       "      <th>5</th>\n",
       "      <td>0.912176</td>\n",
       "      <td>0.080567</td>\n",
       "      <td>0.330251</td>\n",
       "      <td>0.450467</td>\n",
       "      <td>0.361352</td>\n",
       "    </tr>\n",
       "    <tr>\n",
       "      <th>6</th>\n",
       "      <td>0.768772</td>\n",
       "      <td>0.075066</td>\n",
       "      <td>0.960665</td>\n",
       "      <td>0.680530</td>\n",
       "      <td>0.218190</td>\n",
       "    </tr>\n",
       "    <tr>\n",
       "      <th>7</th>\n",
       "      <td>0.081634</td>\n",
       "      <td>0.773598</td>\n",
       "      <td>0.449748</td>\n",
       "      <td>0.248598</td>\n",
       "      <td>0.756895</td>\n",
       "    </tr>\n",
       "    <tr>\n",
       "      <th>8</th>\n",
       "      <td>0.375988</td>\n",
       "      <td>0.920646</td>\n",
       "      <td>0.546160</td>\n",
       "      <td>0.592725</td>\n",
       "      <td>0.252656</td>\n",
       "    </tr>\n",
       "    <tr>\n",
       "      <th>9</th>\n",
       "      <td>0.540385</td>\n",
       "      <td>0.273475</td>\n",
       "      <td>0.788138</td>\n",
       "      <td>0.745048</td>\n",
       "      <td>0.025959</td>\n",
       "    </tr>\n",
       "  </tbody>\n",
       "</table>\n",
       "</div>"
      ],
      "text/plain": [
       "          0         1         2         3         4\n",
       "0  0.169036  0.604225  0.974579  0.340194  0.821884\n",
       "1  0.467662  0.731890  0.875850  0.562026  0.962575\n",
       "2  0.379170  0.172032  0.401844  0.285978  0.736278\n",
       "3  0.481863  0.894420  0.204522  0.298507  0.438222\n",
       "4  0.095290  0.379279  0.689071  0.757711  0.474623\n",
       "5  0.912176  0.080567  0.330251  0.450467  0.361352\n",
       "6  0.768772  0.075066  0.960665  0.680530  0.218190\n",
       "7  0.081634  0.773598  0.449748  0.248598  0.756895\n",
       "8  0.375988  0.920646  0.546160  0.592725  0.252656\n",
       "9  0.540385  0.273475  0.788138  0.745048  0.025959"
      ]
     },
     "execution_count": 66,
     "metadata": {},
     "output_type": "execute_result"
    }
   ],
   "source": [
    "brr"
   ]
  },
  {
   "cell_type": "code",
   "execution_count": 67,
   "id": "aa058ba4",
   "metadata": {},
   "outputs": [],
   "source": [
    "s = \"-100#^sdfkj8902w3ir021@swf-20\""
   ]
  },
  {
   "cell_type": "markdown",
   "id": "d6702f58",
   "metadata": {},
   "source": []
  },
  {
   "cell_type": "code",
   "execution_count": 68,
   "id": "1e22dbfa",
   "metadata": {},
   "outputs": [],
   "source": [
    "t = np.array([ 5, 16, 62, 23, 7, 12, 18, 3, 1])"
   ]
  },
  {
   "cell_type": "code",
   "execution_count": 69,
   "id": "1aa7ce8f",
   "metadata": {},
   "outputs": [],
   "source": [
    "ro = t[4:]"
   ]
  },
  {
   "cell_type": "code",
   "execution_count": 70,
   "id": "e1e034d5",
   "metadata": {},
   "outputs": [
    {
     "data": {
      "text/plain": [
       "array([ 7, 12, 18,  3,  1])"
      ]
     },
     "execution_count": 70,
     "metadata": {},
     "output_type": "execute_result"
    }
   ],
   "source": [
    "ro"
   ]
  },
  {
   "cell_type": "code",
   "execution_count": 71,
   "id": "058206ab",
   "metadata": {},
   "outputs": [],
   "source": [
    "p = np . append(ro,t[0:4])"
   ]
  },
  {
   "cell_type": "code",
   "execution_count": 72,
   "id": "af3ff9b9",
   "metadata": {},
   "outputs": [
    {
     "data": {
      "text/plain": [
       "array([ 7, 12, 18,  3,  1,  5, 16, 62, 23])"
      ]
     },
     "execution_count": 72,
     "metadata": {},
     "output_type": "execute_result"
    }
   ],
   "source": [
    "p"
   ]
  },
  {
   "cell_type": "markdown",
   "id": "19da5712",
   "metadata": {},
   "source": [
    "## Transpose and Flatten"
   ]
  },
  {
   "cell_type": "code",
   "execution_count": 94,
   "id": "4d550bed",
   "metadata": {},
   "outputs": [
    {
     "name": "stdout",
     "output_type": "stream",
     "text": [
      "Enter number of rows: 5\n",
      "Enter number of columns: 2\n",
      "1\n",
      "2\n",
      "3\n",
      "4\n",
      "5\n",
      "6\n",
      "7\n",
      "8\n",
      "9\n",
      "9\n",
      "1.0 2.0 \n",
      "3.0 4.0 \n",
      "5.0 6.0 \n",
      "7.0 8.0 \n",
      "9.0 9.0 \n"
     ]
    }
   ],
   "source": [
    "n = int(input(\"Enter number of rows: \"))\n",
    "m = int(input(\"Enter number of columns: \"))\n",
    "\n",
    "matrix = np.zeros((n,m))\n",
    "\n",
    "for i in range (n):\n",
    "    for j in range (m):\n",
    "        matrix[i][j] = int(input())\n",
    "        \n",
    "for i in range(n):\n",
    "    for j in range(m):\n",
    "        print(matrix[i][j],end = \" \")\n",
    "    print()\n",
    "    \n",
    "        "
   ]
  },
  {
   "cell_type": "code",
   "execution_count": 95,
   "id": "17a5f7ad",
   "metadata": {},
   "outputs": [],
   "source": [
    "matrixT = np.transpose(matrix)"
   ]
  },
  {
   "cell_type": "code",
   "execution_count": 96,
   "id": "e7e4ab5a",
   "metadata": {},
   "outputs": [
    {
     "data": {
      "text/plain": [
       "array([[1., 3., 5., 7., 9.],\n",
       "       [2., 4., 6., 8., 9.]])"
      ]
     },
     "execution_count": 96,
     "metadata": {},
     "output_type": "execute_result"
    }
   ],
   "source": [
    "matrixT\n"
   ]
  },
  {
   "cell_type": "code",
   "execution_count": 97,
   "id": "0acaea77",
   "metadata": {},
   "outputs": [
    {
     "data": {
      "text/plain": [
       "array([1., 2., 3., 4., 5., 6., 7., 8., 9., 9.])"
      ]
     },
     "execution_count": 97,
     "metadata": {},
     "output_type": "execute_result"
    }
   ],
   "source": [
    "matrix.flatten()"
   ]
  },
  {
   "cell_type": "markdown",
   "id": "c10c5c80",
   "metadata": {},
   "source": []
  },
  {
   "cell_type": "code",
   "execution_count": null,
   "id": "209c25fe",
   "metadata": {},
   "outputs": [],
   "source": []
  },
  {
   "cell_type": "code",
   "execution_count": null,
   "id": "ea42ca7c",
   "metadata": {},
   "outputs": [],
   "source": []
  },
  {
   "cell_type": "code",
   "execution_count": null,
   "id": "5bd5b257",
   "metadata": {},
   "outputs": [],
   "source": []
  },
  {
   "cell_type": "code",
   "execution_count": null,
   "id": "f85b76df",
   "metadata": {},
   "outputs": [],
   "source": []
  },
  {
   "cell_type": "code",
   "execution_count": null,
   "id": "32d0dbec",
   "metadata": {},
   "outputs": [],
   "source": []
  },
  {
   "cell_type": "code",
   "execution_count": null,
   "id": "37961d8d",
   "metadata": {},
   "outputs": [],
   "source": []
  },
  {
   "cell_type": "code",
   "execution_count": null,
   "id": "d9fffd53",
   "metadata": {},
   "outputs": [],
   "source": []
  },
  {
   "cell_type": "code",
   "execution_count": null,
   "id": "2317dc35",
   "metadata": {},
   "outputs": [],
   "source": []
  },
  {
   "cell_type": "code",
   "execution_count": null,
   "id": "51a6d7b0",
   "metadata": {},
   "outputs": [],
   "source": []
  },
  {
   "cell_type": "code",
   "execution_count": null,
   "id": "56a38988",
   "metadata": {},
   "outputs": [],
   "source": []
  },
  {
   "cell_type": "code",
   "execution_count": null,
   "id": "c6a8441a",
   "metadata": {},
   "outputs": [],
   "source": []
  },
  {
   "cell_type": "code",
   "execution_count": null,
   "id": "a7bc6406",
   "metadata": {},
   "outputs": [],
   "source": []
  },
  {
   "cell_type": "code",
   "execution_count": null,
   "id": "88d1104e",
   "metadata": {},
   "outputs": [],
   "source": []
  },
  {
   "cell_type": "code",
   "execution_count": null,
   "id": "debf8d47",
   "metadata": {},
   "outputs": [],
   "source": []
  },
  {
   "cell_type": "code",
   "execution_count": null,
   "id": "2c2570d4",
   "metadata": {},
   "outputs": [],
   "source": []
  },
  {
   "cell_type": "code",
   "execution_count": null,
   "id": "3ac3a09f",
   "metadata": {},
   "outputs": [],
   "source": []
  },
  {
   "cell_type": "code",
   "execution_count": null,
   "id": "6cfc7952",
   "metadata": {},
   "outputs": [],
   "source": []
  },
  {
   "cell_type": "code",
   "execution_count": null,
   "id": "0d9283a8",
   "metadata": {},
   "outputs": [],
   "source": []
  },
  {
   "cell_type": "code",
   "execution_count": null,
   "id": "1d011d3e",
   "metadata": {},
   "outputs": [],
   "source": []
  },
  {
   "cell_type": "code",
   "execution_count": null,
   "id": "d77320e4",
   "metadata": {},
   "outputs": [],
   "source": []
  },
  {
   "cell_type": "code",
   "execution_count": null,
   "id": "9e633ec5",
   "metadata": {},
   "outputs": [],
   "source": []
  },
  {
   "cell_type": "code",
   "execution_count": null,
   "id": "dc2102fd",
   "metadata": {},
   "outputs": [],
   "source": []
  },
  {
   "cell_type": "code",
   "execution_count": null,
   "id": "4f5b4cce",
   "metadata": {},
   "outputs": [],
   "source": []
  },
  {
   "cell_type": "code",
   "execution_count": null,
   "id": "d24ca009",
   "metadata": {},
   "outputs": [],
   "source": []
  },
  {
   "cell_type": "code",
   "execution_count": null,
   "id": "8e33328a",
   "metadata": {},
   "outputs": [],
   "source": []
  },
  {
   "cell_type": "code",
   "execution_count": null,
   "id": "be83543a",
   "metadata": {},
   "outputs": [],
   "source": []
  },
  {
   "cell_type": "code",
   "execution_count": null,
   "id": "f487dacc",
   "metadata": {},
   "outputs": [],
   "source": []
  },
  {
   "cell_type": "code",
   "execution_count": null,
   "id": "a4b0ec41",
   "metadata": {},
   "outputs": [],
   "source": []
  },
  {
   "cell_type": "code",
   "execution_count": null,
   "id": "add6f200",
   "metadata": {},
   "outputs": [],
   "source": []
  },
  {
   "cell_type": "code",
   "execution_count": null,
   "id": "5940a108",
   "metadata": {},
   "outputs": [],
   "source": []
  },
  {
   "cell_type": "code",
   "execution_count": null,
   "id": "8a6a5cf0",
   "metadata": {},
   "outputs": [],
   "source": []
  },
  {
   "cell_type": "code",
   "execution_count": null,
   "id": "7c16f0ff",
   "metadata": {},
   "outputs": [],
   "source": []
  },
  {
   "cell_type": "code",
   "execution_count": null,
   "id": "ddfa0b60",
   "metadata": {},
   "outputs": [],
   "source": []
  },
  {
   "cell_type": "code",
   "execution_count": null,
   "id": "2dc09dfe",
   "metadata": {},
   "outputs": [],
   "source": []
  },
  {
   "cell_type": "code",
   "execution_count": null,
   "id": "cabfe205",
   "metadata": {},
   "outputs": [],
   "source": []
  },
  {
   "cell_type": "code",
   "execution_count": null,
   "id": "1ef184f8",
   "metadata": {},
   "outputs": [],
   "source": []
  },
  {
   "cell_type": "code",
   "execution_count": null,
   "id": "b0ab0a1c",
   "metadata": {},
   "outputs": [],
   "source": []
  },
  {
   "cell_type": "code",
   "execution_count": null,
   "id": "21c7646e",
   "metadata": {},
   "outputs": [],
   "source": []
  },
  {
   "cell_type": "code",
   "execution_count": null,
   "id": "82f77cc5",
   "metadata": {},
   "outputs": [],
   "source": []
  },
  {
   "cell_type": "code",
   "execution_count": null,
   "id": "9879cd63",
   "metadata": {},
   "outputs": [],
   "source": []
  },
  {
   "cell_type": "code",
   "execution_count": null,
   "id": "ea202c6a",
   "metadata": {},
   "outputs": [],
   "source": []
  },
  {
   "cell_type": "code",
   "execution_count": null,
   "id": "7b492cd7",
   "metadata": {},
   "outputs": [],
   "source": []
  },
  {
   "cell_type": "code",
   "execution_count": null,
   "id": "0a233e72",
   "metadata": {},
   "outputs": [],
   "source": []
  },
  {
   "cell_type": "code",
   "execution_count": null,
   "id": "0136318d",
   "metadata": {},
   "outputs": [],
   "source": []
  },
  {
   "cell_type": "code",
   "execution_count": null,
   "id": "eeed8c7d",
   "metadata": {},
   "outputs": [],
   "source": []
  },
  {
   "cell_type": "code",
   "execution_count": null,
   "id": "ed44da5b",
   "metadata": {},
   "outputs": [],
   "source": []
  },
  {
   "cell_type": "code",
   "execution_count": null,
   "id": "9ba92680",
   "metadata": {},
   "outputs": [],
   "source": []
  },
  {
   "cell_type": "code",
   "execution_count": null,
   "id": "b7128587",
   "metadata": {},
   "outputs": [],
   "source": []
  },
  {
   "cell_type": "code",
   "execution_count": null,
   "id": "e1238e60",
   "metadata": {},
   "outputs": [],
   "source": []
  },
  {
   "cell_type": "code",
   "execution_count": null,
   "id": "95c48854",
   "metadata": {},
   "outputs": [],
   "source": []
  },
  {
   "cell_type": "code",
   "execution_count": null,
   "id": "02bb154b",
   "metadata": {},
   "outputs": [],
   "source": []
  },
  {
   "cell_type": "code",
   "execution_count": null,
   "id": "31ef1071",
   "metadata": {},
   "outputs": [],
   "source": []
  },
  {
   "cell_type": "code",
   "execution_count": null,
   "id": "a444b395",
   "metadata": {},
   "outputs": [],
   "source": []
  },
  {
   "cell_type": "code",
   "execution_count": null,
   "id": "7fcea615",
   "metadata": {},
   "outputs": [],
   "source": []
  },
  {
   "cell_type": "code",
   "execution_count": null,
   "id": "0fed9e29",
   "metadata": {},
   "outputs": [],
   "source": []
  },
  {
   "cell_type": "code",
   "execution_count": null,
   "id": "7e90599d",
   "metadata": {},
   "outputs": [],
   "source": []
  },
  {
   "cell_type": "code",
   "execution_count": null,
   "id": "6987856e",
   "metadata": {},
   "outputs": [],
   "source": []
  },
  {
   "cell_type": "code",
   "execution_count": null,
   "id": "3ee4a8b1",
   "metadata": {},
   "outputs": [],
   "source": []
  },
  {
   "cell_type": "code",
   "execution_count": null,
   "id": "f7bfd7c4",
   "metadata": {},
   "outputs": [],
   "source": []
  },
  {
   "cell_type": "code",
   "execution_count": null,
   "id": "29836034",
   "metadata": {},
   "outputs": [],
   "source": []
  },
  {
   "cell_type": "code",
   "execution_count": null,
   "id": "1c829880",
   "metadata": {},
   "outputs": [],
   "source": []
  },
  {
   "cell_type": "code",
   "execution_count": null,
   "id": "8be6052e",
   "metadata": {},
   "outputs": [],
   "source": []
  },
  {
   "cell_type": "code",
   "execution_count": null,
   "id": "8582fe95",
   "metadata": {},
   "outputs": [],
   "source": []
  },
  {
   "cell_type": "code",
   "execution_count": null,
   "id": "1557a92b",
   "metadata": {},
   "outputs": [],
   "source": []
  },
  {
   "cell_type": "code",
   "execution_count": null,
   "id": "9959dbfa",
   "metadata": {},
   "outputs": [],
   "source": []
  },
  {
   "cell_type": "code",
   "execution_count": null,
   "id": "2383aabb",
   "metadata": {},
   "outputs": [],
   "source": []
  },
  {
   "cell_type": "code",
   "execution_count": null,
   "id": "be4f8713",
   "metadata": {},
   "outputs": [],
   "source": []
  }
 ],
 "metadata": {
  "kernelspec": {
   "display_name": "Python 3 (ipykernel)",
   "language": "python",
   "name": "python3"
  },
  "language_info": {
   "codemirror_mode": {
    "name": "ipython",
    "version": 3
   },
   "file_extension": ".py",
   "mimetype": "text/x-python",
   "name": "python",
   "nbconvert_exporter": "python",
   "pygments_lexer": "ipython3",
   "version": "3.9.12"
  }
 },
 "nbformat": 4,
 "nbformat_minor": 5
}
