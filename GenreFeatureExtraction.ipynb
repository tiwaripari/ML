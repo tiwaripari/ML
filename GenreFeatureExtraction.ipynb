{
  "nbformat": 4,
  "nbformat_minor": 0,
  "metadata": {
    "colab": {
      "provenance": [],
      "mount_file_id": "https://github.com/tiwaripari/ML/blob/main/GenreFeatureExtraction.ipynb",
      "authorship_tag": "ABX9TyOonPqJhzv071GNLEYz3McG",
      "include_colab_link": true
    },
    "kernelspec": {
      "name": "python3",
      "display_name": "Python 3"
    },
    "language_info": {
      "name": "python"
    }
  },
  "cells": [
    {
      "cell_type": "markdown",
      "metadata": {
        "id": "view-in-github",
        "colab_type": "text"
      },
      "source": [
        "<a href=\"https://colab.research.google.com/github/tiwaripari/ML/blob/main/GenreFeatureExtraction.ipynb\" target=\"_parent\"><img src=\"https://colab.research.google.com/assets/colab-badge.svg\" alt=\"Open In Colab\"/></a>"
      ]
    },
    {
      "cell_type": "code",
      "execution_count": 1,
      "metadata": {
        "id": "G0EC9Q_jg68V"
      },
      "outputs": [],
      "source": [
        "import librosa\n",
        "import librosa.display\n",
        "import IPython.display as ipd\n",
        "import numpy as np\n",
        "import pandas as pd\n",
        "from sklearn.ensemble import RandomForestClassifier\n",
        "from sklearn.metrics import accuracy_score\n",
        "from scipy.stats import kurtosis, skew\n",
        "from scipy.signal import find_peaks\n",
        "from sklearn.preprocessing import StandardScaler\n",
        "     "
      ]
    },
    {
      "cell_type": "code",
      "source": [
        "def feature_extraction(file_path):\n",
        "  # Load the audio file\n",
        "  x, sample_rate = librosa.load(file_path)\n",
        "  features = {}\n",
        "  spectrogram = librosa.stft(x)\n",
        "  power_spectrogram = np.abs(spectrogram) ** 2\n",
        "\n",
        "  chroma = np.mean(librosa.feature.chroma_stft(y=x, sr=sample_rate).T,axis=0)\n",
        "  features['chroma_stft_mean'] = np.mean(chroma)\n",
        "  features['chroma_stft_var'] = np.var(chroma)\n",
        "\n",
        "\n",
        "  features['rms_mean'] = librosa.feature.rms(y=x).mean()\n",
        "  features['rms_var'] = librosa.feature.rms(y=x).var()\n",
        "  \n",
        "  \n",
        "  # Compute the spectral centroid feature\n",
        "  spectral_centroids = librosa.feature.spectral_centroid(y=x, sr=sample_rate)\n",
        "  features['spectral_centroid_mean'] = spectral_centroids.mean()\n",
        "  features['spectral_centroid_var'] = spectral_centroids.var()\n",
        "  \n",
        "  # Compute the spectral spread feature\n",
        "  spectral_spreads = librosa.feature.spectral_bandwidth(y=x, sr=sample_rate)\n",
        "  features['spectral_bandwidth_mean'] = spectral_spreads.mean()\n",
        "  features['spectral_bandwidth_var'] = spectral_spreads.var()\n",
        "\n",
        "  # Calculate the rolloff feature\n",
        "  rolloff = librosa.feature.spectral_rolloff(y=x, sr=sample_rate)\n",
        "  features['rolloff_mean'] = np.mean(rolloff)\n",
        "  features['rolloff_var'] = np.var(rolloff)\n",
        "\n",
        "  # Calculate the zero-crossing rate feature\n",
        "  zero_crossing_rate = librosa.feature.zero_crossing_rate(y=x)\n",
        "  features['zero_crossing_rate_mean'] = np.mean(zero_crossing_rate)\n",
        "  features['zero_crossing_rate_var'] = np.var(zero_crossing_rate)\n",
        "\n",
        "  features['harmony_mean'] = librosa.feature.delta(power_spectrogram, order=1, axis=-1).mean()\n",
        "  features['harmony_var'] = librosa.feature.delta(power_spectrogram, order=1, axis=-1).mean()\n",
        "\n",
        "\n",
        "  # Extract perceptual spread\n",
        "  spectral_contrast = librosa.feature.spectral_contrast(y=x, sr=sample_rate)\n",
        "\n",
        "  # Compute mean and variance\n",
        "  features['perceptr_mean'] = spectral_contrast.mean()\n",
        "  features['perceptr_var'] = spectral_contrast.var()\n",
        "\n",
        "  features['tempo'] = librosa.feature.tempo(y=x, sr=sample_rate)[0].mean()\n",
        "\n",
        "  mfccs = librosa.feature.mfcc(y=x, sr=sample_rate, n_mfcc=21)\n",
        "  for i in range(1,21):\n",
        "    features[f'mfcc{i}_mean'] = mfccs[i-1].mean()\n",
        "    features[f'mfcc{i}_var'] = mfccs[i-1].var()\n",
        "\n",
        " \n",
        "\n",
        "  df1 = pd.DataFrame.from_dict(features, orient='index').T\n",
        "  scaler = StandardScaler()\n",
        "  data_scaled = scaler.fit_transform(df1)\n",
        " \n",
        "\n",
        "  \n",
        "\n",
        "\n",
        "\n",
        "  return df1"
      ],
      "metadata": {
        "id": "H8bYYfyBhERc"
      },
      "execution_count": 2,
      "outputs": []
    },
    {
      "cell_type": "code",
      "source": [
        "x = '/content/rockmusic.wav'\n",
        "features_1 = feature_extraction(x)\n",
        "features_1.columns"
      ],
      "metadata": {
        "colab": {
          "base_uri": "https://localhost:8080/"
        },
        "id": "eLgLaFddoL2l",
        "outputId": "ff9cd5c5-8cfe-41a3-958c-edc24769da1b"
      },
      "execution_count": 5,
      "outputs": [
        {
          "output_type": "execute_result",
          "data": {
            "text/plain": [
              "Index(['chroma_stft_mean', 'chroma_stft_var', 'rms_mean', 'rms_var',\n",
              "       'spectral_centroid_mean', 'spectral_centroid_var',\n",
              "       'spectral_bandwidth_mean', 'spectral_bandwidth_var', 'rolloff_mean',\n",
              "       'rolloff_var', 'zero_crossing_rate_mean', 'zero_crossing_rate_var',\n",
              "       'harmony_mean', 'harmony_var', 'perceptr_mean', 'perceptr_var', 'tempo',\n",
              "       'mfcc1_mean', 'mfcc1_var', 'mfcc2_mean', 'mfcc2_var', 'mfcc3_mean',\n",
              "       'mfcc3_var', 'mfcc4_mean', 'mfcc4_var', 'mfcc5_mean', 'mfcc5_var',\n",
              "       'mfcc6_mean', 'mfcc6_var', 'mfcc7_mean', 'mfcc7_var', 'mfcc8_mean',\n",
              "       'mfcc8_var', 'mfcc9_mean', 'mfcc9_var', 'mfcc10_mean', 'mfcc10_var',\n",
              "       'mfcc11_mean', 'mfcc11_var', 'mfcc12_mean', 'mfcc12_var', 'mfcc13_mean',\n",
              "       'mfcc13_var', 'mfcc14_mean', 'mfcc14_var', 'mfcc15_mean', 'mfcc15_var',\n",
              "       'mfcc16_mean', 'mfcc16_var', 'mfcc17_mean', 'mfcc17_var', 'mfcc18_mean',\n",
              "       'mfcc18_var', 'mfcc19_mean', 'mfcc19_var', 'mfcc20_mean', 'mfcc20_var'],\n",
              "      dtype='object')"
            ]
          },
          "metadata": {},
          "execution_count": 5
        }
      ]
    },
    {
      "cell_type": "code",
      "source": [
        "y = '/content/midnight-blues-21179.mp3'\n",
        "features_2 = feature_extraction(y)\n",
        "features_2.columns"
      ],
      "metadata": {
        "id": "zeEn_8ISoqse",
        "colab": {
          "base_uri": "https://localhost:8080/"
        },
        "outputId": "440743d3-8d64-495a-ab73-c02103ae8540"
      },
      "execution_count": 14,
      "outputs": [
        {
          "output_type": "execute_result",
          "data": {
            "text/plain": [
              "Index(['chroma_stft_mean', 'chroma_stft_var', 'rms_mean', 'rms_var',\n",
              "       'spectral_centroid_mean', 'spectral_centroid_var',\n",
              "       'spectral_bandwidth_mean', 'spectral_bandwidth_var', 'rolloff_mean',\n",
              "       'rolloff_var', 'zero_crossing_rate_mean', 'zero_crossing_rate_var',\n",
              "       'harmony_mean', 'harmony_var', 'perceptr_mean', 'perceptr_var', 'tempo',\n",
              "       'mfcc1_mean', 'mfcc1_var', 'mfcc2_mean', 'mfcc2_var', 'mfcc3_mean',\n",
              "       'mfcc3_var', 'mfcc4_mean', 'mfcc4_var', 'mfcc5_mean', 'mfcc5_var',\n",
              "       'mfcc6_mean', 'mfcc6_var', 'mfcc7_mean', 'mfcc7_var', 'mfcc8_mean',\n",
              "       'mfcc8_var', 'mfcc9_mean', 'mfcc9_var', 'mfcc10_mean', 'mfcc10_var',\n",
              "       'mfcc11_mean', 'mfcc11_var', 'mfcc12_mean', 'mfcc12_var', 'mfcc13_mean',\n",
              "       'mfcc13_var', 'mfcc14_mean', 'mfcc14_var', 'mfcc15_mean', 'mfcc15_var',\n",
              "       'mfcc16_mean', 'mfcc16_var', 'mfcc17_mean', 'mfcc17_var', 'mfcc18_mean',\n",
              "       'mfcc18_var', 'mfcc19_mean', 'mfcc19_var', 'mfcc20_mean', 'mfcc20_var'],\n",
              "      dtype='object')"
            ]
          },
          "metadata": {},
          "execution_count": 14
        }
      ]
    },
    {
      "cell_type": "code",
      "source": [
        "from google.colab import files\n",
        "\n",
        "# Prompt the user to upload a file\n",
        "uploaded = files.upload()"
      ],
      "metadata": {
        "id": "vkUiRSNeo8hb",
        "colab": {
          "base_uri": "https://localhost:8080/",
          "height": 74
        },
        "outputId": "bcade3e3-d3b6-4694-8911-c59899e3c4ed"
      },
      "execution_count": 6,
      "outputs": [
        {
          "output_type": "display_data",
          "data": {
            "text/plain": [
              "<IPython.core.display.HTML object>"
            ],
            "text/html": [
              "\n",
              "     <input type=\"file\" id=\"files-a5041f24-5856-4f5f-8442-9f1911f74ae5\" name=\"files[]\" multiple disabled\n",
              "        style=\"border:none\" />\n",
              "     <output id=\"result-a5041f24-5856-4f5f-8442-9f1911f74ae5\">\n",
              "      Upload widget is only available when the cell has been executed in the\n",
              "      current browser session. Please rerun this cell to enable.\n",
              "      </output>\n",
              "      <script>// Copyright 2017 Google LLC\n",
              "//\n",
              "// Licensed under the Apache License, Version 2.0 (the \"License\");\n",
              "// you may not use this file except in compliance with the License.\n",
              "// You may obtain a copy of the License at\n",
              "//\n",
              "//      http://www.apache.org/licenses/LICENSE-2.0\n",
              "//\n",
              "// Unless required by applicable law or agreed to in writing, software\n",
              "// distributed under the License is distributed on an \"AS IS\" BASIS,\n",
              "// WITHOUT WARRANTIES OR CONDITIONS OF ANY KIND, either express or implied.\n",
              "// See the License for the specific language governing permissions and\n",
              "// limitations under the License.\n",
              "\n",
              "/**\n",
              " * @fileoverview Helpers for google.colab Python module.\n",
              " */\n",
              "(function(scope) {\n",
              "function span(text, styleAttributes = {}) {\n",
              "  const element = document.createElement('span');\n",
              "  element.textContent = text;\n",
              "  for (const key of Object.keys(styleAttributes)) {\n",
              "    element.style[key] = styleAttributes[key];\n",
              "  }\n",
              "  return element;\n",
              "}\n",
              "\n",
              "// Max number of bytes which will be uploaded at a time.\n",
              "const MAX_PAYLOAD_SIZE = 100 * 1024;\n",
              "\n",
              "function _uploadFiles(inputId, outputId) {\n",
              "  const steps = uploadFilesStep(inputId, outputId);\n",
              "  const outputElement = document.getElementById(outputId);\n",
              "  // Cache steps on the outputElement to make it available for the next call\n",
              "  // to uploadFilesContinue from Python.\n",
              "  outputElement.steps = steps;\n",
              "\n",
              "  return _uploadFilesContinue(outputId);\n",
              "}\n",
              "\n",
              "// This is roughly an async generator (not supported in the browser yet),\n",
              "// where there are multiple asynchronous steps and the Python side is going\n",
              "// to poll for completion of each step.\n",
              "// This uses a Promise to block the python side on completion of each step,\n",
              "// then passes the result of the previous step as the input to the next step.\n",
              "function _uploadFilesContinue(outputId) {\n",
              "  const outputElement = document.getElementById(outputId);\n",
              "  const steps = outputElement.steps;\n",
              "\n",
              "  const next = steps.next(outputElement.lastPromiseValue);\n",
              "  return Promise.resolve(next.value.promise).then((value) => {\n",
              "    // Cache the last promise value to make it available to the next\n",
              "    // step of the generator.\n",
              "    outputElement.lastPromiseValue = value;\n",
              "    return next.value.response;\n",
              "  });\n",
              "}\n",
              "\n",
              "/**\n",
              " * Generator function which is called between each async step of the upload\n",
              " * process.\n",
              " * @param {string} inputId Element ID of the input file picker element.\n",
              " * @param {string} outputId Element ID of the output display.\n",
              " * @return {!Iterable<!Object>} Iterable of next steps.\n",
              " */\n",
              "function* uploadFilesStep(inputId, outputId) {\n",
              "  const inputElement = document.getElementById(inputId);\n",
              "  inputElement.disabled = false;\n",
              "\n",
              "  const outputElement = document.getElementById(outputId);\n",
              "  outputElement.innerHTML = '';\n",
              "\n",
              "  const pickedPromise = new Promise((resolve) => {\n",
              "    inputElement.addEventListener('change', (e) => {\n",
              "      resolve(e.target.files);\n",
              "    });\n",
              "  });\n",
              "\n",
              "  const cancel = document.createElement('button');\n",
              "  inputElement.parentElement.appendChild(cancel);\n",
              "  cancel.textContent = 'Cancel upload';\n",
              "  const cancelPromise = new Promise((resolve) => {\n",
              "    cancel.onclick = () => {\n",
              "      resolve(null);\n",
              "    };\n",
              "  });\n",
              "\n",
              "  // Wait for the user to pick the files.\n",
              "  const files = yield {\n",
              "    promise: Promise.race([pickedPromise, cancelPromise]),\n",
              "    response: {\n",
              "      action: 'starting',\n",
              "    }\n",
              "  };\n",
              "\n",
              "  cancel.remove();\n",
              "\n",
              "  // Disable the input element since further picks are not allowed.\n",
              "  inputElement.disabled = true;\n",
              "\n",
              "  if (!files) {\n",
              "    return {\n",
              "      response: {\n",
              "        action: 'complete',\n",
              "      }\n",
              "    };\n",
              "  }\n",
              "\n",
              "  for (const file of files) {\n",
              "    const li = document.createElement('li');\n",
              "    li.append(span(file.name, {fontWeight: 'bold'}));\n",
              "    li.append(span(\n",
              "        `(${file.type || 'n/a'}) - ${file.size} bytes, ` +\n",
              "        `last modified: ${\n",
              "            file.lastModifiedDate ? file.lastModifiedDate.toLocaleDateString() :\n",
              "                                    'n/a'} - `));\n",
              "    const percent = span('0% done');\n",
              "    li.appendChild(percent);\n",
              "\n",
              "    outputElement.appendChild(li);\n",
              "\n",
              "    const fileDataPromise = new Promise((resolve) => {\n",
              "      const reader = new FileReader();\n",
              "      reader.onload = (e) => {\n",
              "        resolve(e.target.result);\n",
              "      };\n",
              "      reader.readAsArrayBuffer(file);\n",
              "    });\n",
              "    // Wait for the data to be ready.\n",
              "    let fileData = yield {\n",
              "      promise: fileDataPromise,\n",
              "      response: {\n",
              "        action: 'continue',\n",
              "      }\n",
              "    };\n",
              "\n",
              "    // Use a chunked sending to avoid message size limits. See b/62115660.\n",
              "    let position = 0;\n",
              "    do {\n",
              "      const length = Math.min(fileData.byteLength - position, MAX_PAYLOAD_SIZE);\n",
              "      const chunk = new Uint8Array(fileData, position, length);\n",
              "      position += length;\n",
              "\n",
              "      const base64 = btoa(String.fromCharCode.apply(null, chunk));\n",
              "      yield {\n",
              "        response: {\n",
              "          action: 'append',\n",
              "          file: file.name,\n",
              "          data: base64,\n",
              "        },\n",
              "      };\n",
              "\n",
              "      let percentDone = fileData.byteLength === 0 ?\n",
              "          100 :\n",
              "          Math.round((position / fileData.byteLength) * 100);\n",
              "      percent.textContent = `${percentDone}% done`;\n",
              "\n",
              "    } while (position < fileData.byteLength);\n",
              "  }\n",
              "\n",
              "  // All done.\n",
              "  yield {\n",
              "    response: {\n",
              "      action: 'complete',\n",
              "    }\n",
              "  };\n",
              "}\n",
              "\n",
              "scope.google = scope.google || {};\n",
              "scope.google.colab = scope.google.colab || {};\n",
              "scope.google.colab._files = {\n",
              "  _uploadFiles,\n",
              "  _uploadFilesContinue,\n",
              "};\n",
              "})(self);\n",
              "</script> "
            ]
          },
          "metadata": {}
        },
        {
          "output_type": "stream",
          "name": "stdout",
          "text": [
            "Saving genreclassification.py to genreclassification.py\n"
          ]
        }
      ]
    },
    {
      "cell_type": "code",
      "source": [
        "from genreclassification import predict_genre"
      ],
      "metadata": {
        "id": "930F7QwLunEb",
        "outputId": "a395affd-b82a-4aab-d534-aa3ebd44c462",
        "colab": {
          "base_uri": "https://localhost:8080/"
        }
      },
      "execution_count": 8,
      "outputs": [
        {
          "output_type": "stream",
          "name": "stdout",
          "text": [
            "training data  7532\n",
            "testing data  2458\n"
          ]
        }
      ]
    },
    {
      "cell_type": "code",
      "source": [
        "prediction_1 = predict_genre(features_1)"
      ],
      "metadata": {
        "id": "T3-lcNyGuuY6"
      },
      "execution_count": 9,
      "outputs": []
    },
    {
      "cell_type": "code",
      "source": [
        "prediction_1"
      ],
      "metadata": {
        "id": "rn3qP-lNvQrF",
        "outputId": "a7b1c4df-2fde-441b-bab1-a9ecf3afdfb6",
        "colab": {
          "base_uri": "https://localhost:8080/"
        }
      },
      "execution_count": 10,
      "outputs": [
        {
          "output_type": "execute_result",
          "data": {
            "text/plain": [
              "array(['reggae'], dtype=object)"
            ]
          },
          "metadata": {},
          "execution_count": 10
        }
      ]
    },
    {
      "cell_type": "code",
      "source": [
        "prediction_2 = predict_genre(features_2)\n"
      ],
      "metadata": {
        "id": "JUh5QhDsvS7l"
      },
      "execution_count": 15,
      "outputs": []
    },
    {
      "cell_type": "code",
      "source": [
        "prediction_2"
      ],
      "metadata": {
        "id": "5yKWOw9ZwERf",
        "outputId": "ac945bec-318f-4ae5-c884-57deac97faec",
        "colab": {
          "base_uri": "https://localhost:8080/"
        }
      },
      "execution_count": 16,
      "outputs": [
        {
          "output_type": "execute_result",
          "data": {
            "text/plain": [
              "array(['disco'], dtype=object)"
            ]
          },
          "metadata": {},
          "execution_count": 16
        }
      ]
    },
    {
      "cell_type": "code",
      "source": [],
      "metadata": {
        "id": "7qLqH9qcwF11"
      },
      "execution_count": null,
      "outputs": []
    }
  ]
}