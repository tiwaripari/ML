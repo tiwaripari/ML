{
  "nbformat": 4,
  "nbformat_minor": 0,
  "metadata": {
    "colab": {
      "provenance": [],
      "mount_file_id": "1IxXUqo-QWWgETwajf3AKTLy_4l6B8rBA",
      "authorship_tag": "ABX9TyN6i25tlbx7sIodQddqTLSi",
      "include_colab_link": true
    },
    "kernelspec": {
      "name": "python3",
      "display_name": "Python 3"
    },
    "language_info": {
      "name": "python"
    }
  },
  "cells": [
    {
      "cell_type": "markdown",
      "metadata": {
        "id": "view-in-github",
        "colab_type": "text"
      },
      "source": [
        "<a href=\"https://colab.research.google.com/github/tiwaripari/ML/blob/main/GenreFeatureExtraction.ipynb\" target=\"_parent\"><img src=\"https://colab.research.google.com/assets/colab-badge.svg\" alt=\"Open In Colab\"/></a>"
      ]
    },
    {
      "cell_type": "code",
      "execution_count": 1,
      "metadata": {
        "id": "G0EC9Q_jg68V"
      },
      "outputs": [],
      "source": [
        "import librosa\n",
        "import librosa.display\n",
        "import IPython.display as ipd\n",
        "import numpy as np\n",
        "import pandas as pd\n",
        "from sklearn.ensemble import RandomForestClassifier\n",
        "from sklearn.metrics import accuracy_score\n",
        "from scipy.stats import kurtosis, skew\n",
        "from scipy.signal import find_peaks\n",
        "from sklearn.preprocessing import StandardScaler\n",
        "     "
      ]
    },
    {
      "cell_type": "code",
      "source": [
        "def feature_extraction(file_path):\n",
        "  # Load the audio file\n",
        "  x, sample_rate = librosa.load(file_path)\n",
        "  features = {}\n",
        "  spectrogram = librosa.stft(x)\n",
        "  power_spectrogram = np.abs(spectrogram) ** 2\n",
        "\n",
        "  chroma = np.mean(librosa.feature.chroma_stft(y=x, sr=sample_rate).T,axis=0)\n",
        "  features['chroma_stft_mean'] = np.mean(chroma)\n",
        "  features['chroma_stft_var'] = np.var(chroma)\n",
        "\n",
        "\n",
        "  features['rms_mean'] = librosa.feature.rms(y=x).mean()\n",
        "  features['rms_var'] = librosa.feature.rms(y=x).var()\n",
        "  \n",
        "  \n",
        "  # Compute the spectral centroid feature\n",
        "  spectral_centroids = librosa.feature.spectral_centroid(y=x, sr=sample_rate)\n",
        "  features['spectral_centroid_mean'] = spectral_centroids.mean()\n",
        "  features['spectral_centroid_var'] = spectral_centroids.var()\n",
        "  \n",
        "  # Compute the spectral spread feature\n",
        "  spectral_spreads = librosa.feature.spectral_bandwidth(y=x, sr=sample_rate)\n",
        "  features['spectral_bandwidth_mean'] = spectral_spreads.mean()\n",
        "  features['spectral_bandwidth_var'] = spectral_spreads.var()\n",
        "\n",
        "  # Calculate the rolloff feature\n",
        "  rolloff = librosa.feature.spectral_rolloff(y=x, sr=sample_rate)\n",
        "  features['rolloff_mean'] = np.mean(rolloff)\n",
        "  features['rolloff_var'] = np.var(rolloff)\n",
        "\n",
        "  # Calculate the zero-crossing rate feature\n",
        "  zero_crossing_rate = librosa.feature.zero_crossing_rate(y=x)\n",
        "  features['zero_crossing_rate_mean'] = np.mean(zero_crossing_rate)\n",
        "  features['zero_crossing_rate_var'] = np.var(zero_crossing_rate)\n",
        "\n",
        "  features['harmony_mean'] = librosa.feature.delta(power_spectrogram, order=1, axis=-1).mean()\n",
        "  features['harmony_var'] = librosa.feature.delta(power_spectrogram, order=1, axis=-1).mean()\n",
        "\n",
        "\n",
        "  # Extract perceptual spread\n",
        "  spectral_contrast = librosa.feature.spectral_contrast(y=x, sr=sample_rate)\n",
        "\n",
        "  # Compute mean and variance\n",
        "  features['perceptr_mean'] = spectral_contrast.mean()\n",
        "  features['perceptr_var'] = spectral_contrast.var()\n",
        "\n",
        "  features['tempo'] = librosa.feature.tempo(y=x, sr=sample_rate)[0].mean()\n",
        "\n",
        "  mfccs = librosa.feature.mfcc(y=x, sr=sample_rate, n_mfcc=21)\n",
        "  for i in range(1,21):\n",
        "    features[f'mfcc{i}_mean'] = mfccs[i-1].mean()\n",
        "    features[f'mfcc{i}_var'] = mfccs[i-1].var()\n",
        "\n",
        " \n",
        "\n",
        "  df1 = pd.DataFrame.from_dict(features, orient='index').T\n",
        "  scaler = StandardScaler()\n",
        "  data_scaled = scaler.fit_transform(df1)\n",
        " \n",
        "\n",
        "  \n",
        "\n",
        "\n",
        "\n",
        "  return df1"
      ],
      "metadata": {
        "id": "H8bYYfyBhERc"
      },
      "execution_count": 28,
      "outputs": []
    },
    {
      "cell_type": "code",
      "source": [
        "# x = '/content/rockmusic.wav'\n",
        "# features_1 = feature_extraction(x)\n",
        "# features_1.columns"
      ],
      "metadata": {
        "colab": {
          "base_uri": "https://localhost:8080/"
        },
        "id": "eLgLaFddoL2l",
        "outputId": "169c318b-2736-4375-8b51-ed1001d3d68b"
      },
      "execution_count": 27,
      "outputs": [
        {
          "output_type": "execute_result",
          "data": {
            "text/plain": [
              "Index(['chroma_stft_mean', 'chroma_stft_var', 'rms_mean', 'rms_var',\n",
              "       'spectral_centroid_mean', 'spectral_centroid_var',\n",
              "       'spectral_bandwidth_mean', 'spectral_bandwidth_var', 'rolloff_mean',\n",
              "       'rolloff_var', 'zero_crossing_rate_mean', 'zero_crossing_rate_var',\n",
              "       'harmony_mean', 'harmony_var', 'perceptr_mean', 'perceptr_var', 'tempo',\n",
              "       'mfcc1_mean', 'mfcc1_var', 'mfcc2_mean', 'mfcc2_var', 'mfcc3_mean',\n",
              "       'mfcc3_var', 'mfcc4_mean', 'mfcc4_var', 'mfcc5_mean', 'mfcc5_var',\n",
              "       'mfcc6_mean', 'mfcc6_var', 'mfcc7_mean', 'mfcc7_var', 'mfcc8_mean',\n",
              "       'mfcc8_var', 'mfcc9_mean', 'mfcc9_var', 'mfcc10_mean', 'mfcc10_var',\n",
              "       'mfcc11_mean', 'mfcc11_var', 'mfcc12_mean', 'mfcc12_var', 'mfcc13_mean',\n",
              "       'mfcc13_var', 'mfcc14_mean', 'mfcc14_var', 'mfcc15_mean', 'mfcc15_var',\n",
              "       'mfcc16_mean', 'mfcc16_var', 'mfcc17_mean', 'mfcc17_var', 'mfcc18_mean',\n",
              "       'mfcc18_var', 'mfcc19_mean', 'mfcc19_var', 'mfcc20_mean', 'mfcc20_var'],\n",
              "      dtype='object')"
            ]
          },
          "metadata": {},
          "execution_count": 27
        }
      ]
    },
    {
      "cell_type": "code",
      "source": [
        "# len(features_1.columns)"
      ],
      "metadata": {
        "id": "zeEn_8ISoqse"
      },
      "execution_count": 13,
      "outputs": []
    },
    {
      "cell_type": "code",
      "source": [],
      "metadata": {
        "id": "vkUiRSNeo8hb"
      },
      "execution_count": null,
      "outputs": []
    }
  ]
}