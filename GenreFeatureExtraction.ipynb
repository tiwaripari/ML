{
  "nbformat": 4,
  "nbformat_minor": 0,
  "metadata": {
    "colab": {
      "provenance": [],
      "mount_file_id": "1IxXUqo-QWWgETwajf3AKTLy_4l6B8rBA",
      "authorship_tag": "ABX9TyOVldFFD2rOe/on8cW6tVtm",
      "include_colab_link": true
    },
    "kernelspec": {
      "name": "python3",
      "display_name": "Python 3"
    },
    "language_info": {
      "name": "python"
    }
  },
  "cells": [
    {
      "cell_type": "markdown",
      "metadata": {
        "id": "view-in-github",
        "colab_type": "text"
      },
      "source": [
        "<a href=\"https://colab.research.google.com/github/tiwaripari/ML/blob/main/GenreFeatureExtraction.ipynb\" target=\"_parent\"><img src=\"https://colab.research.google.com/assets/colab-badge.svg\" alt=\"Open In Colab\"/></a>"
      ]
    },
    {
      "cell_type": "code",
      "execution_count": 1,
      "metadata": {
        "id": "G0EC9Q_jg68V"
      },
      "outputs": [],
      "source": [
        "import librosa\n",
        "import librosa.display\n",
        "import IPython.display as ipd\n",
        "import numpy as np\n",
        "import pandas as pd\n",
        "from sklearn.ensemble import RandomForestClassifier\n",
        "from sklearn.metrics import accuracy_score\n",
        "from scipy.stats import kurtosis, skew\n",
        "from scipy.signal import find_peaks\n",
        "from sklearn.preprocessing import StandardScaler\n",
        "     "
      ]
    },
    {
      "cell_type": "code",
      "source": [
        "def feature_extraction(file_path):\n",
        "  # Load the audio file\n",
        "  x, sample_rate = librosa.load(file_path)\n",
        "  features = {}\n",
        "  spectrogram = librosa.stft(x)\n",
        "  power_spectrogram = np.abs(spectrogram) ** 2\n",
        "\n",
        "  chroma = np.mean(librosa.feature.chroma_stft(y=x, sr=sample_rate).T,axis=0)\n",
        "  features['chroma_stft_mean'] = np.mean(chroma)\n",
        "  features['chroma_stft_var'] = np.var(chroma)\n",
        "\n",
        "\n",
        "  features['rms_mean'] = librosa.feature.rms(y=x).mean()\n",
        "  features['rms_var'] = librosa.feature.rms(y=x).var()\n",
        "  \n",
        "  \n",
        "  # Compute the spectral centroid feature\n",
        "  spectral_centroids = librosa.feature.spectral_centroid(y=x, sr=sample_rate)\n",
        "  features['spectral_centroid_mean'] = spectral_centroids.mean()\n",
        "  features['spectral_centroid_var'] = spectral_centroids.var()\n",
        "  \n",
        "  # Compute the spectral spread feature\n",
        "  spectral_spreads = librosa.feature.spectral_bandwidth(y=x, sr=sample_rate)\n",
        "  features['spectral_bandwidth_mean'] = spectral_spreads.mean()\n",
        "  features['spectral_bandwidth_var'] = spectral_spreads.var()\n",
        "\n",
        "  # Calculate the rolloff feature\n",
        "  rolloff = librosa.feature.spectral_rolloff(y=x, sr=sample_rate)\n",
        "  features['rolloff_mean'] = np.mean(rolloff)\n",
        "  features['rolloff_var'] = np.var(rolloff)\n",
        "\n",
        "  # Calculate the zero-crossing rate feature\n",
        "  zero_crossing_rate = librosa.feature.zero_crossing_rate(y=x)\n",
        "  features['zero_crossing_rate_mean'] = np.mean(zero_crossing_rate)\n",
        "  features['zero_crossing_rate_var'] = np.var(zero_crossing_rate)\n",
        "\n",
        "  features['harmony_mean'] = librosa.feature.delta(power_spectrogram, order=1, axis=-1).mean()\n",
        "  features['harmony_var'] = librosa.feature.delta(power_spectrogram, order=1, axis=-1).mean()\n",
        "\n",
        "\n",
        "  # Extract perceptual spread\n",
        "  spectral_contrast = librosa.feature.spectral_contrast(y=x, sr=sample_rate)\n",
        "\n",
        "  # Compute mean and variance\n",
        "  features['perceptr_mean'] = spectral_contrast.mean()\n",
        "  features['perceptr_var'] = spectral_contrast.var()\n",
        "\n",
        "  features['tempo'] = librosa.feature.tempo(y=x, sr=sample_rate)[0].mean()\n",
        "\n",
        "  mfccs = librosa.feature.mfcc(y=x, sr=sample_rate, n_mfcc=20)\n",
        "  for i in range(20):\n",
        "    features[f'mfcc{i}_mean'] = mfccs[i].mean()\n",
        "    features[f'mfcc{i}_var'] = mfccs[i].var()\n",
        "\n",
        " \n",
        "\n",
        "  df1 = pd.DataFrame.from_dict(features, orient='index').T\n",
        "  scaler = StandardScaler()\n",
        "  data_scaled = scaler.fit_transform(df1)\n",
        " \n",
        "\n",
        "  \n",
        "\n",
        "\n",
        "\n",
        "  return df1"
      ],
      "metadata": {
        "id": "H8bYYfyBhERc"
      },
      "execution_count": 4,
      "outputs": []
    },
    {
      "cell_type": "code",
      "source": [
        "# x = '/content/rockmusic.wav'\n",
        "# features_1 = feature_extraction(x)\n",
        "# features_1"
      ],
      "metadata": {
        "id": "eLgLaFddoL2l"
      },
      "execution_count": 12,
      "outputs": []
    },
    {
      "cell_type": "code",
      "source": [
        "# len(features_1.columns)"
      ],
      "metadata": {
        "id": "zeEn_8ISoqse"
      },
      "execution_count": 13,
      "outputs": []
    },
    {
      "cell_type": "code",
      "source": [],
      "metadata": {
        "id": "vkUiRSNeo8hb"
      },
      "execution_count": null,
      "outputs": []
    }
  ]
}