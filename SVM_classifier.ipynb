{
  "nbformat": 4,
  "nbformat_minor": 0,
  "metadata": {
    "colab": {
      "provenance": [],
      "authorship_tag": "ABX9TyM3Jx1h4QkVaNeZg1Pjnns9",
      "include_colab_link": true
    },
    "kernelspec": {
      "name": "python3",
      "display_name": "Python 3"
    },
    "language_info": {
      "name": "python"
    }
  },
  "cells": [
    {
      "cell_type": "markdown",
      "metadata": {
        "id": "view-in-github",
        "colab_type": "text"
      },
      "source": [
        "<a href=\"https://colab.research.google.com/github/tiwaripari/ML/blob/main/SVM_classifier.ipynb\" target=\"_parent\"><img src=\"https://colab.research.google.com/assets/colab-badge.svg\" alt=\"Open In Colab\"/></a>"
      ]
    },
    {
      "cell_type": "code",
      "execution_count": 12,
      "metadata": {
        "id": "KVuOGcpcEa6L"
      },
      "outputs": [],
      "source": [
        "import librosa\n",
        "import librosa.display\n",
        "import IPython.display as ipd\n",
        "import numpy as np\n",
        "import pandas as pd\n",
        "from sklearn.ensemble import RandomForestClassifier\n",
        "from sklearn.svm import SVC\n",
        "from sklearn.metrics import accuracy_score"
      ]
    },
    {
      "cell_type": "code",
      "source": [
        "from google.colab import drive\n",
        "drive.mount('/content/drive')"
      ],
      "metadata": {
        "colab": {
          "base_uri": "https://localhost:8080/"
        },
        "id": "pNwctM_7Efxn",
        "outputId": "c5329192-a42c-4315-943c-fd048f3e235f"
      },
      "execution_count": 2,
      "outputs": [
        {
          "output_type": "stream",
          "name": "stdout",
          "text": [
            "Mounted at /content/drive\n"
          ]
        }
      ]
    },
    {
      "cell_type": "code",
      "source": [
        "df = pd.read_csv(\"/content/drive/MyDrive/Acoustic Features.csv\")"
      ],
      "metadata": {
        "id": "2Owm7mVcEiDv"
      },
      "execution_count": 3,
      "outputs": []
    },
    {
      "cell_type": "code",
      "source": [
        "df"
      ],
      "metadata": {
        "colab": {
          "base_uri": "https://localhost:8080/",
          "height": 487
        },
        "id": "4C7vwaELEnX6",
        "outputId": "72b7f123-543e-4e65-ba5e-de9e2ff105b7"
      },
      "execution_count": 4,
      "outputs": [
        {
          "output_type": "execute_result",
          "data": {
            "text/plain": [
              "     Class  _RMSenergy_Mean  _Lowenergy_Mean  _Fluctuation_Mean  _Tempo_Mean  \\\n",
              "0    relax            0.052            0.591              9.136      130.043   \n",
              "1    relax            0.125            0.439              6.680      142.240   \n",
              "2    relax            0.046            0.639             10.578      188.154   \n",
              "3    relax            0.135            0.603             10.442       65.991   \n",
              "4    relax            0.066            0.591              9.769       88.890   \n",
              "..     ...              ...              ...                ...          ...   \n",
              "395  angry            0.174            0.578              5.265      161.144   \n",
              "396  angry            0.176            0.498              5.042      179.787   \n",
              "397  angry            0.187            0.557              4.724      134.032   \n",
              "398  angry            0.140            0.573              4.470      113.600   \n",
              "399  angry            0.086            0.475              5.343      151.748   \n",
              "\n",
              "     _MFCC_Mean_1  _MFCC_Mean_2  _MFCC_Mean_3  _MFCC_Mean_4  _MFCC_Mean_5  \\\n",
              "0           3.997         0.363         0.887         0.078         0.221   \n",
              "1           4.058         0.516         0.785         0.397         0.556   \n",
              "2           2.775         0.903         0.502         0.329         0.287   \n",
              "3           2.841         1.552         0.612         0.351         0.011   \n",
              "4           3.217         0.228         0.814         0.096         0.434   \n",
              "..            ...           ...           ...           ...           ...   \n",
              "395         2.985         0.065         0.718         0.046         0.265   \n",
              "396         2.790        -0.148         0.342        -0.011         0.029   \n",
              "397         1.672         0.566         0.880        -0.113         0.244   \n",
              "398         1.997        -0.210         0.694         0.089         0.206   \n",
              "399         2.240        -0.014         0.834        -0.021         0.345   \n",
              "\n",
              "     ...  _Chromagram_Mean_9  _Chromagram_Mean_10  _Chromagram_Mean_11  \\\n",
              "0    ...               0.426                1.000                0.008   \n",
              "1    ...               0.002                1.000                0.000   \n",
              "2    ...               0.184                0.746                0.016   \n",
              "3    ...               0.038                1.000                0.161   \n",
              "4    ...               0.004                0.404                1.000   \n",
              "..   ...                 ...                  ...                  ...   \n",
              "395  ...               0.374                0.838                0.413   \n",
              "396  ...               0.020                1.000                0.640   \n",
              "397  ...               0.052                0.184                0.287   \n",
              "398  ...               0.137                1.000                0.304   \n",
              "399  ...               0.099                1.000                0.094   \n",
              "\n",
              "     _Chromagram_Mean_12  _HarmonicChangeDetectionFunction_Mean  \\\n",
              "0                  0.101                                  0.316   \n",
              "1                  0.984                                  0.285   \n",
              "2                  1.000                                  0.413   \n",
              "3                  0.757                                  0.422   \n",
              "4                  0.001                                  0.345   \n",
              "..                   ...                                    ...   \n",
              "395                0.125                                  0.323   \n",
              "396                0.010                                  0.233   \n",
              "397                0.101                                  0.269   \n",
              "398                0.140                                  0.277   \n",
              "399                0.033                                  0.195   \n",
              "\n",
              "     _HarmonicChangeDetectionFunction_Std  \\\n",
              "0                                   0.261   \n",
              "1                                   0.211   \n",
              "2                                   0.299   \n",
              "3                                   0.265   \n",
              "4                                   0.261   \n",
              "..                                    ...   \n",
              "395                                 0.140   \n",
              "396                                 0.127   \n",
              "397                                 0.157   \n",
              "398                                 0.144   \n",
              "399                                 0.110   \n",
              "\n",
              "     _HarmonicChangeDetectionFunction_Slope  \\\n",
              "0                                     0.018   \n",
              "1                                    -0.082   \n",
              "2                                     0.134   \n",
              "3                                     0.042   \n",
              "4                                     0.089   \n",
              "..                                      ...   \n",
              "395                                   0.120   \n",
              "396                                   0.145   \n",
              "397                                   0.111   \n",
              "398                                   0.061   \n",
              "399                                   0.007   \n",
              "\n",
              "     _HarmonicChangeDetectionFunction_PeriodFreq  \\\n",
              "0                                          1.035   \n",
              "1                                          3.364   \n",
              "2                                          1.682   \n",
              "3                                          0.354   \n",
              "4                                          0.748   \n",
              "..                                           ...   \n",
              "395                                        2.691   \n",
              "396                                        3.364   \n",
              "397                                        3.364   \n",
              "398                                        3.364   \n",
              "399                                        0.641   \n",
              "\n",
              "     _HarmonicChangeDetectionFunction_PeriodAmp  \\\n",
              "0                                         0.593   \n",
              "1                                         0.702   \n",
              "2                                         0.692   \n",
              "3                                         0.743   \n",
              "4                                         0.674   \n",
              "..                                          ...   \n",
              "395                                       0.867   \n",
              "396                                       0.879   \n",
              "397                                       0.819   \n",
              "398                                       0.811   \n",
              "399                                       0.848   \n",
              "\n",
              "     _HarmonicChangeDetectionFunction_PeriodEntropy  \n",
              "0                                             0.970  \n",
              "1                                             0.967  \n",
              "2                                             0.963  \n",
              "3                                             0.968  \n",
              "4                                             0.957  \n",
              "..                                              ...  \n",
              "395                                           0.969  \n",
              "396                                           0.967  \n",
              "397                                           0.962  \n",
              "398                                           0.969  \n",
              "399                                           0.965  \n",
              "\n",
              "[400 rows x 51 columns]"
            ],
            "text/html": [
              "\n",
              "  <div id=\"df-8e40fdb0-4a94-46ad-b1c4-591df93eb01e\">\n",
              "    <div class=\"colab-df-container\">\n",
              "      <div>\n",
              "<style scoped>\n",
              "    .dataframe tbody tr th:only-of-type {\n",
              "        vertical-align: middle;\n",
              "    }\n",
              "\n",
              "    .dataframe tbody tr th {\n",
              "        vertical-align: top;\n",
              "    }\n",
              "\n",
              "    .dataframe thead th {\n",
              "        text-align: right;\n",
              "    }\n",
              "</style>\n",
              "<table border=\"1\" class=\"dataframe\">\n",
              "  <thead>\n",
              "    <tr style=\"text-align: right;\">\n",
              "      <th></th>\n",
              "      <th>Class</th>\n",
              "      <th>_RMSenergy_Mean</th>\n",
              "      <th>_Lowenergy_Mean</th>\n",
              "      <th>_Fluctuation_Mean</th>\n",
              "      <th>_Tempo_Mean</th>\n",
              "      <th>_MFCC_Mean_1</th>\n",
              "      <th>_MFCC_Mean_2</th>\n",
              "      <th>_MFCC_Mean_3</th>\n",
              "      <th>_MFCC_Mean_4</th>\n",
              "      <th>_MFCC_Mean_5</th>\n",
              "      <th>...</th>\n",
              "      <th>_Chromagram_Mean_9</th>\n",
              "      <th>_Chromagram_Mean_10</th>\n",
              "      <th>_Chromagram_Mean_11</th>\n",
              "      <th>_Chromagram_Mean_12</th>\n",
              "      <th>_HarmonicChangeDetectionFunction_Mean</th>\n",
              "      <th>_HarmonicChangeDetectionFunction_Std</th>\n",
              "      <th>_HarmonicChangeDetectionFunction_Slope</th>\n",
              "      <th>_HarmonicChangeDetectionFunction_PeriodFreq</th>\n",
              "      <th>_HarmonicChangeDetectionFunction_PeriodAmp</th>\n",
              "      <th>_HarmonicChangeDetectionFunction_PeriodEntropy</th>\n",
              "    </tr>\n",
              "  </thead>\n",
              "  <tbody>\n",
              "    <tr>\n",
              "      <th>0</th>\n",
              "      <td>relax</td>\n",
              "      <td>0.052</td>\n",
              "      <td>0.591</td>\n",
              "      <td>9.136</td>\n",
              "      <td>130.043</td>\n",
              "      <td>3.997</td>\n",
              "      <td>0.363</td>\n",
              "      <td>0.887</td>\n",
              "      <td>0.078</td>\n",
              "      <td>0.221</td>\n",
              "      <td>...</td>\n",
              "      <td>0.426</td>\n",
              "      <td>1.000</td>\n",
              "      <td>0.008</td>\n",
              "      <td>0.101</td>\n",
              "      <td>0.316</td>\n",
              "      <td>0.261</td>\n",
              "      <td>0.018</td>\n",
              "      <td>1.035</td>\n",
              "      <td>0.593</td>\n",
              "      <td>0.970</td>\n",
              "    </tr>\n",
              "    <tr>\n",
              "      <th>1</th>\n",
              "      <td>relax</td>\n",
              "      <td>0.125</td>\n",
              "      <td>0.439</td>\n",
              "      <td>6.680</td>\n",
              "      <td>142.240</td>\n",
              "      <td>4.058</td>\n",
              "      <td>0.516</td>\n",
              "      <td>0.785</td>\n",
              "      <td>0.397</td>\n",
              "      <td>0.556</td>\n",
              "      <td>...</td>\n",
              "      <td>0.002</td>\n",
              "      <td>1.000</td>\n",
              "      <td>0.000</td>\n",
              "      <td>0.984</td>\n",
              "      <td>0.285</td>\n",
              "      <td>0.211</td>\n",
              "      <td>-0.082</td>\n",
              "      <td>3.364</td>\n",
              "      <td>0.702</td>\n",
              "      <td>0.967</td>\n",
              "    </tr>\n",
              "    <tr>\n",
              "      <th>2</th>\n",
              "      <td>relax</td>\n",
              "      <td>0.046</td>\n",
              "      <td>0.639</td>\n",
              "      <td>10.578</td>\n",
              "      <td>188.154</td>\n",
              "      <td>2.775</td>\n",
              "      <td>0.903</td>\n",
              "      <td>0.502</td>\n",
              "      <td>0.329</td>\n",
              "      <td>0.287</td>\n",
              "      <td>...</td>\n",
              "      <td>0.184</td>\n",
              "      <td>0.746</td>\n",
              "      <td>0.016</td>\n",
              "      <td>1.000</td>\n",
              "      <td>0.413</td>\n",
              "      <td>0.299</td>\n",
              "      <td>0.134</td>\n",
              "      <td>1.682</td>\n",
              "      <td>0.692</td>\n",
              "      <td>0.963</td>\n",
              "    </tr>\n",
              "    <tr>\n",
              "      <th>3</th>\n",
              "      <td>relax</td>\n",
              "      <td>0.135</td>\n",
              "      <td>0.603</td>\n",
              "      <td>10.442</td>\n",
              "      <td>65.991</td>\n",
              "      <td>2.841</td>\n",
              "      <td>1.552</td>\n",
              "      <td>0.612</td>\n",
              "      <td>0.351</td>\n",
              "      <td>0.011</td>\n",
              "      <td>...</td>\n",
              "      <td>0.038</td>\n",
              "      <td>1.000</td>\n",
              "      <td>0.161</td>\n",
              "      <td>0.757</td>\n",
              "      <td>0.422</td>\n",
              "      <td>0.265</td>\n",
              "      <td>0.042</td>\n",
              "      <td>0.354</td>\n",
              "      <td>0.743</td>\n",
              "      <td>0.968</td>\n",
              "    </tr>\n",
              "    <tr>\n",
              "      <th>4</th>\n",
              "      <td>relax</td>\n",
              "      <td>0.066</td>\n",
              "      <td>0.591</td>\n",
              "      <td>9.769</td>\n",
              "      <td>88.890</td>\n",
              "      <td>3.217</td>\n",
              "      <td>0.228</td>\n",
              "      <td>0.814</td>\n",
              "      <td>0.096</td>\n",
              "      <td>0.434</td>\n",
              "      <td>...</td>\n",
              "      <td>0.004</td>\n",
              "      <td>0.404</td>\n",
              "      <td>1.000</td>\n",
              "      <td>0.001</td>\n",
              "      <td>0.345</td>\n",
              "      <td>0.261</td>\n",
              "      <td>0.089</td>\n",
              "      <td>0.748</td>\n",
              "      <td>0.674</td>\n",
              "      <td>0.957</td>\n",
              "    </tr>\n",
              "    <tr>\n",
              "      <th>...</th>\n",
              "      <td>...</td>\n",
              "      <td>...</td>\n",
              "      <td>...</td>\n",
              "      <td>...</td>\n",
              "      <td>...</td>\n",
              "      <td>...</td>\n",
              "      <td>...</td>\n",
              "      <td>...</td>\n",
              "      <td>...</td>\n",
              "      <td>...</td>\n",
              "      <td>...</td>\n",
              "      <td>...</td>\n",
              "      <td>...</td>\n",
              "      <td>...</td>\n",
              "      <td>...</td>\n",
              "      <td>...</td>\n",
              "      <td>...</td>\n",
              "      <td>...</td>\n",
              "      <td>...</td>\n",
              "      <td>...</td>\n",
              "      <td>...</td>\n",
              "    </tr>\n",
              "    <tr>\n",
              "      <th>395</th>\n",
              "      <td>angry</td>\n",
              "      <td>0.174</td>\n",
              "      <td>0.578</td>\n",
              "      <td>5.265</td>\n",
              "      <td>161.144</td>\n",
              "      <td>2.985</td>\n",
              "      <td>0.065</td>\n",
              "      <td>0.718</td>\n",
              "      <td>0.046</td>\n",
              "      <td>0.265</td>\n",
              "      <td>...</td>\n",
              "      <td>0.374</td>\n",
              "      <td>0.838</td>\n",
              "      <td>0.413</td>\n",
              "      <td>0.125</td>\n",
              "      <td>0.323</td>\n",
              "      <td>0.140</td>\n",
              "      <td>0.120</td>\n",
              "      <td>2.691</td>\n",
              "      <td>0.867</td>\n",
              "      <td>0.969</td>\n",
              "    </tr>\n",
              "    <tr>\n",
              "      <th>396</th>\n",
              "      <td>angry</td>\n",
              "      <td>0.176</td>\n",
              "      <td>0.498</td>\n",
              "      <td>5.042</td>\n",
              "      <td>179.787</td>\n",
              "      <td>2.790</td>\n",
              "      <td>-0.148</td>\n",
              "      <td>0.342</td>\n",
              "      <td>-0.011</td>\n",
              "      <td>0.029</td>\n",
              "      <td>...</td>\n",
              "      <td>0.020</td>\n",
              "      <td>1.000</td>\n",
              "      <td>0.640</td>\n",
              "      <td>0.010</td>\n",
              "      <td>0.233</td>\n",
              "      <td>0.127</td>\n",
              "      <td>0.145</td>\n",
              "      <td>3.364</td>\n",
              "      <td>0.879</td>\n",
              "      <td>0.967</td>\n",
              "    </tr>\n",
              "    <tr>\n",
              "      <th>397</th>\n",
              "      <td>angry</td>\n",
              "      <td>0.187</td>\n",
              "      <td>0.557</td>\n",
              "      <td>4.724</td>\n",
              "      <td>134.032</td>\n",
              "      <td>1.672</td>\n",
              "      <td>0.566</td>\n",
              "      <td>0.880</td>\n",
              "      <td>-0.113</td>\n",
              "      <td>0.244</td>\n",
              "      <td>...</td>\n",
              "      <td>0.052</td>\n",
              "      <td>0.184</td>\n",
              "      <td>0.287</td>\n",
              "      <td>0.101</td>\n",
              "      <td>0.269</td>\n",
              "      <td>0.157</td>\n",
              "      <td>0.111</td>\n",
              "      <td>3.364</td>\n",
              "      <td>0.819</td>\n",
              "      <td>0.962</td>\n",
              "    </tr>\n",
              "    <tr>\n",
              "      <th>398</th>\n",
              "      <td>angry</td>\n",
              "      <td>0.140</td>\n",
              "      <td>0.573</td>\n",
              "      <td>4.470</td>\n",
              "      <td>113.600</td>\n",
              "      <td>1.997</td>\n",
              "      <td>-0.210</td>\n",
              "      <td>0.694</td>\n",
              "      <td>0.089</td>\n",
              "      <td>0.206</td>\n",
              "      <td>...</td>\n",
              "      <td>0.137</td>\n",
              "      <td>1.000</td>\n",
              "      <td>0.304</td>\n",
              "      <td>0.140</td>\n",
              "      <td>0.277</td>\n",
              "      <td>0.144</td>\n",
              "      <td>0.061</td>\n",
              "      <td>3.364</td>\n",
              "      <td>0.811</td>\n",
              "      <td>0.969</td>\n",
              "    </tr>\n",
              "    <tr>\n",
              "      <th>399</th>\n",
              "      <td>angry</td>\n",
              "      <td>0.086</td>\n",
              "      <td>0.475</td>\n",
              "      <td>5.343</td>\n",
              "      <td>151.748</td>\n",
              "      <td>2.240</td>\n",
              "      <td>-0.014</td>\n",
              "      <td>0.834</td>\n",
              "      <td>-0.021</td>\n",
              "      <td>0.345</td>\n",
              "      <td>...</td>\n",
              "      <td>0.099</td>\n",
              "      <td>1.000</td>\n",
              "      <td>0.094</td>\n",
              "      <td>0.033</td>\n",
              "      <td>0.195</td>\n",
              "      <td>0.110</td>\n",
              "      <td>0.007</td>\n",
              "      <td>0.641</td>\n",
              "      <td>0.848</td>\n",
              "      <td>0.965</td>\n",
              "    </tr>\n",
              "  </tbody>\n",
              "</table>\n",
              "<p>400 rows × 51 columns</p>\n",
              "</div>\n",
              "      <button class=\"colab-df-convert\" onclick=\"convertToInteractive('df-8e40fdb0-4a94-46ad-b1c4-591df93eb01e')\"\n",
              "              title=\"Convert this dataframe to an interactive table.\"\n",
              "              style=\"display:none;\">\n",
              "        \n",
              "  <svg xmlns=\"http://www.w3.org/2000/svg\" height=\"24px\"viewBox=\"0 0 24 24\"\n",
              "       width=\"24px\">\n",
              "    <path d=\"M0 0h24v24H0V0z\" fill=\"none\"/>\n",
              "    <path d=\"M18.56 5.44l.94 2.06.94-2.06 2.06-.94-2.06-.94-.94-2.06-.94 2.06-2.06.94zm-11 1L8.5 8.5l.94-2.06 2.06-.94-2.06-.94L8.5 2.5l-.94 2.06-2.06.94zm10 10l.94 2.06.94-2.06 2.06-.94-2.06-.94-.94-2.06-.94 2.06-2.06.94z\"/><path d=\"M17.41 7.96l-1.37-1.37c-.4-.4-.92-.59-1.43-.59-.52 0-1.04.2-1.43.59L10.3 9.45l-7.72 7.72c-.78.78-.78 2.05 0 2.83L4 21.41c.39.39.9.59 1.41.59.51 0 1.02-.2 1.41-.59l7.78-7.78 2.81-2.81c.8-.78.8-2.07 0-2.86zM5.41 20L4 18.59l7.72-7.72 1.47 1.35L5.41 20z\"/>\n",
              "  </svg>\n",
              "      </button>\n",
              "      \n",
              "  <style>\n",
              "    .colab-df-container {\n",
              "      display:flex;\n",
              "      flex-wrap:wrap;\n",
              "      gap: 12px;\n",
              "    }\n",
              "\n",
              "    .colab-df-convert {\n",
              "      background-color: #E8F0FE;\n",
              "      border: none;\n",
              "      border-radius: 50%;\n",
              "      cursor: pointer;\n",
              "      display: none;\n",
              "      fill: #1967D2;\n",
              "      height: 32px;\n",
              "      padding: 0 0 0 0;\n",
              "      width: 32px;\n",
              "    }\n",
              "\n",
              "    .colab-df-convert:hover {\n",
              "      background-color: #E2EBFA;\n",
              "      box-shadow: 0px 1px 2px rgba(60, 64, 67, 0.3), 0px 1px 3px 1px rgba(60, 64, 67, 0.15);\n",
              "      fill: #174EA6;\n",
              "    }\n",
              "\n",
              "    [theme=dark] .colab-df-convert {\n",
              "      background-color: #3B4455;\n",
              "      fill: #D2E3FC;\n",
              "    }\n",
              "\n",
              "    [theme=dark] .colab-df-convert:hover {\n",
              "      background-color: #434B5C;\n",
              "      box-shadow: 0px 1px 3px 1px rgba(0, 0, 0, 0.15);\n",
              "      filter: drop-shadow(0px 1px 2px rgba(0, 0, 0, 0.3));\n",
              "      fill: #FFFFFF;\n",
              "    }\n",
              "  </style>\n",
              "\n",
              "      <script>\n",
              "        const buttonEl =\n",
              "          document.querySelector('#df-8e40fdb0-4a94-46ad-b1c4-591df93eb01e button.colab-df-convert');\n",
              "        buttonEl.style.display =\n",
              "          google.colab.kernel.accessAllowed ? 'block' : 'none';\n",
              "\n",
              "        async function convertToInteractive(key) {\n",
              "          const element = document.querySelector('#df-8e40fdb0-4a94-46ad-b1c4-591df93eb01e');\n",
              "          const dataTable =\n",
              "            await google.colab.kernel.invokeFunction('convertToInteractive',\n",
              "                                                     [key], {});\n",
              "          if (!dataTable) return;\n",
              "\n",
              "          const docLinkHtml = 'Like what you see? Visit the ' +\n",
              "            '<a target=\"_blank\" href=https://colab.research.google.com/notebooks/data_table.ipynb>data table notebook</a>'\n",
              "            + ' to learn more about interactive tables.';\n",
              "          element.innerHTML = '';\n",
              "          dataTable['output_type'] = 'display_data';\n",
              "          await google.colab.output.renderOutput(dataTable, element);\n",
              "          const docLink = document.createElement('div');\n",
              "          docLink.innerHTML = docLinkHtml;\n",
              "          element.appendChild(docLink);\n",
              "        }\n",
              "      </script>\n",
              "    </div>\n",
              "  </div>\n",
              "  "
            ]
          },
          "metadata": {},
          "execution_count": 4
        }
      ]
    },
    {
      "cell_type": "code",
      "source": [
        "df.Class.value_counts()"
      ],
      "metadata": {
        "colab": {
          "base_uri": "https://localhost:8080/"
        },
        "id": "Lu8RaP8OEqFD",
        "outputId": "b98a4e00-111e-4c1d-f105-7e5316af48d9"
      },
      "execution_count": 5,
      "outputs": [
        {
          "output_type": "execute_result",
          "data": {
            "text/plain": [
              "relax    100\n",
              "happy    100\n",
              "sad      100\n",
              "angry    100\n",
              "Name: Class, dtype: int64"
            ]
          },
          "metadata": {},
          "execution_count": 5
        }
      ]
    },
    {
      "cell_type": "code",
      "source": [
        "features = df.columns[1:]\n",
        "features"
      ],
      "metadata": {
        "colab": {
          "base_uri": "https://localhost:8080/"
        },
        "id": "4YXJA4wwEruR",
        "outputId": "972149b9-bace-4144-992b-031e955b2df8"
      },
      "execution_count": 42,
      "outputs": [
        {
          "output_type": "execute_result",
          "data": {
            "text/plain": [
              "Index(['_RMSenergy_Mean', '_Lowenergy_Mean', '_Fluctuation_Mean',\n",
              "       '_Tempo_Mean', '_MFCC_Mean_1', '_MFCC_Mean_2', '_MFCC_Mean_3',\n",
              "       '_MFCC_Mean_4', '_MFCC_Mean_5', '_MFCC_Mean_6', '_MFCC_Mean_7',\n",
              "       '_MFCC_Mean_8', '_MFCC_Mean_9', '_MFCC_Mean_10', '_MFCC_Mean_11',\n",
              "       '_MFCC_Mean_12', '_MFCC_Mean_13', '_Roughness_Mean', '_Roughness_Slope',\n",
              "       '_Zero-crossingrate_Mean', '_AttackTime_Mean', '_AttackTime_Slope',\n",
              "       '_Rolloff_Mean', '_Eventdensity_Mean', '_Pulseclarity_Mean',\n",
              "       '_Brightness_Mean', '_Spectralcentroid_Mean', '_Spectralspread_Mean',\n",
              "       '_Spectralskewness_Mean', '_Spectralkurtosis_Mean',\n",
              "       '_Spectralflatness_Mean', '_EntropyofSpectrum_Mean',\n",
              "       '_Chromagram_Mean_1', '_Chromagram_Mean_2', '_Chromagram_Mean_3',\n",
              "       '_Chromagram_Mean_4', '_Chromagram_Mean_5', '_Chromagram_Mean_6',\n",
              "       '_Chromagram_Mean_7', '_Chromagram_Mean_8', '_Chromagram_Mean_9',\n",
              "       '_Chromagram_Mean_10', '_Chromagram_Mean_11', '_Chromagram_Mean_12',\n",
              "       '_HarmonicChangeDetectionFunction_Mean',\n",
              "       '_HarmonicChangeDetectionFunction_Std',\n",
              "       '_HarmonicChangeDetectionFunction_Slope',\n",
              "       '_HarmonicChangeDetectionFunction_PeriodFreq',\n",
              "       '_HarmonicChangeDetectionFunction_PeriodAmp',\n",
              "       '_HarmonicChangeDetectionFunction_PeriodEntropy', 'is_train'],\n",
              "      dtype='object')"
            ]
          },
          "metadata": {},
          "execution_count": 42
        }
      ]
    },
    {
      "cell_type": "code",
      "source": [
        "#Creating Test and Train data\n",
        "df['is_train'] = np.random.uniform(0, 1, len(df)) <= .75\n",
        "#View top 10 rows\n",
        "df.head(10)"
      ],
      "metadata": {
        "colab": {
          "base_uri": "https://localhost:8080/",
          "height": 456
        },
        "id": "0iKsBYgcEs9O",
        "outputId": "cdc6a0e7-a7a7-4181-afa5-3ed491b9efb6"
      },
      "execution_count": 43,
      "outputs": [
        {
          "output_type": "execute_result",
          "data": {
            "text/plain": [
              "   Class  _RMSenergy_Mean  _Lowenergy_Mean  _Fluctuation_Mean  _Tempo_Mean  \\\n",
              "0  relax            0.052            0.591              9.136      130.043   \n",
              "1  relax            0.125            0.439              6.680      142.240   \n",
              "2  relax            0.046            0.639             10.578      188.154   \n",
              "3  relax            0.135            0.603             10.442       65.991   \n",
              "4  relax            0.066            0.591              9.769       88.890   \n",
              "5  relax            0.137            0.510              7.664      116.044   \n",
              "6  relax            0.123            0.533              7.483      136.444   \n",
              "7  relax            0.103            0.575              7.006      141.132   \n",
              "8  relax            0.145            0.542              6.846       82.048   \n",
              "9  relax            0.129            0.618              8.668       93.020   \n",
              "\n",
              "   _MFCC_Mean_1  _MFCC_Mean_2  _MFCC_Mean_3  _MFCC_Mean_4  _MFCC_Mean_5  ...  \\\n",
              "0         3.997         0.363         0.887         0.078         0.221  ...   \n",
              "1         4.058         0.516         0.785         0.397         0.556  ...   \n",
              "2         2.775         0.903         0.502         0.329         0.287  ...   \n",
              "3         2.841         1.552         0.612         0.351         0.011  ...   \n",
              "4         3.217         0.228         0.814         0.096         0.434  ...   \n",
              "5         2.313        -0.082         0.365         0.033        -0.136  ...   \n",
              "6         4.572         1.171         0.939         0.358         0.024  ...   \n",
              "7         3.495         0.553         0.275         0.269         0.257  ...   \n",
              "8         4.010         0.550         0.568         0.559         0.218  ...   \n",
              "9         2.318         0.744         0.537        -0.116         0.119  ...   \n",
              "\n",
              "   _Chromagram_Mean_10  _Chromagram_Mean_11  _Chromagram_Mean_12  \\\n",
              "0                1.000                0.008                0.101   \n",
              "1                1.000                0.000                0.984   \n",
              "2                0.746                0.016                1.000   \n",
              "3                1.000                0.161                0.757   \n",
              "4                0.404                1.000                0.001   \n",
              "5                0.391                0.102                0.000   \n",
              "6                1.000                0.000                0.143   \n",
              "7                1.000                0.030                0.746   \n",
              "8                0.150                0.910                0.000   \n",
              "9                0.018                0.385                0.000   \n",
              "\n",
              "   _HarmonicChangeDetectionFunction_Mean  \\\n",
              "0                                  0.316   \n",
              "1                                  0.285   \n",
              "2                                  0.413   \n",
              "3                                  0.422   \n",
              "4                                  0.345   \n",
              "5                                  0.280   \n",
              "6                                  0.210   \n",
              "7                                  0.366   \n",
              "8                                  0.322   \n",
              "9                                  0.388   \n",
              "\n",
              "   _HarmonicChangeDetectionFunction_Std  \\\n",
              "0                                 0.261   \n",
              "1                                 0.211   \n",
              "2                                 0.299   \n",
              "3                                 0.265   \n",
              "4                                 0.261   \n",
              "5                                 0.240   \n",
              "6                                 0.174   \n",
              "7                                 0.267   \n",
              "8                                 0.210   \n",
              "9                                 0.340   \n",
              "\n",
              "   _HarmonicChangeDetectionFunction_Slope  \\\n",
              "0                                   0.018   \n",
              "1                                  -0.082   \n",
              "2                                   0.134   \n",
              "3                                   0.042   \n",
              "4                                   0.089   \n",
              "5                                   0.355   \n",
              "6                                   0.193   \n",
              "7                                  -0.061   \n",
              "8                                   0.031   \n",
              "9                                   0.122   \n",
              "\n",
              "   _HarmonicChangeDetectionFunction_PeriodFreq  \\\n",
              "0                                        1.035   \n",
              "1                                        3.364   \n",
              "2                                        1.682   \n",
              "3                                        0.354   \n",
              "4                                        0.748   \n",
              "5                                        1.682   \n",
              "6                                        2.691   \n",
              "7                                        0.585   \n",
              "8                                        0.408   \n",
              "9                                        1.682   \n",
              "\n",
              "   _HarmonicChangeDetectionFunction_PeriodAmp  \\\n",
              "0                                       0.593   \n",
              "1                                       0.702   \n",
              "2                                       0.692   \n",
              "3                                       0.743   \n",
              "4                                       0.674   \n",
              "5                                       0.662   \n",
              "6                                       0.691   \n",
              "7                                       0.711   \n",
              "8                                       0.796   \n",
              "9                                       0.627   \n",
              "\n",
              "   _HarmonicChangeDetectionFunction_PeriodEntropy  is_train  \n",
              "0                                           0.970      True  \n",
              "1                                           0.967      True  \n",
              "2                                           0.963      True  \n",
              "3                                           0.968      True  \n",
              "4                                           0.957      True  \n",
              "5                                           0.958      True  \n",
              "6                                           0.966      True  \n",
              "7                                           0.965     False  \n",
              "8                                           0.970      True  \n",
              "9                                           0.965     False  \n",
              "\n",
              "[10 rows x 52 columns]"
            ],
            "text/html": [
              "\n",
              "  <div id=\"df-6561bb31-f953-4473-9951-bc04edbd33b8\">\n",
              "    <div class=\"colab-df-container\">\n",
              "      <div>\n",
              "<style scoped>\n",
              "    .dataframe tbody tr th:only-of-type {\n",
              "        vertical-align: middle;\n",
              "    }\n",
              "\n",
              "    .dataframe tbody tr th {\n",
              "        vertical-align: top;\n",
              "    }\n",
              "\n",
              "    .dataframe thead th {\n",
              "        text-align: right;\n",
              "    }\n",
              "</style>\n",
              "<table border=\"1\" class=\"dataframe\">\n",
              "  <thead>\n",
              "    <tr style=\"text-align: right;\">\n",
              "      <th></th>\n",
              "      <th>Class</th>\n",
              "      <th>_RMSenergy_Mean</th>\n",
              "      <th>_Lowenergy_Mean</th>\n",
              "      <th>_Fluctuation_Mean</th>\n",
              "      <th>_Tempo_Mean</th>\n",
              "      <th>_MFCC_Mean_1</th>\n",
              "      <th>_MFCC_Mean_2</th>\n",
              "      <th>_MFCC_Mean_3</th>\n",
              "      <th>_MFCC_Mean_4</th>\n",
              "      <th>_MFCC_Mean_5</th>\n",
              "      <th>...</th>\n",
              "      <th>_Chromagram_Mean_10</th>\n",
              "      <th>_Chromagram_Mean_11</th>\n",
              "      <th>_Chromagram_Mean_12</th>\n",
              "      <th>_HarmonicChangeDetectionFunction_Mean</th>\n",
              "      <th>_HarmonicChangeDetectionFunction_Std</th>\n",
              "      <th>_HarmonicChangeDetectionFunction_Slope</th>\n",
              "      <th>_HarmonicChangeDetectionFunction_PeriodFreq</th>\n",
              "      <th>_HarmonicChangeDetectionFunction_PeriodAmp</th>\n",
              "      <th>_HarmonicChangeDetectionFunction_PeriodEntropy</th>\n",
              "      <th>is_train</th>\n",
              "    </tr>\n",
              "  </thead>\n",
              "  <tbody>\n",
              "    <tr>\n",
              "      <th>0</th>\n",
              "      <td>relax</td>\n",
              "      <td>0.052</td>\n",
              "      <td>0.591</td>\n",
              "      <td>9.136</td>\n",
              "      <td>130.043</td>\n",
              "      <td>3.997</td>\n",
              "      <td>0.363</td>\n",
              "      <td>0.887</td>\n",
              "      <td>0.078</td>\n",
              "      <td>0.221</td>\n",
              "      <td>...</td>\n",
              "      <td>1.000</td>\n",
              "      <td>0.008</td>\n",
              "      <td>0.101</td>\n",
              "      <td>0.316</td>\n",
              "      <td>0.261</td>\n",
              "      <td>0.018</td>\n",
              "      <td>1.035</td>\n",
              "      <td>0.593</td>\n",
              "      <td>0.970</td>\n",
              "      <td>True</td>\n",
              "    </tr>\n",
              "    <tr>\n",
              "      <th>1</th>\n",
              "      <td>relax</td>\n",
              "      <td>0.125</td>\n",
              "      <td>0.439</td>\n",
              "      <td>6.680</td>\n",
              "      <td>142.240</td>\n",
              "      <td>4.058</td>\n",
              "      <td>0.516</td>\n",
              "      <td>0.785</td>\n",
              "      <td>0.397</td>\n",
              "      <td>0.556</td>\n",
              "      <td>...</td>\n",
              "      <td>1.000</td>\n",
              "      <td>0.000</td>\n",
              "      <td>0.984</td>\n",
              "      <td>0.285</td>\n",
              "      <td>0.211</td>\n",
              "      <td>-0.082</td>\n",
              "      <td>3.364</td>\n",
              "      <td>0.702</td>\n",
              "      <td>0.967</td>\n",
              "      <td>True</td>\n",
              "    </tr>\n",
              "    <tr>\n",
              "      <th>2</th>\n",
              "      <td>relax</td>\n",
              "      <td>0.046</td>\n",
              "      <td>0.639</td>\n",
              "      <td>10.578</td>\n",
              "      <td>188.154</td>\n",
              "      <td>2.775</td>\n",
              "      <td>0.903</td>\n",
              "      <td>0.502</td>\n",
              "      <td>0.329</td>\n",
              "      <td>0.287</td>\n",
              "      <td>...</td>\n",
              "      <td>0.746</td>\n",
              "      <td>0.016</td>\n",
              "      <td>1.000</td>\n",
              "      <td>0.413</td>\n",
              "      <td>0.299</td>\n",
              "      <td>0.134</td>\n",
              "      <td>1.682</td>\n",
              "      <td>0.692</td>\n",
              "      <td>0.963</td>\n",
              "      <td>True</td>\n",
              "    </tr>\n",
              "    <tr>\n",
              "      <th>3</th>\n",
              "      <td>relax</td>\n",
              "      <td>0.135</td>\n",
              "      <td>0.603</td>\n",
              "      <td>10.442</td>\n",
              "      <td>65.991</td>\n",
              "      <td>2.841</td>\n",
              "      <td>1.552</td>\n",
              "      <td>0.612</td>\n",
              "      <td>0.351</td>\n",
              "      <td>0.011</td>\n",
              "      <td>...</td>\n",
              "      <td>1.000</td>\n",
              "      <td>0.161</td>\n",
              "      <td>0.757</td>\n",
              "      <td>0.422</td>\n",
              "      <td>0.265</td>\n",
              "      <td>0.042</td>\n",
              "      <td>0.354</td>\n",
              "      <td>0.743</td>\n",
              "      <td>0.968</td>\n",
              "      <td>True</td>\n",
              "    </tr>\n",
              "    <tr>\n",
              "      <th>4</th>\n",
              "      <td>relax</td>\n",
              "      <td>0.066</td>\n",
              "      <td>0.591</td>\n",
              "      <td>9.769</td>\n",
              "      <td>88.890</td>\n",
              "      <td>3.217</td>\n",
              "      <td>0.228</td>\n",
              "      <td>0.814</td>\n",
              "      <td>0.096</td>\n",
              "      <td>0.434</td>\n",
              "      <td>...</td>\n",
              "      <td>0.404</td>\n",
              "      <td>1.000</td>\n",
              "      <td>0.001</td>\n",
              "      <td>0.345</td>\n",
              "      <td>0.261</td>\n",
              "      <td>0.089</td>\n",
              "      <td>0.748</td>\n",
              "      <td>0.674</td>\n",
              "      <td>0.957</td>\n",
              "      <td>True</td>\n",
              "    </tr>\n",
              "    <tr>\n",
              "      <th>5</th>\n",
              "      <td>relax</td>\n",
              "      <td>0.137</td>\n",
              "      <td>0.510</td>\n",
              "      <td>7.664</td>\n",
              "      <td>116.044</td>\n",
              "      <td>2.313</td>\n",
              "      <td>-0.082</td>\n",
              "      <td>0.365</td>\n",
              "      <td>0.033</td>\n",
              "      <td>-0.136</td>\n",
              "      <td>...</td>\n",
              "      <td>0.391</td>\n",
              "      <td>0.102</td>\n",
              "      <td>0.000</td>\n",
              "      <td>0.280</td>\n",
              "      <td>0.240</td>\n",
              "      <td>0.355</td>\n",
              "      <td>1.682</td>\n",
              "      <td>0.662</td>\n",
              "      <td>0.958</td>\n",
              "      <td>True</td>\n",
              "    </tr>\n",
              "    <tr>\n",
              "      <th>6</th>\n",
              "      <td>relax</td>\n",
              "      <td>0.123</td>\n",
              "      <td>0.533</td>\n",
              "      <td>7.483</td>\n",
              "      <td>136.444</td>\n",
              "      <td>4.572</td>\n",
              "      <td>1.171</td>\n",
              "      <td>0.939</td>\n",
              "      <td>0.358</td>\n",
              "      <td>0.024</td>\n",
              "      <td>...</td>\n",
              "      <td>1.000</td>\n",
              "      <td>0.000</td>\n",
              "      <td>0.143</td>\n",
              "      <td>0.210</td>\n",
              "      <td>0.174</td>\n",
              "      <td>0.193</td>\n",
              "      <td>2.691</td>\n",
              "      <td>0.691</td>\n",
              "      <td>0.966</td>\n",
              "      <td>True</td>\n",
              "    </tr>\n",
              "    <tr>\n",
              "      <th>7</th>\n",
              "      <td>relax</td>\n",
              "      <td>0.103</td>\n",
              "      <td>0.575</td>\n",
              "      <td>7.006</td>\n",
              "      <td>141.132</td>\n",
              "      <td>3.495</td>\n",
              "      <td>0.553</td>\n",
              "      <td>0.275</td>\n",
              "      <td>0.269</td>\n",
              "      <td>0.257</td>\n",
              "      <td>...</td>\n",
              "      <td>1.000</td>\n",
              "      <td>0.030</td>\n",
              "      <td>0.746</td>\n",
              "      <td>0.366</td>\n",
              "      <td>0.267</td>\n",
              "      <td>-0.061</td>\n",
              "      <td>0.585</td>\n",
              "      <td>0.711</td>\n",
              "      <td>0.965</td>\n",
              "      <td>False</td>\n",
              "    </tr>\n",
              "    <tr>\n",
              "      <th>8</th>\n",
              "      <td>relax</td>\n",
              "      <td>0.145</td>\n",
              "      <td>0.542</td>\n",
              "      <td>6.846</td>\n",
              "      <td>82.048</td>\n",
              "      <td>4.010</td>\n",
              "      <td>0.550</td>\n",
              "      <td>0.568</td>\n",
              "      <td>0.559</td>\n",
              "      <td>0.218</td>\n",
              "      <td>...</td>\n",
              "      <td>0.150</td>\n",
              "      <td>0.910</td>\n",
              "      <td>0.000</td>\n",
              "      <td>0.322</td>\n",
              "      <td>0.210</td>\n",
              "      <td>0.031</td>\n",
              "      <td>0.408</td>\n",
              "      <td>0.796</td>\n",
              "      <td>0.970</td>\n",
              "      <td>True</td>\n",
              "    </tr>\n",
              "    <tr>\n",
              "      <th>9</th>\n",
              "      <td>relax</td>\n",
              "      <td>0.129</td>\n",
              "      <td>0.618</td>\n",
              "      <td>8.668</td>\n",
              "      <td>93.020</td>\n",
              "      <td>2.318</td>\n",
              "      <td>0.744</td>\n",
              "      <td>0.537</td>\n",
              "      <td>-0.116</td>\n",
              "      <td>0.119</td>\n",
              "      <td>...</td>\n",
              "      <td>0.018</td>\n",
              "      <td>0.385</td>\n",
              "      <td>0.000</td>\n",
              "      <td>0.388</td>\n",
              "      <td>0.340</td>\n",
              "      <td>0.122</td>\n",
              "      <td>1.682</td>\n",
              "      <td>0.627</td>\n",
              "      <td>0.965</td>\n",
              "      <td>False</td>\n",
              "    </tr>\n",
              "  </tbody>\n",
              "</table>\n",
              "<p>10 rows × 52 columns</p>\n",
              "</div>\n",
              "      <button class=\"colab-df-convert\" onclick=\"convertToInteractive('df-6561bb31-f953-4473-9951-bc04edbd33b8')\"\n",
              "              title=\"Convert this dataframe to an interactive table.\"\n",
              "              style=\"display:none;\">\n",
              "        \n",
              "  <svg xmlns=\"http://www.w3.org/2000/svg\" height=\"24px\"viewBox=\"0 0 24 24\"\n",
              "       width=\"24px\">\n",
              "    <path d=\"M0 0h24v24H0V0z\" fill=\"none\"/>\n",
              "    <path d=\"M18.56 5.44l.94 2.06.94-2.06 2.06-.94-2.06-.94-.94-2.06-.94 2.06-2.06.94zm-11 1L8.5 8.5l.94-2.06 2.06-.94-2.06-.94L8.5 2.5l-.94 2.06-2.06.94zm10 10l.94 2.06.94-2.06 2.06-.94-2.06-.94-.94-2.06-.94 2.06-2.06.94z\"/><path d=\"M17.41 7.96l-1.37-1.37c-.4-.4-.92-.59-1.43-.59-.52 0-1.04.2-1.43.59L10.3 9.45l-7.72 7.72c-.78.78-.78 2.05 0 2.83L4 21.41c.39.39.9.59 1.41.59.51 0 1.02-.2 1.41-.59l7.78-7.78 2.81-2.81c.8-.78.8-2.07 0-2.86zM5.41 20L4 18.59l7.72-7.72 1.47 1.35L5.41 20z\"/>\n",
              "  </svg>\n",
              "      </button>\n",
              "      \n",
              "  <style>\n",
              "    .colab-df-container {\n",
              "      display:flex;\n",
              "      flex-wrap:wrap;\n",
              "      gap: 12px;\n",
              "    }\n",
              "\n",
              "    .colab-df-convert {\n",
              "      background-color: #E8F0FE;\n",
              "      border: none;\n",
              "      border-radius: 50%;\n",
              "      cursor: pointer;\n",
              "      display: none;\n",
              "      fill: #1967D2;\n",
              "      height: 32px;\n",
              "      padding: 0 0 0 0;\n",
              "      width: 32px;\n",
              "    }\n",
              "\n",
              "    .colab-df-convert:hover {\n",
              "      background-color: #E2EBFA;\n",
              "      box-shadow: 0px 1px 2px rgba(60, 64, 67, 0.3), 0px 1px 3px 1px rgba(60, 64, 67, 0.15);\n",
              "      fill: #174EA6;\n",
              "    }\n",
              "\n",
              "    [theme=dark] .colab-df-convert {\n",
              "      background-color: #3B4455;\n",
              "      fill: #D2E3FC;\n",
              "    }\n",
              "\n",
              "    [theme=dark] .colab-df-convert:hover {\n",
              "      background-color: #434B5C;\n",
              "      box-shadow: 0px 1px 3px 1px rgba(0, 0, 0, 0.15);\n",
              "      filter: drop-shadow(0px 1px 2px rgba(0, 0, 0, 0.3));\n",
              "      fill: #FFFFFF;\n",
              "    }\n",
              "  </style>\n",
              "\n",
              "      <script>\n",
              "        const buttonEl =\n",
              "          document.querySelector('#df-6561bb31-f953-4473-9951-bc04edbd33b8 button.colab-df-convert');\n",
              "        buttonEl.style.display =\n",
              "          google.colab.kernel.accessAllowed ? 'block' : 'none';\n",
              "\n",
              "        async function convertToInteractive(key) {\n",
              "          const element = document.querySelector('#df-6561bb31-f953-4473-9951-bc04edbd33b8');\n",
              "          const dataTable =\n",
              "            await google.colab.kernel.invokeFunction('convertToInteractive',\n",
              "                                                     [key], {});\n",
              "          if (!dataTable) return;\n",
              "\n",
              "          const docLinkHtml = 'Like what you see? Visit the ' +\n",
              "            '<a target=\"_blank\" href=https://colab.research.google.com/notebooks/data_table.ipynb>data table notebook</a>'\n",
              "            + ' to learn more about interactive tables.';\n",
              "          element.innerHTML = '';\n",
              "          dataTable['output_type'] = 'display_data';\n",
              "          await google.colab.output.renderOutput(dataTable, element);\n",
              "          const docLink = document.createElement('div');\n",
              "          docLink.innerHTML = docLinkHtml;\n",
              "          element.appendChild(docLink);\n",
              "        }\n",
              "      </script>\n",
              "    </div>\n",
              "  </div>\n",
              "  "
            ]
          },
          "metadata": {},
          "execution_count": 43
        }
      ]
    },
    {
      "cell_type": "code",
      "source": [
        "#Create dataframes with train and test rows\n",
        "train, test = df[df['is_train']==True], df[df['is_train']==False]\n",
        "\n",
        "#show the number of rows in test and train dataframe\n",
        "print(\"training data \", len(train))\n",
        "print(\"testing data \", len(test))"
      ],
      "metadata": {
        "colab": {
          "base_uri": "https://localhost:8080/"
        },
        "id": "bCZab1nJEv5s",
        "outputId": "ad2d908f-068c-412a-8f7d-61bafca39aa2"
      },
      "execution_count": 44,
      "outputs": [
        {
          "output_type": "stream",
          "name": "stdout",
          "text": [
            "training data  292\n",
            "testing data  108\n"
          ]
        }
      ]
    },
    {
      "cell_type": "code",
      "source": [
        "#Converting each Class naem into digits\n",
        "y = pd.factorize(train['Class'])[0]\n",
        "#viewing target\n",
        "y"
      ],
      "metadata": {
        "colab": {
          "base_uri": "https://localhost:8080/"
        },
        "id": "s3ZAhNvIE0O5",
        "outputId": "10f412f3-0f4e-4b77-847f-1a63b8f5ffc9"
      },
      "execution_count": 45,
      "outputs": [
        {
          "output_type": "execute_result",
          "data": {
            "text/plain": [
              "array([0, 0, 0, 0, 0, 0, 0, 0, 0, 0, 0, 0, 0, 0, 0, 0, 0, 0, 0, 0, 0, 0,\n",
              "       0, 0, 0, 0, 0, 0, 0, 0, 0, 0, 0, 0, 0, 0, 0, 0, 0, 0, 0, 0, 0, 0,\n",
              "       0, 0, 0, 0, 0, 0, 0, 0, 0, 0, 0, 0, 0, 0, 0, 0, 0, 0, 0, 0, 0, 0,\n",
              "       0, 0, 0, 0, 0, 0, 0, 0, 0, 0, 0, 1, 1, 1, 1, 1, 1, 1, 1, 1, 1, 1,\n",
              "       1, 1, 1, 1, 1, 1, 1, 1, 1, 1, 1, 1, 1, 1, 1, 1, 1, 1, 1, 1, 1, 1,\n",
              "       1, 1, 1, 1, 1, 1, 1, 1, 1, 1, 1, 1, 1, 1, 1, 1, 1, 1, 1, 1, 1, 1,\n",
              "       1, 1, 1, 1, 1, 1, 1, 1, 1, 1, 2, 2, 2, 2, 2, 2, 2, 2, 2, 2, 2, 2,\n",
              "       2, 2, 2, 2, 2, 2, 2, 2, 2, 2, 2, 2, 2, 2, 2, 2, 2, 2, 2, 2, 2, 2,\n",
              "       2, 2, 2, 2, 2, 2, 2, 2, 2, 2, 2, 2, 2, 2, 2, 2, 2, 2, 2, 2, 2, 2,\n",
              "       2, 2, 2, 2, 2, 2, 2, 2, 2, 2, 2, 2, 2, 2, 2, 2, 2, 2, 2, 2, 3, 3,\n",
              "       3, 3, 3, 3, 3, 3, 3, 3, 3, 3, 3, 3, 3, 3, 3, 3, 3, 3, 3, 3, 3, 3,\n",
              "       3, 3, 3, 3, 3, 3, 3, 3, 3, 3, 3, 3, 3, 3, 3, 3, 3, 3, 3, 3, 3, 3,\n",
              "       3, 3, 3, 3, 3, 3, 3, 3, 3, 3, 3, 3, 3, 3, 3, 3, 3, 3, 3, 3, 3, 3,\n",
              "       3, 3, 3, 3, 3, 3])"
            ]
          },
          "metadata": {},
          "execution_count": 45
        }
      ]
    },
    {
      "cell_type": "code",
      "source": [
        "#Converting each Class name into digits for test data\n",
        "x = pd.factorize(test['Class'])[0]\n",
        "#viewing target\n",
        "x"
      ],
      "metadata": {
        "colab": {
          "base_uri": "https://localhost:8080/"
        },
        "id": "wBSaOG_LE2Fo",
        "outputId": "e4cbd15e-623b-496d-ec36-942f95c80407"
      },
      "execution_count": 46,
      "outputs": [
        {
          "output_type": "execute_result",
          "data": {
            "text/plain": [
              "array([0, 0, 0, 0, 0, 0, 0, 0, 0, 0, 0, 0, 0, 0, 0, 0, 0, 0, 0, 0, 0, 0,\n",
              "       0, 1, 1, 1, 1, 1, 1, 1, 1, 1, 1, 1, 1, 1, 1, 1, 1, 1, 1, 1, 1, 1,\n",
              "       1, 1, 1, 1, 1, 1, 1, 1, 1, 1, 1, 1, 1, 1, 2, 2, 2, 2, 2, 2, 2, 2,\n",
              "       2, 2, 2, 2, 2, 2, 2, 2, 2, 2, 2, 2, 2, 2, 2, 2, 3, 3, 3, 3, 3, 3,\n",
              "       3, 3, 3, 3, 3, 3, 3, 3, 3, 3, 3, 3, 3, 3, 3, 3, 3, 3, 3, 3])"
            ]
          },
          "metadata": {},
          "execution_count": 46
        }
      ]
    },
    {
      "cell_type": "code",
      "source": [
        "target_names = (train['Class']).unique()\n",
        "target_names\n"
      ],
      "metadata": {
        "colab": {
          "base_uri": "https://localhost:8080/"
        },
        "id": "gunyOTEGE4u7",
        "outputId": "b6a76230-63a1-4705-bd36-3255e2b6e115"
      },
      "execution_count": 47,
      "outputs": [
        {
          "output_type": "execute_result",
          "data": {
            "text/plain": [
              "array(['relax', 'happy', 'sad', 'angry'], dtype=object)"
            ]
          },
          "metadata": {},
          "execution_count": 47
        }
      ]
    },
    {
      "cell_type": "code",
      "source": [
        "# Create an SVM classifier\n",
        "svm_classifier = SVC(kernel='linear')\n",
        "\n",
        "# Train the classifier\n",
        "svm_classifier.fit(train[features], y)\n",
        "\n",
        "# Make predictions on the test set\n",
        "y_pred = svm_classifier.predict(test[features])"
      ],
      "metadata": {
        "id": "jPpn1oigE688"
      },
      "execution_count": 48,
      "outputs": []
    },
    {
      "cell_type": "code",
      "source": [
        "#mapping names of moods for each music for each predicted mood\n",
        "preds  = target_names[svm_classifier.predict(test[features])]\n",
        "\n",
        "#View the predicted moods for firat five observations\n",
        "preds[10:20]"
      ],
      "metadata": {
        "colab": {
          "base_uri": "https://localhost:8080/"
        },
        "id": "QIxBuIycFQdz",
        "outputId": "a76e032a-fcef-4057-c467-c365230f35fc"
      },
      "execution_count": 49,
      "outputs": [
        {
          "output_type": "execute_result",
          "data": {
            "text/plain": [
              "array(['relax', 'relax', 'relax', 'sad', 'relax', 'relax', 'relax',\n",
              "       'relax', 'relax', 'sad'], dtype=object)"
            ]
          },
          "metadata": {},
          "execution_count": 49
        }
      ]
    },
    {
      "cell_type": "code",
      "source": [
        "pd.crosstab(test['Class'], preds, rownames=['Actual mood'], colnames=['Predicted Species'])"
      ],
      "metadata": {
        "colab": {
          "base_uri": "https://localhost:8080/",
          "height": 206
        },
        "id": "GwTtPvzPHwZ7",
        "outputId": "ef8b625b-301c-4941-be5c-153244997650"
      },
      "execution_count": 50,
      "outputs": [
        {
          "output_type": "execute_result",
          "data": {
            "text/plain": [
              "Predicted Species  angry  happy  relax  sad\n",
              "Actual mood                                \n",
              "angry                 15      1      5    5\n",
              "happy                  0     28      3    4\n",
              "relax                  0      2     18    3\n",
              "sad                    0      1     11   12"
            ],
            "text/html": [
              "\n",
              "  <div id=\"df-00d032e4-9e44-48a3-956a-f3a040c90923\">\n",
              "    <div class=\"colab-df-container\">\n",
              "      <div>\n",
              "<style scoped>\n",
              "    .dataframe tbody tr th:only-of-type {\n",
              "        vertical-align: middle;\n",
              "    }\n",
              "\n",
              "    .dataframe tbody tr th {\n",
              "        vertical-align: top;\n",
              "    }\n",
              "\n",
              "    .dataframe thead th {\n",
              "        text-align: right;\n",
              "    }\n",
              "</style>\n",
              "<table border=\"1\" class=\"dataframe\">\n",
              "  <thead>\n",
              "    <tr style=\"text-align: right;\">\n",
              "      <th>Predicted Species</th>\n",
              "      <th>angry</th>\n",
              "      <th>happy</th>\n",
              "      <th>relax</th>\n",
              "      <th>sad</th>\n",
              "    </tr>\n",
              "    <tr>\n",
              "      <th>Actual mood</th>\n",
              "      <th></th>\n",
              "      <th></th>\n",
              "      <th></th>\n",
              "      <th></th>\n",
              "    </tr>\n",
              "  </thead>\n",
              "  <tbody>\n",
              "    <tr>\n",
              "      <th>angry</th>\n",
              "      <td>15</td>\n",
              "      <td>1</td>\n",
              "      <td>5</td>\n",
              "      <td>5</td>\n",
              "    </tr>\n",
              "    <tr>\n",
              "      <th>happy</th>\n",
              "      <td>0</td>\n",
              "      <td>28</td>\n",
              "      <td>3</td>\n",
              "      <td>4</td>\n",
              "    </tr>\n",
              "    <tr>\n",
              "      <th>relax</th>\n",
              "      <td>0</td>\n",
              "      <td>2</td>\n",
              "      <td>18</td>\n",
              "      <td>3</td>\n",
              "    </tr>\n",
              "    <tr>\n",
              "      <th>sad</th>\n",
              "      <td>0</td>\n",
              "      <td>1</td>\n",
              "      <td>11</td>\n",
              "      <td>12</td>\n",
              "    </tr>\n",
              "  </tbody>\n",
              "</table>\n",
              "</div>\n",
              "      <button class=\"colab-df-convert\" onclick=\"convertToInteractive('df-00d032e4-9e44-48a3-956a-f3a040c90923')\"\n",
              "              title=\"Convert this dataframe to an interactive table.\"\n",
              "              style=\"display:none;\">\n",
              "        \n",
              "  <svg xmlns=\"http://www.w3.org/2000/svg\" height=\"24px\"viewBox=\"0 0 24 24\"\n",
              "       width=\"24px\">\n",
              "    <path d=\"M0 0h24v24H0V0z\" fill=\"none\"/>\n",
              "    <path d=\"M18.56 5.44l.94 2.06.94-2.06 2.06-.94-2.06-.94-.94-2.06-.94 2.06-2.06.94zm-11 1L8.5 8.5l.94-2.06 2.06-.94-2.06-.94L8.5 2.5l-.94 2.06-2.06.94zm10 10l.94 2.06.94-2.06 2.06-.94-2.06-.94-.94-2.06-.94 2.06-2.06.94z\"/><path d=\"M17.41 7.96l-1.37-1.37c-.4-.4-.92-.59-1.43-.59-.52 0-1.04.2-1.43.59L10.3 9.45l-7.72 7.72c-.78.78-.78 2.05 0 2.83L4 21.41c.39.39.9.59 1.41.59.51 0 1.02-.2 1.41-.59l7.78-7.78 2.81-2.81c.8-.78.8-2.07 0-2.86zM5.41 20L4 18.59l7.72-7.72 1.47 1.35L5.41 20z\"/>\n",
              "  </svg>\n",
              "      </button>\n",
              "      \n",
              "  <style>\n",
              "    .colab-df-container {\n",
              "      display:flex;\n",
              "      flex-wrap:wrap;\n",
              "      gap: 12px;\n",
              "    }\n",
              "\n",
              "    .colab-df-convert {\n",
              "      background-color: #E8F0FE;\n",
              "      border: none;\n",
              "      border-radius: 50%;\n",
              "      cursor: pointer;\n",
              "      display: none;\n",
              "      fill: #1967D2;\n",
              "      height: 32px;\n",
              "      padding: 0 0 0 0;\n",
              "      width: 32px;\n",
              "    }\n",
              "\n",
              "    .colab-df-convert:hover {\n",
              "      background-color: #E2EBFA;\n",
              "      box-shadow: 0px 1px 2px rgba(60, 64, 67, 0.3), 0px 1px 3px 1px rgba(60, 64, 67, 0.15);\n",
              "      fill: #174EA6;\n",
              "    }\n",
              "\n",
              "    [theme=dark] .colab-df-convert {\n",
              "      background-color: #3B4455;\n",
              "      fill: #D2E3FC;\n",
              "    }\n",
              "\n",
              "    [theme=dark] .colab-df-convert:hover {\n",
              "      background-color: #434B5C;\n",
              "      box-shadow: 0px 1px 3px 1px rgba(0, 0, 0, 0.15);\n",
              "      filter: drop-shadow(0px 1px 2px rgba(0, 0, 0, 0.3));\n",
              "      fill: #FFFFFF;\n",
              "    }\n",
              "  </style>\n",
              "\n",
              "      <script>\n",
              "        const buttonEl =\n",
              "          document.querySelector('#df-00d032e4-9e44-48a3-956a-f3a040c90923 button.colab-df-convert');\n",
              "        buttonEl.style.display =\n",
              "          google.colab.kernel.accessAllowed ? 'block' : 'none';\n",
              "\n",
              "        async function convertToInteractive(key) {\n",
              "          const element = document.querySelector('#df-00d032e4-9e44-48a3-956a-f3a040c90923');\n",
              "          const dataTable =\n",
              "            await google.colab.kernel.invokeFunction('convertToInteractive',\n",
              "                                                     [key], {});\n",
              "          if (!dataTable) return;\n",
              "\n",
              "          const docLinkHtml = 'Like what you see? Visit the ' +\n",
              "            '<a target=\"_blank\" href=https://colab.research.google.com/notebooks/data_table.ipynb>data table notebook</a>'\n",
              "            + ' to learn more about interactive tables.';\n",
              "          element.innerHTML = '';\n",
              "          dataTable['output_type'] = 'display_data';\n",
              "          await google.colab.output.renderOutput(dataTable, element);\n",
              "          const docLink = document.createElement('div');\n",
              "          docLink.innerHTML = docLinkHtml;\n",
              "          element.appendChild(docLink);\n",
              "        }\n",
              "      </script>\n",
              "    </div>\n",
              "  </div>\n",
              "  "
            ]
          },
          "metadata": {},
          "execution_count": 50
        }
      ]
    },
    {
      "cell_type": "code",
      "source": [
        "from sklearn.metrics import classification_report\n",
        "report = classification_report(x, y_pred)\n"
      ],
      "metadata": {
        "id": "u9fyJZsTLYIs"
      },
      "execution_count": 55,
      "outputs": []
    },
    {
      "cell_type": "code",
      "source": [
        "print(report)"
      ],
      "metadata": {
        "colab": {
          "base_uri": "https://localhost:8080/"
        },
        "id": "2_MgOnsbMsU7",
        "outputId": "01879aa5-d13f-4cd7-b763-beaa687f1446"
      },
      "execution_count": 57,
      "outputs": [
        {
          "output_type": "stream",
          "name": "stdout",
          "text": [
            "              precision    recall  f1-score   support\n",
            "\n",
            "           0       0.49      0.78      0.60        23\n",
            "           1       0.88      0.80      0.84        35\n",
            "           2       0.50      0.50      0.50        24\n",
            "           3       1.00      0.58      0.73        26\n",
            "\n",
            "    accuracy                           0.68       108\n",
            "   macro avg       0.72      0.66      0.67       108\n",
            "weighted avg       0.74      0.68      0.69       108\n",
            "\n"
          ]
        }
      ]
    },
    {
      "cell_type": "code",
      "source": [
        "accuracy = accuracy_score(x, y_pred) "
      ],
      "metadata": {
        "id": "DhSA9F3nH2fh"
      },
      "execution_count": 58,
      "outputs": []
    },
    {
      "cell_type": "code",
      "source": [
        "accuracy*100"
      ],
      "metadata": {
        "colab": {
          "base_uri": "https://localhost:8080/"
        },
        "id": "GLKnrBdaH_Jq",
        "outputId": "74c67788-d4b2-4a3c-9e32-e172a690c73a"
      },
      "execution_count": 60,
      "outputs": [
        {
          "output_type": "execute_result",
          "data": {
            "text/plain": [
              "67.5925925925926"
            ]
          },
          "metadata": {},
          "execution_count": 60
        }
      ]
    },
    {
      "cell_type": "code",
      "source": [
        "from google.colab import files\n",
        "\n",
        "# Prompt the user to upload a file\n",
        "uploaded = files.upload()\n"
      ],
      "metadata": {
        "colab": {
          "base_uri": "https://localhost:8080/",
          "height": 74
        },
        "id": "sUsZJ4btIApT",
        "outputId": "1547fc51-6492-452a-e68f-2fd6e7b708b8"
      },
      "execution_count": 22,
      "outputs": [
        {
          "output_type": "display_data",
          "data": {
            "text/plain": [
              "<IPython.core.display.HTML object>"
            ],
            "text/html": [
              "\n",
              "     <input type=\"file\" id=\"files-200cabcb-b3d0-4a4e-84db-39f6d2e0e9a3\" name=\"files[]\" multiple disabled\n",
              "        style=\"border:none\" />\n",
              "     <output id=\"result-200cabcb-b3d0-4a4e-84db-39f6d2e0e9a3\">\n",
              "      Upload widget is only available when the cell has been executed in the\n",
              "      current browser session. Please rerun this cell to enable.\n",
              "      </output>\n",
              "      <script>// Copyright 2017 Google LLC\n",
              "//\n",
              "// Licensed under the Apache License, Version 2.0 (the \"License\");\n",
              "// you may not use this file except in compliance with the License.\n",
              "// You may obtain a copy of the License at\n",
              "//\n",
              "//      http://www.apache.org/licenses/LICENSE-2.0\n",
              "//\n",
              "// Unless required by applicable law or agreed to in writing, software\n",
              "// distributed under the License is distributed on an \"AS IS\" BASIS,\n",
              "// WITHOUT WARRANTIES OR CONDITIONS OF ANY KIND, either express or implied.\n",
              "// See the License for the specific language governing permissions and\n",
              "// limitations under the License.\n",
              "\n",
              "/**\n",
              " * @fileoverview Helpers for google.colab Python module.\n",
              " */\n",
              "(function(scope) {\n",
              "function span(text, styleAttributes = {}) {\n",
              "  const element = document.createElement('span');\n",
              "  element.textContent = text;\n",
              "  for (const key of Object.keys(styleAttributes)) {\n",
              "    element.style[key] = styleAttributes[key];\n",
              "  }\n",
              "  return element;\n",
              "}\n",
              "\n",
              "// Max number of bytes which will be uploaded at a time.\n",
              "const MAX_PAYLOAD_SIZE = 100 * 1024;\n",
              "\n",
              "function _uploadFiles(inputId, outputId) {\n",
              "  const steps = uploadFilesStep(inputId, outputId);\n",
              "  const outputElement = document.getElementById(outputId);\n",
              "  // Cache steps on the outputElement to make it available for the next call\n",
              "  // to uploadFilesContinue from Python.\n",
              "  outputElement.steps = steps;\n",
              "\n",
              "  return _uploadFilesContinue(outputId);\n",
              "}\n",
              "\n",
              "// This is roughly an async generator (not supported in the browser yet),\n",
              "// where there are multiple asynchronous steps and the Python side is going\n",
              "// to poll for completion of each step.\n",
              "// This uses a Promise to block the python side on completion of each step,\n",
              "// then passes the result of the previous step as the input to the next step.\n",
              "function _uploadFilesContinue(outputId) {\n",
              "  const outputElement = document.getElementById(outputId);\n",
              "  const steps = outputElement.steps;\n",
              "\n",
              "  const next = steps.next(outputElement.lastPromiseValue);\n",
              "  return Promise.resolve(next.value.promise).then((value) => {\n",
              "    // Cache the last promise value to make it available to the next\n",
              "    // step of the generator.\n",
              "    outputElement.lastPromiseValue = value;\n",
              "    return next.value.response;\n",
              "  });\n",
              "}\n",
              "\n",
              "/**\n",
              " * Generator function which is called between each async step of the upload\n",
              " * process.\n",
              " * @param {string} inputId Element ID of the input file picker element.\n",
              " * @param {string} outputId Element ID of the output display.\n",
              " * @return {!Iterable<!Object>} Iterable of next steps.\n",
              " */\n",
              "function* uploadFilesStep(inputId, outputId) {\n",
              "  const inputElement = document.getElementById(inputId);\n",
              "  inputElement.disabled = false;\n",
              "\n",
              "  const outputElement = document.getElementById(outputId);\n",
              "  outputElement.innerHTML = '';\n",
              "\n",
              "  const pickedPromise = new Promise((resolve) => {\n",
              "    inputElement.addEventListener('change', (e) => {\n",
              "      resolve(e.target.files);\n",
              "    });\n",
              "  });\n",
              "\n",
              "  const cancel = document.createElement('button');\n",
              "  inputElement.parentElement.appendChild(cancel);\n",
              "  cancel.textContent = 'Cancel upload';\n",
              "  const cancelPromise = new Promise((resolve) => {\n",
              "    cancel.onclick = () => {\n",
              "      resolve(null);\n",
              "    };\n",
              "  });\n",
              "\n",
              "  // Wait for the user to pick the files.\n",
              "  const files = yield {\n",
              "    promise: Promise.race([pickedPromise, cancelPromise]),\n",
              "    response: {\n",
              "      action: 'starting',\n",
              "    }\n",
              "  };\n",
              "\n",
              "  cancel.remove();\n",
              "\n",
              "  // Disable the input element since further picks are not allowed.\n",
              "  inputElement.disabled = true;\n",
              "\n",
              "  if (!files) {\n",
              "    return {\n",
              "      response: {\n",
              "        action: 'complete',\n",
              "      }\n",
              "    };\n",
              "  }\n",
              "\n",
              "  for (const file of files) {\n",
              "    const li = document.createElement('li');\n",
              "    li.append(span(file.name, {fontWeight: 'bold'}));\n",
              "    li.append(span(\n",
              "        `(${file.type || 'n/a'}) - ${file.size} bytes, ` +\n",
              "        `last modified: ${\n",
              "            file.lastModifiedDate ? file.lastModifiedDate.toLocaleDateString() :\n",
              "                                    'n/a'} - `));\n",
              "    const percent = span('0% done');\n",
              "    li.appendChild(percent);\n",
              "\n",
              "    outputElement.appendChild(li);\n",
              "\n",
              "    const fileDataPromise = new Promise((resolve) => {\n",
              "      const reader = new FileReader();\n",
              "      reader.onload = (e) => {\n",
              "        resolve(e.target.result);\n",
              "      };\n",
              "      reader.readAsArrayBuffer(file);\n",
              "    });\n",
              "    // Wait for the data to be ready.\n",
              "    let fileData = yield {\n",
              "      promise: fileDataPromise,\n",
              "      response: {\n",
              "        action: 'continue',\n",
              "      }\n",
              "    };\n",
              "\n",
              "    // Use a chunked sending to avoid message size limits. See b/62115660.\n",
              "    let position = 0;\n",
              "    do {\n",
              "      const length = Math.min(fileData.byteLength - position, MAX_PAYLOAD_SIZE);\n",
              "      const chunk = new Uint8Array(fileData, position, length);\n",
              "      position += length;\n",
              "\n",
              "      const base64 = btoa(String.fromCharCode.apply(null, chunk));\n",
              "      yield {\n",
              "        response: {\n",
              "          action: 'append',\n",
              "          file: file.name,\n",
              "          data: base64,\n",
              "        },\n",
              "      };\n",
              "\n",
              "      let percentDone = fileData.byteLength === 0 ?\n",
              "          100 :\n",
              "          Math.round((position / fileData.byteLength) * 100);\n",
              "      percent.textContent = `${percentDone}% done`;\n",
              "\n",
              "    } while (position < fileData.byteLength);\n",
              "  }\n",
              "\n",
              "  // All done.\n",
              "  yield {\n",
              "    response: {\n",
              "      action: 'complete',\n",
              "    }\n",
              "  };\n",
              "}\n",
              "\n",
              "scope.google = scope.google || {};\n",
              "scope.google.colab = scope.google.colab || {};\n",
              "scope.google.colab._files = {\n",
              "  _uploadFiles,\n",
              "  _uploadFilesContinue,\n",
              "};\n",
              "})(self);\n",
              "</script> "
            ]
          },
          "metadata": {}
        },
        {
          "output_type": "stream",
          "name": "stdout",
          "text": [
            "Saving finalmusicfeatureextractednew.py to finalmusicfeatureextractednew.py\n"
          ]
        }
      ]
    },
    {
      "cell_type": "code",
      "source": [
        "from finalmusicfeatureextractednew import feature_extraction"
      ],
      "metadata": {
        "id": "axDzINK3ITZl"
      },
      "execution_count": 23,
      "outputs": []
    },
    {
      "cell_type": "code",
      "source": [
        "x = '/content/drive/MyDrive/TunePocket-Rock-Party-30-Sec-Intro-Preview (1).mp3'\n",
        "features = {}\n",
        "features = feature_extraction(x)"
      ],
      "metadata": {
        "colab": {
          "base_uri": "https://localhost:8080/"
        },
        "id": "k5cnaN2aIXRN",
        "outputId": "3ed7449f-7b30-4b0c-8976-e58f1843a2f8"
      },
      "execution_count": 24,
      "outputs": [
        {
          "output_type": "stream",
          "name": "stderr",
          "text": [
            "/content/finalmusicfeatureextractednew.py:131: RuntimeWarning: invalid value encountered in log2\n",
            "  features['_HarmonicChangeDetectionFunction_PeriodEntropy'] = -np.sum(periodicity * np.log2(periodicity)) / np.sum(periodicity)\n",
            "/usr/local/lib/python3.10/dist-packages/sklearn/utils/extmath.py:1047: RuntimeWarning: invalid value encountered in true_divide\n",
            "  updated_mean = (last_sum + new_sum) / updated_sample_count\n",
            "/usr/local/lib/python3.10/dist-packages/sklearn/utils/extmath.py:1052: RuntimeWarning: invalid value encountered in true_divide\n",
            "  T = new_sum / new_sample_count\n",
            "/usr/local/lib/python3.10/dist-packages/sklearn/utils/extmath.py:1072: RuntimeWarning: invalid value encountered in true_divide\n",
            "  new_unnormalized_variance -= correction**2 / new_sample_count\n"
          ]
        }
      ]
    },
    {
      "cell_type": "code",
      "source": [
        "attribute_avg = train['_HarmonicChangeDetectionFunction_PeriodEntropy'].mean()"
      ],
      "metadata": {
        "id": "AdJcQirLIZSd"
      },
      "execution_count": 25,
      "outputs": []
    },
    {
      "cell_type": "code",
      "source": [
        "features['_HarmonicChangeDetectionFunction_PeriodEntropy'] = attribute_avg"
      ],
      "metadata": {
        "id": "DxSpz2HqJOs5"
      },
      "execution_count": 28,
      "outputs": []
    },
    {
      "cell_type": "code",
      "source": [
        "prediction2 = target_names[svm_classifier.predict(features)]\n",
        "prediction2"
      ],
      "metadata": {
        "colab": {
          "base_uri": "https://localhost:8080/"
        },
        "id": "Zcl2q5xHIcPX",
        "outputId": "9e24e859-e3b6-4edf-81ff-960fdcc38e00"
      },
      "execution_count": 29,
      "outputs": [
        {
          "output_type": "execute_result",
          "data": {
            "text/plain": [
              "array(['happy'], dtype=object)"
            ]
          },
          "metadata": {},
          "execution_count": 29
        }
      ]
    },
    {
      "cell_type": "code",
      "source": [
        "y = '/content/drive/MyDrive/Happiness.mp3'\n",
        "features_2 = {}\n",
        "features_2 = feature_extraction(y)"
      ],
      "metadata": {
        "colab": {
          "base_uri": "https://localhost:8080/"
        },
        "id": "2giU7G-lJCuz",
        "outputId": "58fb8a40-0ac1-446c-dbac-f6b8e917a571"
      },
      "execution_count": 30,
      "outputs": [
        {
          "output_type": "stream",
          "name": "stderr",
          "text": [
            "/content/finalmusicfeatureextractednew.py:131: RuntimeWarning: invalid value encountered in log2\n",
            "  features['_HarmonicChangeDetectionFunction_PeriodEntropy'] = -np.sum(periodicity * np.log2(periodicity)) / np.sum(periodicity)\n",
            "/usr/local/lib/python3.10/dist-packages/sklearn/utils/extmath.py:1047: RuntimeWarning: invalid value encountered in true_divide\n",
            "  updated_mean = (last_sum + new_sum) / updated_sample_count\n",
            "/usr/local/lib/python3.10/dist-packages/sklearn/utils/extmath.py:1052: RuntimeWarning: invalid value encountered in true_divide\n",
            "  T = new_sum / new_sample_count\n",
            "/usr/local/lib/python3.10/dist-packages/sklearn/utils/extmath.py:1072: RuntimeWarning: invalid value encountered in true_divide\n",
            "  new_unnormalized_variance -= correction**2 / new_sample_count\n"
          ]
        }
      ]
    },
    {
      "cell_type": "code",
      "source": [
        "features_2['_HarmonicChangeDetectionFunction_PeriodEntropy'] = attribute_avg"
      ],
      "metadata": {
        "id": "zama2R2_JS9j"
      },
      "execution_count": 31,
      "outputs": []
    },
    {
      "cell_type": "code",
      "source": [
        "prediction3 = target_names[svm_classifier.predict(features_2)]\n",
        "prediction3"
      ],
      "metadata": {
        "colab": {
          "base_uri": "https://localhost:8080/"
        },
        "id": "K_6FPwhHJWJs",
        "outputId": "77b5c21e-b56e-4787-8a97-94e6e7795132"
      },
      "execution_count": 32,
      "outputs": [
        {
          "output_type": "execute_result",
          "data": {
            "text/plain": [
              "array(['happy'], dtype=object)"
            ]
          },
          "metadata": {},
          "execution_count": 32
        }
      ]
    },
    {
      "cell_type": "code",
      "source": [
        "z = '/content/Energetic.mp3'\n",
        "features_3 = {}\n",
        "features_3 = feature_extraction(z)"
      ],
      "metadata": {
        "colab": {
          "base_uri": "https://localhost:8080/"
        },
        "id": "x9aAz5f-J2b1",
        "outputId": "acff72dc-5671-4da7-93a1-d10ebf48e23e"
      },
      "execution_count": 33,
      "outputs": [
        {
          "output_type": "stream",
          "name": "stderr",
          "text": [
            "/content/finalmusicfeatureextractednew.py:131: RuntimeWarning: invalid value encountered in log2\n",
            "  features['_HarmonicChangeDetectionFunction_PeriodEntropy'] = -np.sum(periodicity * np.log2(periodicity)) / np.sum(periodicity)\n",
            "/usr/local/lib/python3.10/dist-packages/sklearn/utils/extmath.py:1047: RuntimeWarning: invalid value encountered in true_divide\n",
            "  updated_mean = (last_sum + new_sum) / updated_sample_count\n",
            "/usr/local/lib/python3.10/dist-packages/sklearn/utils/extmath.py:1052: RuntimeWarning: invalid value encountered in true_divide\n",
            "  T = new_sum / new_sample_count\n",
            "/usr/local/lib/python3.10/dist-packages/sklearn/utils/extmath.py:1072: RuntimeWarning: invalid value encountered in true_divide\n",
            "  new_unnormalized_variance -= correction**2 / new_sample_count\n"
          ]
        }
      ]
    },
    {
      "cell_type": "code",
      "source": [
        "features_3['_HarmonicChangeDetectionFunction_PeriodEntropy'] = attribute_avg"
      ],
      "metadata": {
        "id": "yt9LvQTpJ9ow"
      },
      "execution_count": 34,
      "outputs": []
    },
    {
      "cell_type": "code",
      "source": [
        "prediction4 = target_names[svm_classifier.predict(features_3)]\n",
        "prediction4"
      ],
      "metadata": {
        "colab": {
          "base_uri": "https://localhost:8080/"
        },
        "id": "sAMO3JCGKhxA",
        "outputId": "93b094db-71ea-4d8d-d2ee-61007d80af83"
      },
      "execution_count": 35,
      "outputs": [
        {
          "output_type": "execute_result",
          "data": {
            "text/plain": [
              "array(['happy'], dtype=object)"
            ]
          },
          "metadata": {},
          "execution_count": 35
        }
      ]
    },
    {
      "cell_type": "code",
      "source": [
        "a = '/content/Sad Background Music.mp3'\n",
        "features_4 = {}\n",
        "features_4 = feature_extraction(a)"
      ],
      "metadata": {
        "colab": {
          "base_uri": "https://localhost:8080/"
        },
        "id": "5MhKW56QKkyO",
        "outputId": "c2c509f7-a465-4d42-a3a5-777f8abeb3af"
      },
      "execution_count": 36,
      "outputs": [
        {
          "output_type": "stream",
          "name": "stderr",
          "text": [
            "/content/finalmusicfeatureextractednew.py:131: RuntimeWarning: invalid value encountered in log2\n",
            "  features['_HarmonicChangeDetectionFunction_PeriodEntropy'] = -np.sum(periodicity * np.log2(periodicity)) / np.sum(periodicity)\n",
            "/usr/local/lib/python3.10/dist-packages/sklearn/utils/extmath.py:1047: RuntimeWarning: invalid value encountered in true_divide\n",
            "  updated_mean = (last_sum + new_sum) / updated_sample_count\n",
            "/usr/local/lib/python3.10/dist-packages/sklearn/utils/extmath.py:1052: RuntimeWarning: invalid value encountered in true_divide\n",
            "  T = new_sum / new_sample_count\n",
            "/usr/local/lib/python3.10/dist-packages/sklearn/utils/extmath.py:1072: RuntimeWarning: invalid value encountered in true_divide\n",
            "  new_unnormalized_variance -= correction**2 / new_sample_count\n"
          ]
        }
      ]
    },
    {
      "cell_type": "code",
      "source": [
        "features_4['_HarmonicChangeDetectionFunction_PeriodEntropy'] = attribute_avg"
      ],
      "metadata": {
        "id": "4412vT4vKxqK"
      },
      "execution_count": 37,
      "outputs": []
    },
    {
      "cell_type": "code",
      "source": [
        "prediction5 = target_names[svm_classifier.predict(features_4)]\n",
        "prediction5"
      ],
      "metadata": {
        "colab": {
          "base_uri": "https://localhost:8080/"
        },
        "id": "QiOaX0rXLJbO",
        "outputId": "6be8a104-5c81-4a9d-9ae1-8cbf5f1ba5c4"
      },
      "execution_count": 38,
      "outputs": [
        {
          "output_type": "execute_result",
          "data": {
            "text/plain": [
              "array(['happy'], dtype=object)"
            ]
          },
          "metadata": {},
          "execution_count": 38
        }
      ]
    },
    {
      "cell_type": "code",
      "source": [],
      "metadata": {
        "id": "E3f3lsi-LO2k"
      },
      "execution_count": null,
      "outputs": []
    }
  ]
}