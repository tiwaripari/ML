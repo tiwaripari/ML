{
  "nbformat": 4,
  "nbformat_minor": 0,
  "metadata": {
    "colab": {
      "provenance": [],
      "gpuType": "T4",
      "include_colab_link": true
    },
    "kernelspec": {
      "name": "python3",
      "display_name": "Python 3"
    },
    "language_info": {
      "name": "python"
    },
    "accelerator": "GPU"
  },
  "cells": [
    {
      "cell_type": "markdown",
      "metadata": {
        "id": "view-in-github",
        "colab_type": "text"
      },
      "source": [
        "<a href=\"https://colab.research.google.com/github/tiwaripari/ML/blob/main/RandomForestEmotionClassification.ipynb\" target=\"_parent\"><img src=\"https://colab.research.google.com/assets/colab-badge.svg\" alt=\"Open In Colab\"/></a>"
      ]
    },
    {
      "cell_type": "code",
      "execution_count": 1,
      "metadata": {
        "id": "z8nu1x0vzKAp"
      },
      "outputs": [],
      "source": [
        "import librosa\n",
        "import librosa.display\n",
        "import IPython.display as ipd\n",
        "import numpy as np\n",
        "import pandas as pd\n",
        "from sklearn.ensemble import RandomForestClassifier\n",
        "from sklearn.metrics import accuracy_score"
      ]
    },
    {
      "cell_type": "code",
      "source": [
        "from google.colab import drive\n",
        "drive.mount('/content/drive')"
      ],
      "metadata": {
        "colab": {
          "base_uri": "https://localhost:8080/"
        },
        "id": "Kmh9k5W0aDiB",
        "outputId": "2c6f60b4-e9e6-4431-a5ee-039ee45da33f"
      },
      "execution_count": 2,
      "outputs": [
        {
          "output_type": "stream",
          "name": "stdout",
          "text": [
            "Mounted at /content/drive\n"
          ]
        }
      ]
    },
    {
      "cell_type": "code",
      "source": [
        "df = pd.read_csv(\"/content/drive/MyDrive/Acoustic Features.csv\")"
      ],
      "metadata": {
        "id": "dgIomSyP8xUP"
      },
      "execution_count": 3,
      "outputs": []
    },
    {
      "cell_type": "code",
      "source": [
        "df\n"
      ],
      "metadata": {
        "colab": {
          "base_uri": "https://localhost:8080/",
          "height": 487
        },
        "id": "GbF2l-CJ9Mut",
        "outputId": "66f3a219-c1d7-4297-d0ed-2c13efc302ac"
      },
      "execution_count": 50,
      "outputs": [
        {
          "output_type": "execute_result",
          "data": {
            "text/plain": [
              "     Class  _RMSenergy_Mean  _Lowenergy_Mean  _Fluctuation_Mean  _Tempo_Mean  \\\n",
              "0    relax            0.052            0.591              9.136      130.043   \n",
              "1    relax            0.125            0.439              6.680      142.240   \n",
              "2    relax            0.046            0.639             10.578      188.154   \n",
              "3    relax            0.135            0.603             10.442       65.991   \n",
              "4    relax            0.066            0.591              9.769       88.890   \n",
              "..     ...              ...              ...                ...          ...   \n",
              "395  angry            0.174            0.578              5.265      161.144   \n",
              "396  angry            0.176            0.498              5.042      179.787   \n",
              "397  angry            0.187            0.557              4.724      134.032   \n",
              "398  angry            0.140            0.573              4.470      113.600   \n",
              "399  angry            0.086            0.475              5.343      151.748   \n",
              "\n",
              "     _MFCC_Mean_1  _MFCC_Mean_2  _MFCC_Mean_3  _MFCC_Mean_4  _MFCC_Mean_5  \\\n",
              "0           3.997         0.363         0.887         0.078         0.221   \n",
              "1           4.058         0.516         0.785         0.397         0.556   \n",
              "2           2.775         0.903         0.502         0.329         0.287   \n",
              "3           2.841         1.552         0.612         0.351         0.011   \n",
              "4           3.217         0.228         0.814         0.096         0.434   \n",
              "..            ...           ...           ...           ...           ...   \n",
              "395         2.985         0.065         0.718         0.046         0.265   \n",
              "396         2.790        -0.148         0.342        -0.011         0.029   \n",
              "397         1.672         0.566         0.880        -0.113         0.244   \n",
              "398         1.997        -0.210         0.694         0.089         0.206   \n",
              "399         2.240        -0.014         0.834        -0.021         0.345   \n",
              "\n",
              "     ...  _Chromagram_Mean_10  _Chromagram_Mean_11  _Chromagram_Mean_12  \\\n",
              "0    ...                1.000                0.008                0.101   \n",
              "1    ...                1.000                0.000                0.984   \n",
              "2    ...                0.746                0.016                1.000   \n",
              "3    ...                1.000                0.161                0.757   \n",
              "4    ...                0.404                1.000                0.001   \n",
              "..   ...                  ...                  ...                  ...   \n",
              "395  ...                0.838                0.413                0.125   \n",
              "396  ...                1.000                0.640                0.010   \n",
              "397  ...                0.184                0.287                0.101   \n",
              "398  ...                1.000                0.304                0.140   \n",
              "399  ...                1.000                0.094                0.033   \n",
              "\n",
              "     _HarmonicChangeDetectionFunction_Mean  \\\n",
              "0                                    0.316   \n",
              "1                                    0.285   \n",
              "2                                    0.413   \n",
              "3                                    0.422   \n",
              "4                                    0.345   \n",
              "..                                     ...   \n",
              "395                                  0.323   \n",
              "396                                  0.233   \n",
              "397                                  0.269   \n",
              "398                                  0.277   \n",
              "399                                  0.195   \n",
              "\n",
              "     _HarmonicChangeDetectionFunction_Std  \\\n",
              "0                                   0.261   \n",
              "1                                   0.211   \n",
              "2                                   0.299   \n",
              "3                                   0.265   \n",
              "4                                   0.261   \n",
              "..                                    ...   \n",
              "395                                 0.140   \n",
              "396                                 0.127   \n",
              "397                                 0.157   \n",
              "398                                 0.144   \n",
              "399                                 0.110   \n",
              "\n",
              "     _HarmonicChangeDetectionFunction_Slope  \\\n",
              "0                                     0.018   \n",
              "1                                    -0.082   \n",
              "2                                     0.134   \n",
              "3                                     0.042   \n",
              "4                                     0.089   \n",
              "..                                      ...   \n",
              "395                                   0.120   \n",
              "396                                   0.145   \n",
              "397                                   0.111   \n",
              "398                                   0.061   \n",
              "399                                   0.007   \n",
              "\n",
              "     _HarmonicChangeDetectionFunction_PeriodFreq  \\\n",
              "0                                          1.035   \n",
              "1                                          3.364   \n",
              "2                                          1.682   \n",
              "3                                          0.354   \n",
              "4                                          0.748   \n",
              "..                                           ...   \n",
              "395                                        2.691   \n",
              "396                                        3.364   \n",
              "397                                        3.364   \n",
              "398                                        3.364   \n",
              "399                                        0.641   \n",
              "\n",
              "     _HarmonicChangeDetectionFunction_PeriodAmp  \\\n",
              "0                                         0.593   \n",
              "1                                         0.702   \n",
              "2                                         0.692   \n",
              "3                                         0.743   \n",
              "4                                         0.674   \n",
              "..                                          ...   \n",
              "395                                       0.867   \n",
              "396                                       0.879   \n",
              "397                                       0.819   \n",
              "398                                       0.811   \n",
              "399                                       0.848   \n",
              "\n",
              "     _HarmonicChangeDetectionFunction_PeriodEntropy  is_train  \n",
              "0                                             0.970      True  \n",
              "1                                             0.967     False  \n",
              "2                                             0.963      True  \n",
              "3                                             0.968      True  \n",
              "4                                             0.957     False  \n",
              "..                                              ...       ...  \n",
              "395                                           0.969      True  \n",
              "396                                           0.967      True  \n",
              "397                                           0.962      True  \n",
              "398                                           0.969      True  \n",
              "399                                           0.965      True  \n",
              "\n",
              "[400 rows x 52 columns]"
            ],
            "text/html": [
              "\n",
              "  <div id=\"df-885fca3f-6a70-468e-be3b-590fa14b11c4\">\n",
              "    <div class=\"colab-df-container\">\n",
              "      <div>\n",
              "<style scoped>\n",
              "    .dataframe tbody tr th:only-of-type {\n",
              "        vertical-align: middle;\n",
              "    }\n",
              "\n",
              "    .dataframe tbody tr th {\n",
              "        vertical-align: top;\n",
              "    }\n",
              "\n",
              "    .dataframe thead th {\n",
              "        text-align: right;\n",
              "    }\n",
              "</style>\n",
              "<table border=\"1\" class=\"dataframe\">\n",
              "  <thead>\n",
              "    <tr style=\"text-align: right;\">\n",
              "      <th></th>\n",
              "      <th>Class</th>\n",
              "      <th>_RMSenergy_Mean</th>\n",
              "      <th>_Lowenergy_Mean</th>\n",
              "      <th>_Fluctuation_Mean</th>\n",
              "      <th>_Tempo_Mean</th>\n",
              "      <th>_MFCC_Mean_1</th>\n",
              "      <th>_MFCC_Mean_2</th>\n",
              "      <th>_MFCC_Mean_3</th>\n",
              "      <th>_MFCC_Mean_4</th>\n",
              "      <th>_MFCC_Mean_5</th>\n",
              "      <th>...</th>\n",
              "      <th>_Chromagram_Mean_10</th>\n",
              "      <th>_Chromagram_Mean_11</th>\n",
              "      <th>_Chromagram_Mean_12</th>\n",
              "      <th>_HarmonicChangeDetectionFunction_Mean</th>\n",
              "      <th>_HarmonicChangeDetectionFunction_Std</th>\n",
              "      <th>_HarmonicChangeDetectionFunction_Slope</th>\n",
              "      <th>_HarmonicChangeDetectionFunction_PeriodFreq</th>\n",
              "      <th>_HarmonicChangeDetectionFunction_PeriodAmp</th>\n",
              "      <th>_HarmonicChangeDetectionFunction_PeriodEntropy</th>\n",
              "      <th>is_train</th>\n",
              "    </tr>\n",
              "  </thead>\n",
              "  <tbody>\n",
              "    <tr>\n",
              "      <th>0</th>\n",
              "      <td>relax</td>\n",
              "      <td>0.052</td>\n",
              "      <td>0.591</td>\n",
              "      <td>9.136</td>\n",
              "      <td>130.043</td>\n",
              "      <td>3.997</td>\n",
              "      <td>0.363</td>\n",
              "      <td>0.887</td>\n",
              "      <td>0.078</td>\n",
              "      <td>0.221</td>\n",
              "      <td>...</td>\n",
              "      <td>1.000</td>\n",
              "      <td>0.008</td>\n",
              "      <td>0.101</td>\n",
              "      <td>0.316</td>\n",
              "      <td>0.261</td>\n",
              "      <td>0.018</td>\n",
              "      <td>1.035</td>\n",
              "      <td>0.593</td>\n",
              "      <td>0.970</td>\n",
              "      <td>True</td>\n",
              "    </tr>\n",
              "    <tr>\n",
              "      <th>1</th>\n",
              "      <td>relax</td>\n",
              "      <td>0.125</td>\n",
              "      <td>0.439</td>\n",
              "      <td>6.680</td>\n",
              "      <td>142.240</td>\n",
              "      <td>4.058</td>\n",
              "      <td>0.516</td>\n",
              "      <td>0.785</td>\n",
              "      <td>0.397</td>\n",
              "      <td>0.556</td>\n",
              "      <td>...</td>\n",
              "      <td>1.000</td>\n",
              "      <td>0.000</td>\n",
              "      <td>0.984</td>\n",
              "      <td>0.285</td>\n",
              "      <td>0.211</td>\n",
              "      <td>-0.082</td>\n",
              "      <td>3.364</td>\n",
              "      <td>0.702</td>\n",
              "      <td>0.967</td>\n",
              "      <td>False</td>\n",
              "    </tr>\n",
              "    <tr>\n",
              "      <th>2</th>\n",
              "      <td>relax</td>\n",
              "      <td>0.046</td>\n",
              "      <td>0.639</td>\n",
              "      <td>10.578</td>\n",
              "      <td>188.154</td>\n",
              "      <td>2.775</td>\n",
              "      <td>0.903</td>\n",
              "      <td>0.502</td>\n",
              "      <td>0.329</td>\n",
              "      <td>0.287</td>\n",
              "      <td>...</td>\n",
              "      <td>0.746</td>\n",
              "      <td>0.016</td>\n",
              "      <td>1.000</td>\n",
              "      <td>0.413</td>\n",
              "      <td>0.299</td>\n",
              "      <td>0.134</td>\n",
              "      <td>1.682</td>\n",
              "      <td>0.692</td>\n",
              "      <td>0.963</td>\n",
              "      <td>True</td>\n",
              "    </tr>\n",
              "    <tr>\n",
              "      <th>3</th>\n",
              "      <td>relax</td>\n",
              "      <td>0.135</td>\n",
              "      <td>0.603</td>\n",
              "      <td>10.442</td>\n",
              "      <td>65.991</td>\n",
              "      <td>2.841</td>\n",
              "      <td>1.552</td>\n",
              "      <td>0.612</td>\n",
              "      <td>0.351</td>\n",
              "      <td>0.011</td>\n",
              "      <td>...</td>\n",
              "      <td>1.000</td>\n",
              "      <td>0.161</td>\n",
              "      <td>0.757</td>\n",
              "      <td>0.422</td>\n",
              "      <td>0.265</td>\n",
              "      <td>0.042</td>\n",
              "      <td>0.354</td>\n",
              "      <td>0.743</td>\n",
              "      <td>0.968</td>\n",
              "      <td>True</td>\n",
              "    </tr>\n",
              "    <tr>\n",
              "      <th>4</th>\n",
              "      <td>relax</td>\n",
              "      <td>0.066</td>\n",
              "      <td>0.591</td>\n",
              "      <td>9.769</td>\n",
              "      <td>88.890</td>\n",
              "      <td>3.217</td>\n",
              "      <td>0.228</td>\n",
              "      <td>0.814</td>\n",
              "      <td>0.096</td>\n",
              "      <td>0.434</td>\n",
              "      <td>...</td>\n",
              "      <td>0.404</td>\n",
              "      <td>1.000</td>\n",
              "      <td>0.001</td>\n",
              "      <td>0.345</td>\n",
              "      <td>0.261</td>\n",
              "      <td>0.089</td>\n",
              "      <td>0.748</td>\n",
              "      <td>0.674</td>\n",
              "      <td>0.957</td>\n",
              "      <td>False</td>\n",
              "    </tr>\n",
              "    <tr>\n",
              "      <th>...</th>\n",
              "      <td>...</td>\n",
              "      <td>...</td>\n",
              "      <td>...</td>\n",
              "      <td>...</td>\n",
              "      <td>...</td>\n",
              "      <td>...</td>\n",
              "      <td>...</td>\n",
              "      <td>...</td>\n",
              "      <td>...</td>\n",
              "      <td>...</td>\n",
              "      <td>...</td>\n",
              "      <td>...</td>\n",
              "      <td>...</td>\n",
              "      <td>...</td>\n",
              "      <td>...</td>\n",
              "      <td>...</td>\n",
              "      <td>...</td>\n",
              "      <td>...</td>\n",
              "      <td>...</td>\n",
              "      <td>...</td>\n",
              "      <td>...</td>\n",
              "    </tr>\n",
              "    <tr>\n",
              "      <th>395</th>\n",
              "      <td>angry</td>\n",
              "      <td>0.174</td>\n",
              "      <td>0.578</td>\n",
              "      <td>5.265</td>\n",
              "      <td>161.144</td>\n",
              "      <td>2.985</td>\n",
              "      <td>0.065</td>\n",
              "      <td>0.718</td>\n",
              "      <td>0.046</td>\n",
              "      <td>0.265</td>\n",
              "      <td>...</td>\n",
              "      <td>0.838</td>\n",
              "      <td>0.413</td>\n",
              "      <td>0.125</td>\n",
              "      <td>0.323</td>\n",
              "      <td>0.140</td>\n",
              "      <td>0.120</td>\n",
              "      <td>2.691</td>\n",
              "      <td>0.867</td>\n",
              "      <td>0.969</td>\n",
              "      <td>True</td>\n",
              "    </tr>\n",
              "    <tr>\n",
              "      <th>396</th>\n",
              "      <td>angry</td>\n",
              "      <td>0.176</td>\n",
              "      <td>0.498</td>\n",
              "      <td>5.042</td>\n",
              "      <td>179.787</td>\n",
              "      <td>2.790</td>\n",
              "      <td>-0.148</td>\n",
              "      <td>0.342</td>\n",
              "      <td>-0.011</td>\n",
              "      <td>0.029</td>\n",
              "      <td>...</td>\n",
              "      <td>1.000</td>\n",
              "      <td>0.640</td>\n",
              "      <td>0.010</td>\n",
              "      <td>0.233</td>\n",
              "      <td>0.127</td>\n",
              "      <td>0.145</td>\n",
              "      <td>3.364</td>\n",
              "      <td>0.879</td>\n",
              "      <td>0.967</td>\n",
              "      <td>True</td>\n",
              "    </tr>\n",
              "    <tr>\n",
              "      <th>397</th>\n",
              "      <td>angry</td>\n",
              "      <td>0.187</td>\n",
              "      <td>0.557</td>\n",
              "      <td>4.724</td>\n",
              "      <td>134.032</td>\n",
              "      <td>1.672</td>\n",
              "      <td>0.566</td>\n",
              "      <td>0.880</td>\n",
              "      <td>-0.113</td>\n",
              "      <td>0.244</td>\n",
              "      <td>...</td>\n",
              "      <td>0.184</td>\n",
              "      <td>0.287</td>\n",
              "      <td>0.101</td>\n",
              "      <td>0.269</td>\n",
              "      <td>0.157</td>\n",
              "      <td>0.111</td>\n",
              "      <td>3.364</td>\n",
              "      <td>0.819</td>\n",
              "      <td>0.962</td>\n",
              "      <td>True</td>\n",
              "    </tr>\n",
              "    <tr>\n",
              "      <th>398</th>\n",
              "      <td>angry</td>\n",
              "      <td>0.140</td>\n",
              "      <td>0.573</td>\n",
              "      <td>4.470</td>\n",
              "      <td>113.600</td>\n",
              "      <td>1.997</td>\n",
              "      <td>-0.210</td>\n",
              "      <td>0.694</td>\n",
              "      <td>0.089</td>\n",
              "      <td>0.206</td>\n",
              "      <td>...</td>\n",
              "      <td>1.000</td>\n",
              "      <td>0.304</td>\n",
              "      <td>0.140</td>\n",
              "      <td>0.277</td>\n",
              "      <td>0.144</td>\n",
              "      <td>0.061</td>\n",
              "      <td>3.364</td>\n",
              "      <td>0.811</td>\n",
              "      <td>0.969</td>\n",
              "      <td>True</td>\n",
              "    </tr>\n",
              "    <tr>\n",
              "      <th>399</th>\n",
              "      <td>angry</td>\n",
              "      <td>0.086</td>\n",
              "      <td>0.475</td>\n",
              "      <td>5.343</td>\n",
              "      <td>151.748</td>\n",
              "      <td>2.240</td>\n",
              "      <td>-0.014</td>\n",
              "      <td>0.834</td>\n",
              "      <td>-0.021</td>\n",
              "      <td>0.345</td>\n",
              "      <td>...</td>\n",
              "      <td>1.000</td>\n",
              "      <td>0.094</td>\n",
              "      <td>0.033</td>\n",
              "      <td>0.195</td>\n",
              "      <td>0.110</td>\n",
              "      <td>0.007</td>\n",
              "      <td>0.641</td>\n",
              "      <td>0.848</td>\n",
              "      <td>0.965</td>\n",
              "      <td>True</td>\n",
              "    </tr>\n",
              "  </tbody>\n",
              "</table>\n",
              "<p>400 rows × 52 columns</p>\n",
              "</div>\n",
              "      <button class=\"colab-df-convert\" onclick=\"convertToInteractive('df-885fca3f-6a70-468e-be3b-590fa14b11c4')\"\n",
              "              title=\"Convert this dataframe to an interactive table.\"\n",
              "              style=\"display:none;\">\n",
              "        \n",
              "  <svg xmlns=\"http://www.w3.org/2000/svg\" height=\"24px\"viewBox=\"0 0 24 24\"\n",
              "       width=\"24px\">\n",
              "    <path d=\"M0 0h24v24H0V0z\" fill=\"none\"/>\n",
              "    <path d=\"M18.56 5.44l.94 2.06.94-2.06 2.06-.94-2.06-.94-.94-2.06-.94 2.06-2.06.94zm-11 1L8.5 8.5l.94-2.06 2.06-.94-2.06-.94L8.5 2.5l-.94 2.06-2.06.94zm10 10l.94 2.06.94-2.06 2.06-.94-2.06-.94-.94-2.06-.94 2.06-2.06.94z\"/><path d=\"M17.41 7.96l-1.37-1.37c-.4-.4-.92-.59-1.43-.59-.52 0-1.04.2-1.43.59L10.3 9.45l-7.72 7.72c-.78.78-.78 2.05 0 2.83L4 21.41c.39.39.9.59 1.41.59.51 0 1.02-.2 1.41-.59l7.78-7.78 2.81-2.81c.8-.78.8-2.07 0-2.86zM5.41 20L4 18.59l7.72-7.72 1.47 1.35L5.41 20z\"/>\n",
              "  </svg>\n",
              "      </button>\n",
              "      \n",
              "  <style>\n",
              "    .colab-df-container {\n",
              "      display:flex;\n",
              "      flex-wrap:wrap;\n",
              "      gap: 12px;\n",
              "    }\n",
              "\n",
              "    .colab-df-convert {\n",
              "      background-color: #E8F0FE;\n",
              "      border: none;\n",
              "      border-radius: 50%;\n",
              "      cursor: pointer;\n",
              "      display: none;\n",
              "      fill: #1967D2;\n",
              "      height: 32px;\n",
              "      padding: 0 0 0 0;\n",
              "      width: 32px;\n",
              "    }\n",
              "\n",
              "    .colab-df-convert:hover {\n",
              "      background-color: #E2EBFA;\n",
              "      box-shadow: 0px 1px 2px rgba(60, 64, 67, 0.3), 0px 1px 3px 1px rgba(60, 64, 67, 0.15);\n",
              "      fill: #174EA6;\n",
              "    }\n",
              "\n",
              "    [theme=dark] .colab-df-convert {\n",
              "      background-color: #3B4455;\n",
              "      fill: #D2E3FC;\n",
              "    }\n",
              "\n",
              "    [theme=dark] .colab-df-convert:hover {\n",
              "      background-color: #434B5C;\n",
              "      box-shadow: 0px 1px 3px 1px rgba(0, 0, 0, 0.15);\n",
              "      filter: drop-shadow(0px 1px 2px rgba(0, 0, 0, 0.3));\n",
              "      fill: #FFFFFF;\n",
              "    }\n",
              "  </style>\n",
              "\n",
              "      <script>\n",
              "        const buttonEl =\n",
              "          document.querySelector('#df-885fca3f-6a70-468e-be3b-590fa14b11c4 button.colab-df-convert');\n",
              "        buttonEl.style.display =\n",
              "          google.colab.kernel.accessAllowed ? 'block' : 'none';\n",
              "\n",
              "        async function convertToInteractive(key) {\n",
              "          const element = document.querySelector('#df-885fca3f-6a70-468e-be3b-590fa14b11c4');\n",
              "          const dataTable =\n",
              "            await google.colab.kernel.invokeFunction('convertToInteractive',\n",
              "                                                     [key], {});\n",
              "          if (!dataTable) return;\n",
              "\n",
              "          const docLinkHtml = 'Like what you see? Visit the ' +\n",
              "            '<a target=\"_blank\" href=https://colab.research.google.com/notebooks/data_table.ipynb>data table notebook</a>'\n",
              "            + ' to learn more about interactive tables.';\n",
              "          element.innerHTML = '';\n",
              "          dataTable['output_type'] = 'display_data';\n",
              "          await google.colab.output.renderOutput(dataTable, element);\n",
              "          const docLink = document.createElement('div');\n",
              "          docLink.innerHTML = docLinkHtml;\n",
              "          element.appendChild(docLink);\n",
              "        }\n",
              "      </script>\n",
              "    </div>\n",
              "  </div>\n",
              "  "
            ]
          },
          "metadata": {},
          "execution_count": 50
        }
      ]
    },
    {
      "cell_type": "code",
      "source": [
        "df.Class.value_counts()"
      ],
      "metadata": {
        "colab": {
          "base_uri": "https://localhost:8080/"
        },
        "id": "0KLR4t_P9Tu8",
        "outputId": "ffd1c489-caf2-4f95-af7e-3ead371b7797"
      },
      "execution_count": 5,
      "outputs": [
        {
          "output_type": "execute_result",
          "data": {
            "text/plain": [
              "relax    100\n",
              "happy    100\n",
              "sad      100\n",
              "angry    100\n",
              "Name: Class, dtype: int64"
            ]
          },
          "metadata": {},
          "execution_count": 5
        }
      ]
    },
    {
      "cell_type": "code",
      "source": [
        "features = df.columns[1:]\n",
        "features"
      ],
      "metadata": {
        "colab": {
          "base_uri": "https://localhost:8080/"
        },
        "id": "3k5RvK9m9Ymm",
        "outputId": "28810f56-34dc-429a-f83f-d43b8310fc63"
      },
      "execution_count": 6,
      "outputs": [
        {
          "output_type": "execute_result",
          "data": {
            "text/plain": [
              "Index(['_RMSenergy_Mean', '_Lowenergy_Mean', '_Fluctuation_Mean',\n",
              "       '_Tempo_Mean', '_MFCC_Mean_1', '_MFCC_Mean_2', '_MFCC_Mean_3',\n",
              "       '_MFCC_Mean_4', '_MFCC_Mean_5', '_MFCC_Mean_6', '_MFCC_Mean_7',\n",
              "       '_MFCC_Mean_8', '_MFCC_Mean_9', '_MFCC_Mean_10', '_MFCC_Mean_11',\n",
              "       '_MFCC_Mean_12', '_MFCC_Mean_13', '_Roughness_Mean', '_Roughness_Slope',\n",
              "       '_Zero-crossingrate_Mean', '_AttackTime_Mean', '_AttackTime_Slope',\n",
              "       '_Rolloff_Mean', '_Eventdensity_Mean', '_Pulseclarity_Mean',\n",
              "       '_Brightness_Mean', '_Spectralcentroid_Mean', '_Spectralspread_Mean',\n",
              "       '_Spectralskewness_Mean', '_Spectralkurtosis_Mean',\n",
              "       '_Spectralflatness_Mean', '_EntropyofSpectrum_Mean',\n",
              "       '_Chromagram_Mean_1', '_Chromagram_Mean_2', '_Chromagram_Mean_3',\n",
              "       '_Chromagram_Mean_4', '_Chromagram_Mean_5', '_Chromagram_Mean_6',\n",
              "       '_Chromagram_Mean_7', '_Chromagram_Mean_8', '_Chromagram_Mean_9',\n",
              "       '_Chromagram_Mean_10', '_Chromagram_Mean_11', '_Chromagram_Mean_12',\n",
              "       '_HarmonicChangeDetectionFunction_Mean',\n",
              "       '_HarmonicChangeDetectionFunction_Std',\n",
              "       '_HarmonicChangeDetectionFunction_Slope',\n",
              "       '_HarmonicChangeDetectionFunction_PeriodFreq',\n",
              "       '_HarmonicChangeDetectionFunction_PeriodAmp',\n",
              "       '_HarmonicChangeDetectionFunction_PeriodEntropy'],\n",
              "      dtype='object')"
            ]
          },
          "metadata": {},
          "execution_count": 6
        }
      ]
    },
    {
      "cell_type": "code",
      "source": [],
      "metadata": {
        "id": "m9Ntf0Aq0dJV"
      },
      "execution_count": null,
      "outputs": []
    },
    {
      "cell_type": "code",
      "source": [
        "#Creating Test and Train data\n",
        "df['is_train'] = np.random.uniform(0, 1, len(df)) <= .75\n",
        "#View top 10 rows\n",
        "df.head(10)"
      ],
      "metadata": {
        "colab": {
          "base_uri": "https://localhost:8080/",
          "height": 456
        },
        "id": "kcdGWzgiNik8",
        "outputId": "6c450667-c78e-4485-92a8-05964d9df1e4"
      },
      "execution_count": 7,
      "outputs": [
        {
          "output_type": "execute_result",
          "data": {
            "text/plain": [
              "   Class  _RMSenergy_Mean  _Lowenergy_Mean  _Fluctuation_Mean  _Tempo_Mean  \\\n",
              "0  relax            0.052            0.591              9.136      130.043   \n",
              "1  relax            0.125            0.439              6.680      142.240   \n",
              "2  relax            0.046            0.639             10.578      188.154   \n",
              "3  relax            0.135            0.603             10.442       65.991   \n",
              "4  relax            0.066            0.591              9.769       88.890   \n",
              "5  relax            0.137            0.510              7.664      116.044   \n",
              "6  relax            0.123            0.533              7.483      136.444   \n",
              "7  relax            0.103            0.575              7.006      141.132   \n",
              "8  relax            0.145            0.542              6.846       82.048   \n",
              "9  relax            0.129            0.618              8.668       93.020   \n",
              "\n",
              "   _MFCC_Mean_1  _MFCC_Mean_2  _MFCC_Mean_3  _MFCC_Mean_4  _MFCC_Mean_5  ...  \\\n",
              "0         3.997         0.363         0.887         0.078         0.221  ...   \n",
              "1         4.058         0.516         0.785         0.397         0.556  ...   \n",
              "2         2.775         0.903         0.502         0.329         0.287  ...   \n",
              "3         2.841         1.552         0.612         0.351         0.011  ...   \n",
              "4         3.217         0.228         0.814         0.096         0.434  ...   \n",
              "5         2.313        -0.082         0.365         0.033        -0.136  ...   \n",
              "6         4.572         1.171         0.939         0.358         0.024  ...   \n",
              "7         3.495         0.553         0.275         0.269         0.257  ...   \n",
              "8         4.010         0.550         0.568         0.559         0.218  ...   \n",
              "9         2.318         0.744         0.537        -0.116         0.119  ...   \n",
              "\n",
              "   _Chromagram_Mean_10  _Chromagram_Mean_11  _Chromagram_Mean_12  \\\n",
              "0                1.000                0.008                0.101   \n",
              "1                1.000                0.000                0.984   \n",
              "2                0.746                0.016                1.000   \n",
              "3                1.000                0.161                0.757   \n",
              "4                0.404                1.000                0.001   \n",
              "5                0.391                0.102                0.000   \n",
              "6                1.000                0.000                0.143   \n",
              "7                1.000                0.030                0.746   \n",
              "8                0.150                0.910                0.000   \n",
              "9                0.018                0.385                0.000   \n",
              "\n",
              "   _HarmonicChangeDetectionFunction_Mean  \\\n",
              "0                                  0.316   \n",
              "1                                  0.285   \n",
              "2                                  0.413   \n",
              "3                                  0.422   \n",
              "4                                  0.345   \n",
              "5                                  0.280   \n",
              "6                                  0.210   \n",
              "7                                  0.366   \n",
              "8                                  0.322   \n",
              "9                                  0.388   \n",
              "\n",
              "   _HarmonicChangeDetectionFunction_Std  \\\n",
              "0                                 0.261   \n",
              "1                                 0.211   \n",
              "2                                 0.299   \n",
              "3                                 0.265   \n",
              "4                                 0.261   \n",
              "5                                 0.240   \n",
              "6                                 0.174   \n",
              "7                                 0.267   \n",
              "8                                 0.210   \n",
              "9                                 0.340   \n",
              "\n",
              "   _HarmonicChangeDetectionFunction_Slope  \\\n",
              "0                                   0.018   \n",
              "1                                  -0.082   \n",
              "2                                   0.134   \n",
              "3                                   0.042   \n",
              "4                                   0.089   \n",
              "5                                   0.355   \n",
              "6                                   0.193   \n",
              "7                                  -0.061   \n",
              "8                                   0.031   \n",
              "9                                   0.122   \n",
              "\n",
              "   _HarmonicChangeDetectionFunction_PeriodFreq  \\\n",
              "0                                        1.035   \n",
              "1                                        3.364   \n",
              "2                                        1.682   \n",
              "3                                        0.354   \n",
              "4                                        0.748   \n",
              "5                                        1.682   \n",
              "6                                        2.691   \n",
              "7                                        0.585   \n",
              "8                                        0.408   \n",
              "9                                        1.682   \n",
              "\n",
              "   _HarmonicChangeDetectionFunction_PeriodAmp  \\\n",
              "0                                       0.593   \n",
              "1                                       0.702   \n",
              "2                                       0.692   \n",
              "3                                       0.743   \n",
              "4                                       0.674   \n",
              "5                                       0.662   \n",
              "6                                       0.691   \n",
              "7                                       0.711   \n",
              "8                                       0.796   \n",
              "9                                       0.627   \n",
              "\n",
              "   _HarmonicChangeDetectionFunction_PeriodEntropy  is_train  \n",
              "0                                           0.970      True  \n",
              "1                                           0.967     False  \n",
              "2                                           0.963      True  \n",
              "3                                           0.968      True  \n",
              "4                                           0.957     False  \n",
              "5                                           0.958      True  \n",
              "6                                           0.966      True  \n",
              "7                                           0.965      True  \n",
              "8                                           0.970      True  \n",
              "9                                           0.965     False  \n",
              "\n",
              "[10 rows x 52 columns]"
            ],
            "text/html": [
              "\n",
              "  <div id=\"df-f7b8ebb8-2069-4c8c-969d-f2a33dca09b7\">\n",
              "    <div class=\"colab-df-container\">\n",
              "      <div>\n",
              "<style scoped>\n",
              "    .dataframe tbody tr th:only-of-type {\n",
              "        vertical-align: middle;\n",
              "    }\n",
              "\n",
              "    .dataframe tbody tr th {\n",
              "        vertical-align: top;\n",
              "    }\n",
              "\n",
              "    .dataframe thead th {\n",
              "        text-align: right;\n",
              "    }\n",
              "</style>\n",
              "<table border=\"1\" class=\"dataframe\">\n",
              "  <thead>\n",
              "    <tr style=\"text-align: right;\">\n",
              "      <th></th>\n",
              "      <th>Class</th>\n",
              "      <th>_RMSenergy_Mean</th>\n",
              "      <th>_Lowenergy_Mean</th>\n",
              "      <th>_Fluctuation_Mean</th>\n",
              "      <th>_Tempo_Mean</th>\n",
              "      <th>_MFCC_Mean_1</th>\n",
              "      <th>_MFCC_Mean_2</th>\n",
              "      <th>_MFCC_Mean_3</th>\n",
              "      <th>_MFCC_Mean_4</th>\n",
              "      <th>_MFCC_Mean_5</th>\n",
              "      <th>...</th>\n",
              "      <th>_Chromagram_Mean_10</th>\n",
              "      <th>_Chromagram_Mean_11</th>\n",
              "      <th>_Chromagram_Mean_12</th>\n",
              "      <th>_HarmonicChangeDetectionFunction_Mean</th>\n",
              "      <th>_HarmonicChangeDetectionFunction_Std</th>\n",
              "      <th>_HarmonicChangeDetectionFunction_Slope</th>\n",
              "      <th>_HarmonicChangeDetectionFunction_PeriodFreq</th>\n",
              "      <th>_HarmonicChangeDetectionFunction_PeriodAmp</th>\n",
              "      <th>_HarmonicChangeDetectionFunction_PeriodEntropy</th>\n",
              "      <th>is_train</th>\n",
              "    </tr>\n",
              "  </thead>\n",
              "  <tbody>\n",
              "    <tr>\n",
              "      <th>0</th>\n",
              "      <td>relax</td>\n",
              "      <td>0.052</td>\n",
              "      <td>0.591</td>\n",
              "      <td>9.136</td>\n",
              "      <td>130.043</td>\n",
              "      <td>3.997</td>\n",
              "      <td>0.363</td>\n",
              "      <td>0.887</td>\n",
              "      <td>0.078</td>\n",
              "      <td>0.221</td>\n",
              "      <td>...</td>\n",
              "      <td>1.000</td>\n",
              "      <td>0.008</td>\n",
              "      <td>0.101</td>\n",
              "      <td>0.316</td>\n",
              "      <td>0.261</td>\n",
              "      <td>0.018</td>\n",
              "      <td>1.035</td>\n",
              "      <td>0.593</td>\n",
              "      <td>0.970</td>\n",
              "      <td>True</td>\n",
              "    </tr>\n",
              "    <tr>\n",
              "      <th>1</th>\n",
              "      <td>relax</td>\n",
              "      <td>0.125</td>\n",
              "      <td>0.439</td>\n",
              "      <td>6.680</td>\n",
              "      <td>142.240</td>\n",
              "      <td>4.058</td>\n",
              "      <td>0.516</td>\n",
              "      <td>0.785</td>\n",
              "      <td>0.397</td>\n",
              "      <td>0.556</td>\n",
              "      <td>...</td>\n",
              "      <td>1.000</td>\n",
              "      <td>0.000</td>\n",
              "      <td>0.984</td>\n",
              "      <td>0.285</td>\n",
              "      <td>0.211</td>\n",
              "      <td>-0.082</td>\n",
              "      <td>3.364</td>\n",
              "      <td>0.702</td>\n",
              "      <td>0.967</td>\n",
              "      <td>False</td>\n",
              "    </tr>\n",
              "    <tr>\n",
              "      <th>2</th>\n",
              "      <td>relax</td>\n",
              "      <td>0.046</td>\n",
              "      <td>0.639</td>\n",
              "      <td>10.578</td>\n",
              "      <td>188.154</td>\n",
              "      <td>2.775</td>\n",
              "      <td>0.903</td>\n",
              "      <td>0.502</td>\n",
              "      <td>0.329</td>\n",
              "      <td>0.287</td>\n",
              "      <td>...</td>\n",
              "      <td>0.746</td>\n",
              "      <td>0.016</td>\n",
              "      <td>1.000</td>\n",
              "      <td>0.413</td>\n",
              "      <td>0.299</td>\n",
              "      <td>0.134</td>\n",
              "      <td>1.682</td>\n",
              "      <td>0.692</td>\n",
              "      <td>0.963</td>\n",
              "      <td>True</td>\n",
              "    </tr>\n",
              "    <tr>\n",
              "      <th>3</th>\n",
              "      <td>relax</td>\n",
              "      <td>0.135</td>\n",
              "      <td>0.603</td>\n",
              "      <td>10.442</td>\n",
              "      <td>65.991</td>\n",
              "      <td>2.841</td>\n",
              "      <td>1.552</td>\n",
              "      <td>0.612</td>\n",
              "      <td>0.351</td>\n",
              "      <td>0.011</td>\n",
              "      <td>...</td>\n",
              "      <td>1.000</td>\n",
              "      <td>0.161</td>\n",
              "      <td>0.757</td>\n",
              "      <td>0.422</td>\n",
              "      <td>0.265</td>\n",
              "      <td>0.042</td>\n",
              "      <td>0.354</td>\n",
              "      <td>0.743</td>\n",
              "      <td>0.968</td>\n",
              "      <td>True</td>\n",
              "    </tr>\n",
              "    <tr>\n",
              "      <th>4</th>\n",
              "      <td>relax</td>\n",
              "      <td>0.066</td>\n",
              "      <td>0.591</td>\n",
              "      <td>9.769</td>\n",
              "      <td>88.890</td>\n",
              "      <td>3.217</td>\n",
              "      <td>0.228</td>\n",
              "      <td>0.814</td>\n",
              "      <td>0.096</td>\n",
              "      <td>0.434</td>\n",
              "      <td>...</td>\n",
              "      <td>0.404</td>\n",
              "      <td>1.000</td>\n",
              "      <td>0.001</td>\n",
              "      <td>0.345</td>\n",
              "      <td>0.261</td>\n",
              "      <td>0.089</td>\n",
              "      <td>0.748</td>\n",
              "      <td>0.674</td>\n",
              "      <td>0.957</td>\n",
              "      <td>False</td>\n",
              "    </tr>\n",
              "    <tr>\n",
              "      <th>5</th>\n",
              "      <td>relax</td>\n",
              "      <td>0.137</td>\n",
              "      <td>0.510</td>\n",
              "      <td>7.664</td>\n",
              "      <td>116.044</td>\n",
              "      <td>2.313</td>\n",
              "      <td>-0.082</td>\n",
              "      <td>0.365</td>\n",
              "      <td>0.033</td>\n",
              "      <td>-0.136</td>\n",
              "      <td>...</td>\n",
              "      <td>0.391</td>\n",
              "      <td>0.102</td>\n",
              "      <td>0.000</td>\n",
              "      <td>0.280</td>\n",
              "      <td>0.240</td>\n",
              "      <td>0.355</td>\n",
              "      <td>1.682</td>\n",
              "      <td>0.662</td>\n",
              "      <td>0.958</td>\n",
              "      <td>True</td>\n",
              "    </tr>\n",
              "    <tr>\n",
              "      <th>6</th>\n",
              "      <td>relax</td>\n",
              "      <td>0.123</td>\n",
              "      <td>0.533</td>\n",
              "      <td>7.483</td>\n",
              "      <td>136.444</td>\n",
              "      <td>4.572</td>\n",
              "      <td>1.171</td>\n",
              "      <td>0.939</td>\n",
              "      <td>0.358</td>\n",
              "      <td>0.024</td>\n",
              "      <td>...</td>\n",
              "      <td>1.000</td>\n",
              "      <td>0.000</td>\n",
              "      <td>0.143</td>\n",
              "      <td>0.210</td>\n",
              "      <td>0.174</td>\n",
              "      <td>0.193</td>\n",
              "      <td>2.691</td>\n",
              "      <td>0.691</td>\n",
              "      <td>0.966</td>\n",
              "      <td>True</td>\n",
              "    </tr>\n",
              "    <tr>\n",
              "      <th>7</th>\n",
              "      <td>relax</td>\n",
              "      <td>0.103</td>\n",
              "      <td>0.575</td>\n",
              "      <td>7.006</td>\n",
              "      <td>141.132</td>\n",
              "      <td>3.495</td>\n",
              "      <td>0.553</td>\n",
              "      <td>0.275</td>\n",
              "      <td>0.269</td>\n",
              "      <td>0.257</td>\n",
              "      <td>...</td>\n",
              "      <td>1.000</td>\n",
              "      <td>0.030</td>\n",
              "      <td>0.746</td>\n",
              "      <td>0.366</td>\n",
              "      <td>0.267</td>\n",
              "      <td>-0.061</td>\n",
              "      <td>0.585</td>\n",
              "      <td>0.711</td>\n",
              "      <td>0.965</td>\n",
              "      <td>True</td>\n",
              "    </tr>\n",
              "    <tr>\n",
              "      <th>8</th>\n",
              "      <td>relax</td>\n",
              "      <td>0.145</td>\n",
              "      <td>0.542</td>\n",
              "      <td>6.846</td>\n",
              "      <td>82.048</td>\n",
              "      <td>4.010</td>\n",
              "      <td>0.550</td>\n",
              "      <td>0.568</td>\n",
              "      <td>0.559</td>\n",
              "      <td>0.218</td>\n",
              "      <td>...</td>\n",
              "      <td>0.150</td>\n",
              "      <td>0.910</td>\n",
              "      <td>0.000</td>\n",
              "      <td>0.322</td>\n",
              "      <td>0.210</td>\n",
              "      <td>0.031</td>\n",
              "      <td>0.408</td>\n",
              "      <td>0.796</td>\n",
              "      <td>0.970</td>\n",
              "      <td>True</td>\n",
              "    </tr>\n",
              "    <tr>\n",
              "      <th>9</th>\n",
              "      <td>relax</td>\n",
              "      <td>0.129</td>\n",
              "      <td>0.618</td>\n",
              "      <td>8.668</td>\n",
              "      <td>93.020</td>\n",
              "      <td>2.318</td>\n",
              "      <td>0.744</td>\n",
              "      <td>0.537</td>\n",
              "      <td>-0.116</td>\n",
              "      <td>0.119</td>\n",
              "      <td>...</td>\n",
              "      <td>0.018</td>\n",
              "      <td>0.385</td>\n",
              "      <td>0.000</td>\n",
              "      <td>0.388</td>\n",
              "      <td>0.340</td>\n",
              "      <td>0.122</td>\n",
              "      <td>1.682</td>\n",
              "      <td>0.627</td>\n",
              "      <td>0.965</td>\n",
              "      <td>False</td>\n",
              "    </tr>\n",
              "  </tbody>\n",
              "</table>\n",
              "<p>10 rows × 52 columns</p>\n",
              "</div>\n",
              "      <button class=\"colab-df-convert\" onclick=\"convertToInteractive('df-f7b8ebb8-2069-4c8c-969d-f2a33dca09b7')\"\n",
              "              title=\"Convert this dataframe to an interactive table.\"\n",
              "              style=\"display:none;\">\n",
              "        \n",
              "  <svg xmlns=\"http://www.w3.org/2000/svg\" height=\"24px\"viewBox=\"0 0 24 24\"\n",
              "       width=\"24px\">\n",
              "    <path d=\"M0 0h24v24H0V0z\" fill=\"none\"/>\n",
              "    <path d=\"M18.56 5.44l.94 2.06.94-2.06 2.06-.94-2.06-.94-.94-2.06-.94 2.06-2.06.94zm-11 1L8.5 8.5l.94-2.06 2.06-.94-2.06-.94L8.5 2.5l-.94 2.06-2.06.94zm10 10l.94 2.06.94-2.06 2.06-.94-2.06-.94-.94-2.06-.94 2.06-2.06.94z\"/><path d=\"M17.41 7.96l-1.37-1.37c-.4-.4-.92-.59-1.43-.59-.52 0-1.04.2-1.43.59L10.3 9.45l-7.72 7.72c-.78.78-.78 2.05 0 2.83L4 21.41c.39.39.9.59 1.41.59.51 0 1.02-.2 1.41-.59l7.78-7.78 2.81-2.81c.8-.78.8-2.07 0-2.86zM5.41 20L4 18.59l7.72-7.72 1.47 1.35L5.41 20z\"/>\n",
              "  </svg>\n",
              "      </button>\n",
              "      \n",
              "  <style>\n",
              "    .colab-df-container {\n",
              "      display:flex;\n",
              "      flex-wrap:wrap;\n",
              "      gap: 12px;\n",
              "    }\n",
              "\n",
              "    .colab-df-convert {\n",
              "      background-color: #E8F0FE;\n",
              "      border: none;\n",
              "      border-radius: 50%;\n",
              "      cursor: pointer;\n",
              "      display: none;\n",
              "      fill: #1967D2;\n",
              "      height: 32px;\n",
              "      padding: 0 0 0 0;\n",
              "      width: 32px;\n",
              "    }\n",
              "\n",
              "    .colab-df-convert:hover {\n",
              "      background-color: #E2EBFA;\n",
              "      box-shadow: 0px 1px 2px rgba(60, 64, 67, 0.3), 0px 1px 3px 1px rgba(60, 64, 67, 0.15);\n",
              "      fill: #174EA6;\n",
              "    }\n",
              "\n",
              "    [theme=dark] .colab-df-convert {\n",
              "      background-color: #3B4455;\n",
              "      fill: #D2E3FC;\n",
              "    }\n",
              "\n",
              "    [theme=dark] .colab-df-convert:hover {\n",
              "      background-color: #434B5C;\n",
              "      box-shadow: 0px 1px 3px 1px rgba(0, 0, 0, 0.15);\n",
              "      filter: drop-shadow(0px 1px 2px rgba(0, 0, 0, 0.3));\n",
              "      fill: #FFFFFF;\n",
              "    }\n",
              "  </style>\n",
              "\n",
              "      <script>\n",
              "        const buttonEl =\n",
              "          document.querySelector('#df-f7b8ebb8-2069-4c8c-969d-f2a33dca09b7 button.colab-df-convert');\n",
              "        buttonEl.style.display =\n",
              "          google.colab.kernel.accessAllowed ? 'block' : 'none';\n",
              "\n",
              "        async function convertToInteractive(key) {\n",
              "          const element = document.querySelector('#df-f7b8ebb8-2069-4c8c-969d-f2a33dca09b7');\n",
              "          const dataTable =\n",
              "            await google.colab.kernel.invokeFunction('convertToInteractive',\n",
              "                                                     [key], {});\n",
              "          if (!dataTable) return;\n",
              "\n",
              "          const docLinkHtml = 'Like what you see? Visit the ' +\n",
              "            '<a target=\"_blank\" href=https://colab.research.google.com/notebooks/data_table.ipynb>data table notebook</a>'\n",
              "            + ' to learn more about interactive tables.';\n",
              "          element.innerHTML = '';\n",
              "          dataTable['output_type'] = 'display_data';\n",
              "          await google.colab.output.renderOutput(dataTable, element);\n",
              "          const docLink = document.createElement('div');\n",
              "          docLink.innerHTML = docLinkHtml;\n",
              "          element.appendChild(docLink);\n",
              "        }\n",
              "      </script>\n",
              "    </div>\n",
              "  </div>\n",
              "  "
            ]
          },
          "metadata": {},
          "execution_count": 7
        }
      ]
    },
    {
      "cell_type": "code",
      "source": [
        "#Create dataframes with train and test rows\n",
        "train, test = df[df['is_train']==True], df[df['is_train']==False]\n",
        "\n",
        "#show the number of rows in test and train dataframe\n",
        "print(\"training data \", len(train))\n",
        "print(\"testing data \", len(test))"
      ],
      "metadata": {
        "colab": {
          "base_uri": "https://localhost:8080/"
        },
        "id": "yWjqknnfN81G",
        "outputId": "5478a2a5-af07-41b9-d061-b2c501e552b6"
      },
      "execution_count": 8,
      "outputs": [
        {
          "output_type": "stream",
          "name": "stdout",
          "text": [
            "training data  292\n",
            "testing data  108\n"
          ]
        }
      ]
    },
    {
      "cell_type": "code",
      "source": [
        "#Converting each Class naem into digits\n",
        "y = pd.factorize(train['Class'])[0]\n",
        "#viewing target\n",
        "y"
      ],
      "metadata": {
        "colab": {
          "base_uri": "https://localhost:8080/"
        },
        "id": "UFvnVwYuOnPX",
        "outputId": "a1896209-9b66-4538-9ef9-559ab38f20a1"
      },
      "execution_count": 9,
      "outputs": [
        {
          "output_type": "execute_result",
          "data": {
            "text/plain": [
              "array([0, 0, 0, 0, 0, 0, 0, 0, 0, 0, 0, 0, 0, 0, 0, 0, 0, 0, 0, 0, 0, 0,\n",
              "       0, 0, 0, 0, 0, 0, 0, 0, 0, 0, 0, 0, 0, 0, 0, 0, 0, 0, 0, 0, 0, 0,\n",
              "       0, 0, 0, 0, 0, 0, 0, 0, 0, 0, 0, 0, 0, 0, 0, 0, 0, 0, 0, 0, 0, 0,\n",
              "       0, 0, 0, 0, 0, 0, 0, 0, 0, 1, 1, 1, 1, 1, 1, 1, 1, 1, 1, 1, 1, 1,\n",
              "       1, 1, 1, 1, 1, 1, 1, 1, 1, 1, 1, 1, 1, 1, 1, 1, 1, 1, 1, 1, 1, 1,\n",
              "       1, 1, 1, 1, 1, 1, 1, 1, 1, 1, 1, 1, 1, 1, 1, 1, 1, 1, 1, 1, 1, 1,\n",
              "       1, 1, 1, 1, 1, 1, 1, 2, 2, 2, 2, 2, 2, 2, 2, 2, 2, 2, 2, 2, 2, 2,\n",
              "       2, 2, 2, 2, 2, 2, 2, 2, 2, 2, 2, 2, 2, 2, 2, 2, 2, 2, 2, 2, 2, 2,\n",
              "       2, 2, 2, 2, 2, 2, 2, 2, 2, 2, 2, 2, 2, 2, 2, 2, 2, 2, 2, 2, 2, 2,\n",
              "       2, 2, 2, 2, 2, 2, 2, 2, 2, 2, 2, 2, 2, 2, 2, 2, 2, 2, 2, 3, 3, 3,\n",
              "       3, 3, 3, 3, 3, 3, 3, 3, 3, 3, 3, 3, 3, 3, 3, 3, 3, 3, 3, 3, 3, 3,\n",
              "       3, 3, 3, 3, 3, 3, 3, 3, 3, 3, 3, 3, 3, 3, 3, 3, 3, 3, 3, 3, 3, 3,\n",
              "       3, 3, 3, 3, 3, 3, 3, 3, 3, 3, 3, 3, 3, 3, 3, 3, 3, 3, 3, 3, 3, 3,\n",
              "       3, 3, 3, 3, 3, 3])"
            ]
          },
          "metadata": {},
          "execution_count": 9
        }
      ]
    },
    {
      "cell_type": "code",
      "source": [
        "#Converting each Class name into digits for test data\n",
        "x = pd.factorize(test['Class'])[0]\n",
        "#viewing target\n",
        "x"
      ],
      "metadata": {
        "colab": {
          "base_uri": "https://localhost:8080/"
        },
        "id": "JePPrmjLR8oI",
        "outputId": "277fede7-3197-482f-b190-853dd849f5be"
      },
      "execution_count": 10,
      "outputs": [
        {
          "output_type": "execute_result",
          "data": {
            "text/plain": [
              "array([0, 0, 0, 0, 0, 0, 0, 0, 0, 0, 0, 0, 0, 0, 0, 0, 0, 0, 0, 0, 0, 0,\n",
              "       0, 0, 0, 1, 1, 1, 1, 1, 1, 1, 1, 1, 1, 1, 1, 1, 1, 1, 1, 1, 1, 1,\n",
              "       1, 1, 1, 1, 1, 1, 1, 1, 1, 1, 1, 1, 1, 1, 1, 1, 1, 2, 2, 2, 2, 2,\n",
              "       2, 2, 2, 2, 2, 2, 2, 2, 2, 2, 2, 2, 2, 2, 2, 2, 2, 3, 3, 3, 3, 3,\n",
              "       3, 3, 3, 3, 3, 3, 3, 3, 3, 3, 3, 3, 3, 3, 3, 3, 3, 3, 3, 3])"
            ]
          },
          "metadata": {},
          "execution_count": 10
        }
      ]
    },
    {
      "cell_type": "code",
      "source": [
        "target_names = (train['Class']).unique()\n",
        "target_names\n"
      ],
      "metadata": {
        "colab": {
          "base_uri": "https://localhost:8080/"
        },
        "id": "SHFP_BFyQixH",
        "outputId": "9b00cac0-8aa9-4e2c-eefb-dff999a063c1"
      },
      "execution_count": 11,
      "outputs": [
        {
          "output_type": "execute_result",
          "data": {
            "text/plain": [
              "array(['relax', 'happy', 'sad', 'angry'], dtype=object)"
            ]
          },
          "metadata": {},
          "execution_count": 11
        }
      ]
    },
    {
      "cell_type": "code",
      "source": [
        "#Creating Random Forest Classifier\n",
        "clf = RandomForestClassifier(n_jobs=2, random_state=0)\n",
        "clf.fit(train[features], y)\n"
      ],
      "metadata": {
        "colab": {
          "base_uri": "https://localhost:8080/",
          "height": 74
        },
        "id": "l2L_biQWO66z",
        "outputId": "e72e6fd9-bbb9-4100-9643-e0d3db712e8a"
      },
      "execution_count": 12,
      "outputs": [
        {
          "output_type": "execute_result",
          "data": {
            "text/plain": [
              "RandomForestClassifier(n_jobs=2, random_state=0)"
            ],
            "text/html": [
              "<style>#sk-container-id-1 {color: black;background-color: white;}#sk-container-id-1 pre{padding: 0;}#sk-container-id-1 div.sk-toggleable {background-color: white;}#sk-container-id-1 label.sk-toggleable__label {cursor: pointer;display: block;width: 100%;margin-bottom: 0;padding: 0.3em;box-sizing: border-box;text-align: center;}#sk-container-id-1 label.sk-toggleable__label-arrow:before {content: \"▸\";float: left;margin-right: 0.25em;color: #696969;}#sk-container-id-1 label.sk-toggleable__label-arrow:hover:before {color: black;}#sk-container-id-1 div.sk-estimator:hover label.sk-toggleable__label-arrow:before {color: black;}#sk-container-id-1 div.sk-toggleable__content {max-height: 0;max-width: 0;overflow: hidden;text-align: left;background-color: #f0f8ff;}#sk-container-id-1 div.sk-toggleable__content pre {margin: 0.2em;color: black;border-radius: 0.25em;background-color: #f0f8ff;}#sk-container-id-1 input.sk-toggleable__control:checked~div.sk-toggleable__content {max-height: 200px;max-width: 100%;overflow: auto;}#sk-container-id-1 input.sk-toggleable__control:checked~label.sk-toggleable__label-arrow:before {content: \"▾\";}#sk-container-id-1 div.sk-estimator input.sk-toggleable__control:checked~label.sk-toggleable__label {background-color: #d4ebff;}#sk-container-id-1 div.sk-label input.sk-toggleable__control:checked~label.sk-toggleable__label {background-color: #d4ebff;}#sk-container-id-1 input.sk-hidden--visually {border: 0;clip: rect(1px 1px 1px 1px);clip: rect(1px, 1px, 1px, 1px);height: 1px;margin: -1px;overflow: hidden;padding: 0;position: absolute;width: 1px;}#sk-container-id-1 div.sk-estimator {font-family: monospace;background-color: #f0f8ff;border: 1px dotted black;border-radius: 0.25em;box-sizing: border-box;margin-bottom: 0.5em;}#sk-container-id-1 div.sk-estimator:hover {background-color: #d4ebff;}#sk-container-id-1 div.sk-parallel-item::after {content: \"\";width: 100%;border-bottom: 1px solid gray;flex-grow: 1;}#sk-container-id-1 div.sk-label:hover label.sk-toggleable__label {background-color: #d4ebff;}#sk-container-id-1 div.sk-serial::before {content: \"\";position: absolute;border-left: 1px solid gray;box-sizing: border-box;top: 0;bottom: 0;left: 50%;z-index: 0;}#sk-container-id-1 div.sk-serial {display: flex;flex-direction: column;align-items: center;background-color: white;padding-right: 0.2em;padding-left: 0.2em;position: relative;}#sk-container-id-1 div.sk-item {position: relative;z-index: 1;}#sk-container-id-1 div.sk-parallel {display: flex;align-items: stretch;justify-content: center;background-color: white;position: relative;}#sk-container-id-1 div.sk-item::before, #sk-container-id-1 div.sk-parallel-item::before {content: \"\";position: absolute;border-left: 1px solid gray;box-sizing: border-box;top: 0;bottom: 0;left: 50%;z-index: -1;}#sk-container-id-1 div.sk-parallel-item {display: flex;flex-direction: column;z-index: 1;position: relative;background-color: white;}#sk-container-id-1 div.sk-parallel-item:first-child::after {align-self: flex-end;width: 50%;}#sk-container-id-1 div.sk-parallel-item:last-child::after {align-self: flex-start;width: 50%;}#sk-container-id-1 div.sk-parallel-item:only-child::after {width: 0;}#sk-container-id-1 div.sk-dashed-wrapped {border: 1px dashed gray;margin: 0 0.4em 0.5em 0.4em;box-sizing: border-box;padding-bottom: 0.4em;background-color: white;}#sk-container-id-1 div.sk-label label {font-family: monospace;font-weight: bold;display: inline-block;line-height: 1.2em;}#sk-container-id-1 div.sk-label-container {text-align: center;}#sk-container-id-1 div.sk-container {/* jupyter's `normalize.less` sets `[hidden] { display: none; }` but bootstrap.min.css set `[hidden] { display: none !important; }` so we also need the `!important` here to be able to override the default hidden behavior on the sphinx rendered scikit-learn.org. See: https://github.com/scikit-learn/scikit-learn/issues/21755 */display: inline-block !important;position: relative;}#sk-container-id-1 div.sk-text-repr-fallback {display: none;}</style><div id=\"sk-container-id-1\" class=\"sk-top-container\"><div class=\"sk-text-repr-fallback\"><pre>RandomForestClassifier(n_jobs=2, random_state=0)</pre><b>In a Jupyter environment, please rerun this cell to show the HTML representation or trust the notebook. <br />On GitHub, the HTML representation is unable to render, please try loading this page with nbviewer.org.</b></div><div class=\"sk-container\" hidden><div class=\"sk-item\"><div class=\"sk-estimator sk-toggleable\"><input class=\"sk-toggleable__control sk-hidden--visually\" id=\"sk-estimator-id-1\" type=\"checkbox\" checked><label for=\"sk-estimator-id-1\" class=\"sk-toggleable__label sk-toggleable__label-arrow\">RandomForestClassifier</label><div class=\"sk-toggleable__content\"><pre>RandomForestClassifier(n_jobs=2, random_state=0)</pre></div></div></div></div></div>"
            ]
          },
          "metadata": {},
          "execution_count": 12
        }
      ]
    },
    {
      "cell_type": "code",
      "source": [
        "#Applying trained Classifier to the test\n",
        "predictions = clf.predict(test[features])\n",
        "predictions"
      ],
      "metadata": {
        "colab": {
          "base_uri": "https://localhost:8080/"
        },
        "id": "hgLK1s3uO-Y9",
        "outputId": "e96f6b2c-7ed2-4ff4-968d-dce7a2aea4f0"
      },
      "execution_count": 13,
      "outputs": [
        {
          "output_type": "execute_result",
          "data": {
            "text/plain": [
              "array([0, 0, 2, 0, 0, 0, 0, 0, 0, 0, 0, 0, 0, 0, 0, 0, 0, 0, 0, 0, 0, 2,\n",
              "       0, 2, 2, 1, 1, 1, 1, 3, 1, 1, 1, 1, 1, 1, 2, 1, 1, 1, 1, 1, 1, 1,\n",
              "       1, 3, 3, 1, 1, 1, 1, 1, 1, 1, 2, 1, 1, 2, 1, 1, 1, 0, 0, 2, 2, 0,\n",
              "       2, 1, 0, 0, 2, 2, 2, 0, 2, 2, 2, 0, 2, 3, 2, 0, 2, 2, 3, 3, 3, 3,\n",
              "       3, 3, 3, 2, 3, 3, 3, 3, 3, 3, 3, 3, 3, 3, 3, 3, 3, 0, 3, 3])"
            ]
          },
          "metadata": {},
          "execution_count": 13
        }
      ]
    },
    {
      "cell_type": "code",
      "source": [
        "#viewing predicted probablities of first 10 observation\n",
        "clf.predict_proba(test[features])[:10]"
      ],
      "metadata": {
        "colab": {
          "base_uri": "https://localhost:8080/"
        },
        "id": "BF4VLCH-Pmcb",
        "outputId": "d8d8e94c-f285-4ea0-91b1-5b8299d26e6e"
      },
      "execution_count": 14,
      "outputs": [
        {
          "output_type": "execute_result",
          "data": {
            "text/plain": [
              "array([[0.77, 0.02, 0.13, 0.08],\n",
              "       [0.66, 0.  , 0.29, 0.05],\n",
              "       [0.31, 0.03, 0.64, 0.02],\n",
              "       [0.49, 0.03, 0.44, 0.04],\n",
              "       [0.6 , 0.07, 0.24, 0.09],\n",
              "       [0.43, 0.11, 0.36, 0.1 ],\n",
              "       [0.62, 0.02, 0.25, 0.11],\n",
              "       [0.5 , 0.04, 0.34, 0.12],\n",
              "       [0.79, 0.  , 0.16, 0.05],\n",
              "       [0.52, 0.04, 0.19, 0.25]])"
            ]
          },
          "metadata": {},
          "execution_count": 14
        }
      ]
    },
    {
      "cell_type": "code",
      "source": [
        "#mapping names of moods for each music for each predicted mood\n",
        "preds  = target_names[clf.predict(test[features])]\n",
        "\n",
        "#View the predicted moods for firat five observations\n",
        "preds[10:20]"
      ],
      "metadata": {
        "colab": {
          "base_uri": "https://localhost:8080/"
        },
        "id": "dnWUyqOmPwiQ",
        "outputId": "7af49e2e-3320-419a-e875-d069f4c67043"
      },
      "execution_count": 15,
      "outputs": [
        {
          "output_type": "execute_result",
          "data": {
            "text/plain": [
              "array(['relax', 'relax', 'relax', 'relax', 'relax', 'relax', 'relax',\n",
              "       'relax', 'relax', 'relax'], dtype=object)"
            ]
          },
          "metadata": {},
          "execution_count": 15
        }
      ]
    },
    {
      "cell_type": "code",
      "source": [
        "#Viewing Actual mood of test music or data\n",
        "test['Class'].head()"
      ],
      "metadata": {
        "colab": {
          "base_uri": "https://localhost:8080/"
        },
        "id": "77kVJMdOQU4B",
        "outputId": "0a80c283-de90-4e5b-9673-1684ffc8ec7a"
      },
      "execution_count": 16,
      "outputs": [
        {
          "output_type": "execute_result",
          "data": {
            "text/plain": [
              "1     relax\n",
              "4     relax\n",
              "9     relax\n",
              "14    relax\n",
              "16    relax\n",
              "Name: Class, dtype: object"
            ]
          },
          "metadata": {},
          "execution_count": 16
        }
      ]
    },
    {
      "cell_type": "code",
      "source": [
        "#Creating confusion matrix\n",
        "#crosstab takes two sets of data and forms chart out of it\n",
        "pd.crosstab(test['Class'], preds, rownames=['Actual mood'], colnames=['Predicted Species'])"
      ],
      "metadata": {
        "colab": {
          "base_uri": "https://localhost:8080/",
          "height": 206
        },
        "id": "2KylkhzfRJs6",
        "outputId": "0b9ef867-a2ae-4354-bf1f-65fed4150acf"
      },
      "execution_count": 17,
      "outputs": [
        {
          "output_type": "execute_result",
          "data": {
            "text/plain": [
              "Predicted Species  angry  happy  relax  sad\n",
              "Actual mood                                \n",
              "angry                 22      0      1    2\n",
              "happy                  3     30      0    3\n",
              "relax                  0      0     21    4\n",
              "sad                    1      1      8   12"
            ],
            "text/html": [
              "\n",
              "  <div id=\"df-7b785d92-b2d3-4f3e-919c-3d9233f4172a\">\n",
              "    <div class=\"colab-df-container\">\n",
              "      <div>\n",
              "<style scoped>\n",
              "    .dataframe tbody tr th:only-of-type {\n",
              "        vertical-align: middle;\n",
              "    }\n",
              "\n",
              "    .dataframe tbody tr th {\n",
              "        vertical-align: top;\n",
              "    }\n",
              "\n",
              "    .dataframe thead th {\n",
              "        text-align: right;\n",
              "    }\n",
              "</style>\n",
              "<table border=\"1\" class=\"dataframe\">\n",
              "  <thead>\n",
              "    <tr style=\"text-align: right;\">\n",
              "      <th>Predicted Species</th>\n",
              "      <th>angry</th>\n",
              "      <th>happy</th>\n",
              "      <th>relax</th>\n",
              "      <th>sad</th>\n",
              "    </tr>\n",
              "    <tr>\n",
              "      <th>Actual mood</th>\n",
              "      <th></th>\n",
              "      <th></th>\n",
              "      <th></th>\n",
              "      <th></th>\n",
              "    </tr>\n",
              "  </thead>\n",
              "  <tbody>\n",
              "    <tr>\n",
              "      <th>angry</th>\n",
              "      <td>22</td>\n",
              "      <td>0</td>\n",
              "      <td>1</td>\n",
              "      <td>2</td>\n",
              "    </tr>\n",
              "    <tr>\n",
              "      <th>happy</th>\n",
              "      <td>3</td>\n",
              "      <td>30</td>\n",
              "      <td>0</td>\n",
              "      <td>3</td>\n",
              "    </tr>\n",
              "    <tr>\n",
              "      <th>relax</th>\n",
              "      <td>0</td>\n",
              "      <td>0</td>\n",
              "      <td>21</td>\n",
              "      <td>4</td>\n",
              "    </tr>\n",
              "    <tr>\n",
              "      <th>sad</th>\n",
              "      <td>1</td>\n",
              "      <td>1</td>\n",
              "      <td>8</td>\n",
              "      <td>12</td>\n",
              "    </tr>\n",
              "  </tbody>\n",
              "</table>\n",
              "</div>\n",
              "      <button class=\"colab-df-convert\" onclick=\"convertToInteractive('df-7b785d92-b2d3-4f3e-919c-3d9233f4172a')\"\n",
              "              title=\"Convert this dataframe to an interactive table.\"\n",
              "              style=\"display:none;\">\n",
              "        \n",
              "  <svg xmlns=\"http://www.w3.org/2000/svg\" height=\"24px\"viewBox=\"0 0 24 24\"\n",
              "       width=\"24px\">\n",
              "    <path d=\"M0 0h24v24H0V0z\" fill=\"none\"/>\n",
              "    <path d=\"M18.56 5.44l.94 2.06.94-2.06 2.06-.94-2.06-.94-.94-2.06-.94 2.06-2.06.94zm-11 1L8.5 8.5l.94-2.06 2.06-.94-2.06-.94L8.5 2.5l-.94 2.06-2.06.94zm10 10l.94 2.06.94-2.06 2.06-.94-2.06-.94-.94-2.06-.94 2.06-2.06.94z\"/><path d=\"M17.41 7.96l-1.37-1.37c-.4-.4-.92-.59-1.43-.59-.52 0-1.04.2-1.43.59L10.3 9.45l-7.72 7.72c-.78.78-.78 2.05 0 2.83L4 21.41c.39.39.9.59 1.41.59.51 0 1.02-.2 1.41-.59l7.78-7.78 2.81-2.81c.8-.78.8-2.07 0-2.86zM5.41 20L4 18.59l7.72-7.72 1.47 1.35L5.41 20z\"/>\n",
              "  </svg>\n",
              "      </button>\n",
              "      \n",
              "  <style>\n",
              "    .colab-df-container {\n",
              "      display:flex;\n",
              "      flex-wrap:wrap;\n",
              "      gap: 12px;\n",
              "    }\n",
              "\n",
              "    .colab-df-convert {\n",
              "      background-color: #E8F0FE;\n",
              "      border: none;\n",
              "      border-radius: 50%;\n",
              "      cursor: pointer;\n",
              "      display: none;\n",
              "      fill: #1967D2;\n",
              "      height: 32px;\n",
              "      padding: 0 0 0 0;\n",
              "      width: 32px;\n",
              "    }\n",
              "\n",
              "    .colab-df-convert:hover {\n",
              "      background-color: #E2EBFA;\n",
              "      box-shadow: 0px 1px 2px rgba(60, 64, 67, 0.3), 0px 1px 3px 1px rgba(60, 64, 67, 0.15);\n",
              "      fill: #174EA6;\n",
              "    }\n",
              "\n",
              "    [theme=dark] .colab-df-convert {\n",
              "      background-color: #3B4455;\n",
              "      fill: #D2E3FC;\n",
              "    }\n",
              "\n",
              "    [theme=dark] .colab-df-convert:hover {\n",
              "      background-color: #434B5C;\n",
              "      box-shadow: 0px 1px 3px 1px rgba(0, 0, 0, 0.15);\n",
              "      filter: drop-shadow(0px 1px 2px rgba(0, 0, 0, 0.3));\n",
              "      fill: #FFFFFF;\n",
              "    }\n",
              "  </style>\n",
              "\n",
              "      <script>\n",
              "        const buttonEl =\n",
              "          document.querySelector('#df-7b785d92-b2d3-4f3e-919c-3d9233f4172a button.colab-df-convert');\n",
              "        buttonEl.style.display =\n",
              "          google.colab.kernel.accessAllowed ? 'block' : 'none';\n",
              "\n",
              "        async function convertToInteractive(key) {\n",
              "          const element = document.querySelector('#df-7b785d92-b2d3-4f3e-919c-3d9233f4172a');\n",
              "          const dataTable =\n",
              "            await google.colab.kernel.invokeFunction('convertToInteractive',\n",
              "                                                     [key], {});\n",
              "          if (!dataTable) return;\n",
              "\n",
              "          const docLinkHtml = 'Like what you see? Visit the ' +\n",
              "            '<a target=\"_blank\" href=https://colab.research.google.com/notebooks/data_table.ipynb>data table notebook</a>'\n",
              "            + ' to learn more about interactive tables.';\n",
              "          element.innerHTML = '';\n",
              "          dataTable['output_type'] = 'display_data';\n",
              "          await google.colab.output.renderOutput(dataTable, element);\n",
              "          const docLink = document.createElement('div');\n",
              "          docLink.innerHTML = docLinkHtml;\n",
              "          element.appendChild(docLink);\n",
              "        }\n",
              "      </script>\n",
              "    </div>\n",
              "  </div>\n",
              "  "
            ]
          },
          "metadata": {},
          "execution_count": 17
        }
      ]
    },
    {
      "cell_type": "code",
      "source": [
        "accuracy = accuracy_score(x, predictions) "
      ],
      "metadata": {
        "id": "XSeOVG5JRZ8X"
      },
      "execution_count": 18,
      "outputs": []
    },
    {
      "cell_type": "code",
      "source": [
        "accuracy * 100"
      ],
      "metadata": {
        "colab": {
          "base_uri": "https://localhost:8080/"
        },
        "id": "uEkN6NWJSfpH",
        "outputId": "dc17bbd0-fd67-45ef-ebfc-678ea98a20fb"
      },
      "execution_count": 19,
      "outputs": [
        {
          "output_type": "execute_result",
          "data": {
            "text/plain": [
              "78.70370370370371"
            ]
          },
          "metadata": {},
          "execution_count": 19
        }
      ]
    },
    {
      "cell_type": "code",
      "source": [
        "!git clone https://github.com/tiwaripari/ML.git"
      ],
      "metadata": {
        "id": "_MHUvzwZSnMI",
        "colab": {
          "base_uri": "https://localhost:8080/"
        },
        "outputId": "bff8729b-c077-45e0-c182-52f67c5c4c99"
      },
      "execution_count": 20,
      "outputs": [
        {
          "output_type": "stream",
          "name": "stdout",
          "text": [
            "Cloning into 'ML'...\n",
            "remote: Enumerating objects: 54, done.\u001b[K\n",
            "remote: Counting objects: 100% (54/54), done.\u001b[K\n",
            "remote: Compressing objects: 100% (53/53), done.\u001b[K\n",
            "remote: Total 54 (delta 25), reused 0 (delta 0), pack-reused 0\u001b[K\n",
            "Unpacking objects: 100% (54/54), 1.59 MiB | 6.37 MiB/s, done.\n"
          ]
        }
      ]
    },
    {
      "cell_type": "code",
      "source": [
        "from google.colab import files\n",
        "\n",
        "# Prompt the user to upload a file\n",
        "uploaded = files.upload()\n"
      ],
      "metadata": {
        "colab": {
          "base_uri": "https://localhost:8080/",
          "height": 74
        },
        "id": "divH688GaqNc",
        "outputId": "cffdf0e3-ccc7-4768-814b-2c93f97bcdb2"
      },
      "execution_count": 21,
      "outputs": [
        {
          "output_type": "display_data",
          "data": {
            "text/plain": [
              "<IPython.core.display.HTML object>"
            ],
            "text/html": [
              "\n",
              "     <input type=\"file\" id=\"files-4c154f4c-b03c-4d59-9015-c525f5dd1444\" name=\"files[]\" multiple disabled\n",
              "        style=\"border:none\" />\n",
              "     <output id=\"result-4c154f4c-b03c-4d59-9015-c525f5dd1444\">\n",
              "      Upload widget is only available when the cell has been executed in the\n",
              "      current browser session. Please rerun this cell to enable.\n",
              "      </output>\n",
              "      <script>// Copyright 2017 Google LLC\n",
              "//\n",
              "// Licensed under the Apache License, Version 2.0 (the \"License\");\n",
              "// you may not use this file except in compliance with the License.\n",
              "// You may obtain a copy of the License at\n",
              "//\n",
              "//      http://www.apache.org/licenses/LICENSE-2.0\n",
              "//\n",
              "// Unless required by applicable law or agreed to in writing, software\n",
              "// distributed under the License is distributed on an \"AS IS\" BASIS,\n",
              "// WITHOUT WARRANTIES OR CONDITIONS OF ANY KIND, either express or implied.\n",
              "// See the License for the specific language governing permissions and\n",
              "// limitations under the License.\n",
              "\n",
              "/**\n",
              " * @fileoverview Helpers for google.colab Python module.\n",
              " */\n",
              "(function(scope) {\n",
              "function span(text, styleAttributes = {}) {\n",
              "  const element = document.createElement('span');\n",
              "  element.textContent = text;\n",
              "  for (const key of Object.keys(styleAttributes)) {\n",
              "    element.style[key] = styleAttributes[key];\n",
              "  }\n",
              "  return element;\n",
              "}\n",
              "\n",
              "// Max number of bytes which will be uploaded at a time.\n",
              "const MAX_PAYLOAD_SIZE = 100 * 1024;\n",
              "\n",
              "function _uploadFiles(inputId, outputId) {\n",
              "  const steps = uploadFilesStep(inputId, outputId);\n",
              "  const outputElement = document.getElementById(outputId);\n",
              "  // Cache steps on the outputElement to make it available for the next call\n",
              "  // to uploadFilesContinue from Python.\n",
              "  outputElement.steps = steps;\n",
              "\n",
              "  return _uploadFilesContinue(outputId);\n",
              "}\n",
              "\n",
              "// This is roughly an async generator (not supported in the browser yet),\n",
              "// where there are multiple asynchronous steps and the Python side is going\n",
              "// to poll for completion of each step.\n",
              "// This uses a Promise to block the python side on completion of each step,\n",
              "// then passes the result of the previous step as the input to the next step.\n",
              "function _uploadFilesContinue(outputId) {\n",
              "  const outputElement = document.getElementById(outputId);\n",
              "  const steps = outputElement.steps;\n",
              "\n",
              "  const next = steps.next(outputElement.lastPromiseValue);\n",
              "  return Promise.resolve(next.value.promise).then((value) => {\n",
              "    // Cache the last promise value to make it available to the next\n",
              "    // step of the generator.\n",
              "    outputElement.lastPromiseValue = value;\n",
              "    return next.value.response;\n",
              "  });\n",
              "}\n",
              "\n",
              "/**\n",
              " * Generator function which is called between each async step of the upload\n",
              " * process.\n",
              " * @param {string} inputId Element ID of the input file picker element.\n",
              " * @param {string} outputId Element ID of the output display.\n",
              " * @return {!Iterable<!Object>} Iterable of next steps.\n",
              " */\n",
              "function* uploadFilesStep(inputId, outputId) {\n",
              "  const inputElement = document.getElementById(inputId);\n",
              "  inputElement.disabled = false;\n",
              "\n",
              "  const outputElement = document.getElementById(outputId);\n",
              "  outputElement.innerHTML = '';\n",
              "\n",
              "  const pickedPromise = new Promise((resolve) => {\n",
              "    inputElement.addEventListener('change', (e) => {\n",
              "      resolve(e.target.files);\n",
              "    });\n",
              "  });\n",
              "\n",
              "  const cancel = document.createElement('button');\n",
              "  inputElement.parentElement.appendChild(cancel);\n",
              "  cancel.textContent = 'Cancel upload';\n",
              "  const cancelPromise = new Promise((resolve) => {\n",
              "    cancel.onclick = () => {\n",
              "      resolve(null);\n",
              "    };\n",
              "  });\n",
              "\n",
              "  // Wait for the user to pick the files.\n",
              "  const files = yield {\n",
              "    promise: Promise.race([pickedPromise, cancelPromise]),\n",
              "    response: {\n",
              "      action: 'starting',\n",
              "    }\n",
              "  };\n",
              "\n",
              "  cancel.remove();\n",
              "\n",
              "  // Disable the input element since further picks are not allowed.\n",
              "  inputElement.disabled = true;\n",
              "\n",
              "  if (!files) {\n",
              "    return {\n",
              "      response: {\n",
              "        action: 'complete',\n",
              "      }\n",
              "    };\n",
              "  }\n",
              "\n",
              "  for (const file of files) {\n",
              "    const li = document.createElement('li');\n",
              "    li.append(span(file.name, {fontWeight: 'bold'}));\n",
              "    li.append(span(\n",
              "        `(${file.type || 'n/a'}) - ${file.size} bytes, ` +\n",
              "        `last modified: ${\n",
              "            file.lastModifiedDate ? file.lastModifiedDate.toLocaleDateString() :\n",
              "                                    'n/a'} - `));\n",
              "    const percent = span('0% done');\n",
              "    li.appendChild(percent);\n",
              "\n",
              "    outputElement.appendChild(li);\n",
              "\n",
              "    const fileDataPromise = new Promise((resolve) => {\n",
              "      const reader = new FileReader();\n",
              "      reader.onload = (e) => {\n",
              "        resolve(e.target.result);\n",
              "      };\n",
              "      reader.readAsArrayBuffer(file);\n",
              "    });\n",
              "    // Wait for the data to be ready.\n",
              "    let fileData = yield {\n",
              "      promise: fileDataPromise,\n",
              "      response: {\n",
              "        action: 'continue',\n",
              "      }\n",
              "    };\n",
              "\n",
              "    // Use a chunked sending to avoid message size limits. See b/62115660.\n",
              "    let position = 0;\n",
              "    do {\n",
              "      const length = Math.min(fileData.byteLength - position, MAX_PAYLOAD_SIZE);\n",
              "      const chunk = new Uint8Array(fileData, position, length);\n",
              "      position += length;\n",
              "\n",
              "      const base64 = btoa(String.fromCharCode.apply(null, chunk));\n",
              "      yield {\n",
              "        response: {\n",
              "          action: 'append',\n",
              "          file: file.name,\n",
              "          data: base64,\n",
              "        },\n",
              "      };\n",
              "\n",
              "      let percentDone = fileData.byteLength === 0 ?\n",
              "          100 :\n",
              "          Math.round((position / fileData.byteLength) * 100);\n",
              "      percent.textContent = `${percentDone}% done`;\n",
              "\n",
              "    } while (position < fileData.byteLength);\n",
              "  }\n",
              "\n",
              "  // All done.\n",
              "  yield {\n",
              "    response: {\n",
              "      action: 'complete',\n",
              "    }\n",
              "  };\n",
              "}\n",
              "\n",
              "scope.google = scope.google || {};\n",
              "scope.google.colab = scope.google.colab || {};\n",
              "scope.google.colab._files = {\n",
              "  _uploadFiles,\n",
              "  _uploadFilesContinue,\n",
              "};\n",
              "})(self);\n",
              "</script> "
            ]
          },
          "metadata": {}
        },
        {
          "output_type": "stream",
          "name": "stdout",
          "text": [
            "Saving finalmusicfeatureextractednew.py to finalmusicfeatureextractednew.py\n"
          ]
        }
      ]
    },
    {
      "cell_type": "code",
      "source": [
        "from finalmusicfeatureextractednew import feature_extraction"
      ],
      "metadata": {
        "colab": {
          "base_uri": "https://localhost:8080/"
        },
        "id": "jdO7l1Hta-za",
        "outputId": "dc0b9a37-8086-4070-e61a-eecc033cf9d4"
      },
      "execution_count": 22,
      "outputs": [
        {
          "output_type": "stream",
          "name": "stderr",
          "text": [
            "/content/finalmusicfeatureextractednew.py:131: RuntimeWarning: invalid value encountered in log2\n",
            "  features['_HarmonicChangeDetectionFunction_PeriodEntropy'] = -np.sum(periodicity * np.log2(periodicity)) / np.sum(periodicity)\n",
            "/usr/local/lib/python3.10/dist-packages/sklearn/utils/extmath.py:1047: RuntimeWarning: invalid value encountered in true_divide\n",
            "  updated_mean = (last_sum + new_sum) / updated_sample_count\n",
            "/usr/local/lib/python3.10/dist-packages/sklearn/utils/extmath.py:1052: RuntimeWarning: invalid value encountered in true_divide\n",
            "  T = new_sum / new_sample_count\n",
            "/usr/local/lib/python3.10/dist-packages/sklearn/utils/extmath.py:1072: RuntimeWarning: invalid value encountered in true_divide\n",
            "  new_unnormalized_variance -= correction**2 / new_sample_count\n"
          ]
        },
        {
          "output_type": "stream",
          "name": "stdout",
          "text": [
            "Drive already mounted at /content/drive; to attempt to forcibly remount, call drive.mount(\"/content/drive\", force_remount=True).\n"
          ]
        }
      ]
    },
    {
      "cell_type": "code",
      "source": [
        "x = '/content/drive/MyDrive/TunePocket-Rock-Party-30-Sec-Intro-Preview (1).mp3'\n",
        "features = {}\n",
        "features = feature_extraction(x)"
      ],
      "metadata": {
        "colab": {
          "base_uri": "https://localhost:8080/"
        },
        "id": "xemHSvZ6bvgP",
        "outputId": "ee2454a2-3198-4e2b-a2ba-9fcda480ea02"
      },
      "execution_count": 23,
      "outputs": [
        {
          "output_type": "stream",
          "name": "stderr",
          "text": [
            "/content/finalmusicfeatureextractednew.py:131: RuntimeWarning: invalid value encountered in log2\n",
            "  features['_HarmonicChangeDetectionFunction_PeriodEntropy'] = -np.sum(periodicity * np.log2(periodicity)) / np.sum(periodicity)\n",
            "/usr/local/lib/python3.10/dist-packages/sklearn/utils/extmath.py:1047: RuntimeWarning: invalid value encountered in true_divide\n",
            "  updated_mean = (last_sum + new_sum) / updated_sample_count\n",
            "/usr/local/lib/python3.10/dist-packages/sklearn/utils/extmath.py:1052: RuntimeWarning: invalid value encountered in true_divide\n",
            "  T = new_sum / new_sample_count\n",
            "/usr/local/lib/python3.10/dist-packages/sklearn/utils/extmath.py:1072: RuntimeWarning: invalid value encountered in true_divide\n",
            "  new_unnormalized_variance -= correction**2 / new_sample_count\n"
          ]
        }
      ]
    },
    {
      "cell_type": "code",
      "source": [
        "features.columns"
      ],
      "metadata": {
        "colab": {
          "base_uri": "https://localhost:8080/"
        },
        "id": "5B8UehmmdYPj",
        "outputId": "dbab6231-935f-487f-fb12-5db322e7b395"
      },
      "execution_count": 33,
      "outputs": [
        {
          "output_type": "execute_result",
          "data": {
            "text/plain": [
              "Index(['_RMSenergy_Mean', '_Lowenergy_Mean', '_Fluctuation_Mean',\n",
              "       '_Tempo_Mean', '_MFCC_Mean_1', '_MFCC_Mean_2', '_MFCC_Mean_3',\n",
              "       '_MFCC_Mean_4', '_MFCC_Mean_5', '_MFCC_Mean_6', '_MFCC_Mean_7',\n",
              "       '_MFCC_Mean_8', '_MFCC_Mean_9', '_MFCC_Mean_10', '_MFCC_Mean_11',\n",
              "       '_MFCC_Mean_12', '_MFCC_Mean_13', '_Roughness_Mean', '_Roughness_Slope',\n",
              "       '_Zero-crossingrate_Mean', '_AttackTime_Mean', '_AttackTime_Slope',\n",
              "       '_Rolloff_Mean', '_Eventdensity_Mean', '_Pulseclarity_Mean',\n",
              "       '_Brightness_Mean', '_Spectralcentroid_Mean', '_Spectralspread_Mean',\n",
              "       '_Spectralskewness_Mean', '_Spectralkurtosis_Mean',\n",
              "       '_Spectralflatness_Mean', '_EntropyofSpectrum_Mean',\n",
              "       '_Chromagram_Mean_1', '_Chromagram_Mean_2', '_Chromagram_Mean_3',\n",
              "       '_Chromagram_Mean_4', '_Chromagram_Mean_5', '_Chromagram_Mean_6',\n",
              "       '_Chromagram_Mean_7', '_Chromagram_Mean_8', '_Chromagram_Mean_9',\n",
              "       '_Chromagram_Mean_10', '_Chromagram_Mean_11', '_Chromagram_Mean_12',\n",
              "       '_HarmonicChangeDetectionFunction_Mean',\n",
              "       '_HarmonicChangeDetectionFunction_Std',\n",
              "       '_HarmonicChangeDetectionFunction_Slope',\n",
              "       '_HarmonicChangeDetectionFunction_PeriodFreq',\n",
              "       '_HarmonicChangeDetectionFunction_PeriodAmp',\n",
              "       '_HarmonicChangeDetectionFunction_PeriodEntropy'],\n",
              "      dtype='object')"
            ]
          },
          "metadata": {},
          "execution_count": 33
        }
      ]
    },
    {
      "cell_type": "code",
      "source": [
        "attribute_avg = train['_HarmonicChangeDetectionFunction_PeriodEntropy'].mean()\n"
      ],
      "metadata": {
        "id": "6mTTtN5agp_d"
      },
      "execution_count": 34,
      "outputs": []
    },
    {
      "cell_type": "code",
      "source": [
        "features['_HarmonicChangeDetectionFunction_PeriodEntropy'] = attribute_avg"
      ],
      "metadata": {
        "id": "3hpu1C_ahBQ7"
      },
      "execution_count": 35,
      "outputs": []
    },
    {
      "cell_type": "code",
      "source": [
        "prediction2 = target_names[clf.predict(features)]\n",
        "prediction2"
      ],
      "metadata": {
        "colab": {
          "base_uri": "https://localhost:8080/"
        },
        "id": "9Jc0sTJIfKRI",
        "outputId": "b8fa0f7a-19ae-4fd9-f2ce-64feefb18495"
      },
      "execution_count": 36,
      "outputs": [
        {
          "output_type": "execute_result",
          "data": {
            "text/plain": [
              "array(['angry'], dtype=object)"
            ]
          },
          "metadata": {},
          "execution_count": 36
        }
      ]
    },
    {
      "cell_type": "code",
      "source": [
        "y = '/content/drive/MyDrive/Happiness.mp3'\n",
        "features_2 = {}\n",
        "features_2 = feature_extraction(y)"
      ],
      "metadata": {
        "colab": {
          "base_uri": "https://localhost:8080/"
        },
        "id": "jntxfp8Efj8t",
        "outputId": "018ce4a7-b110-496e-a227-c4a855941582"
      },
      "execution_count": 37,
      "outputs": [
        {
          "output_type": "stream",
          "name": "stderr",
          "text": [
            "/content/finalmusicfeatureextractednew.py:131: RuntimeWarning: invalid value encountered in log2\n",
            "  features['_HarmonicChangeDetectionFunction_PeriodEntropy'] = -np.sum(periodicity * np.log2(periodicity)) / np.sum(periodicity)\n",
            "/usr/local/lib/python3.10/dist-packages/sklearn/utils/extmath.py:1047: RuntimeWarning: invalid value encountered in true_divide\n",
            "  updated_mean = (last_sum + new_sum) / updated_sample_count\n",
            "/usr/local/lib/python3.10/dist-packages/sklearn/utils/extmath.py:1052: RuntimeWarning: invalid value encountered in true_divide\n",
            "  T = new_sum / new_sample_count\n",
            "/usr/local/lib/python3.10/dist-packages/sklearn/utils/extmath.py:1072: RuntimeWarning: invalid value encountered in true_divide\n",
            "  new_unnormalized_variance -= correction**2 / new_sample_count\n"
          ]
        }
      ]
    },
    {
      "cell_type": "code",
      "source": [
        "\n",
        "features_2"
      ],
      "metadata": {
        "colab": {
          "base_uri": "https://localhost:8080/",
          "height": 174
        },
        "id": "ifQmtxIrjU0S",
        "outputId": "5e6d37fe-4469-4ae9-eac6-100faeb9b903"
      },
      "execution_count": 38,
      "outputs": [
        {
          "output_type": "execute_result",
          "data": {
            "text/plain": [
              "   _RMSenergy_Mean  _Lowenergy_Mean  _Fluctuation_Mean  _Tempo_Mean  \\\n",
              "0         0.067174        50.148142           0.000006   184.570312   \n",
              "\n",
              "   _MFCC_Mean_1  _MFCC_Mean_2  _MFCC_Mean_3  _MFCC_Mean_4  _MFCC_Mean_5  \\\n",
              "0   -278.565643     84.132698    -27.460295    -14.657911    -10.417986   \n",
              "\n",
              "   _MFCC_Mean_6  ...  _Chromagram_Mean_9  _Chromagram_Mean_10  \\\n",
              "0      0.084659  ...            0.175449             0.331654   \n",
              "\n",
              "   _Chromagram_Mean_11  _Chromagram_Mean_12  \\\n",
              "0             0.107137             0.133154   \n",
              "\n",
              "   _HarmonicChangeDetectionFunction_Mean  \\\n",
              "0                              -0.000531   \n",
              "\n",
              "   _HarmonicChangeDetectionFunction_Std  \\\n",
              "0                             24.949371   \n",
              "\n",
              "   _HarmonicChangeDetectionFunction_Slope  \\\n",
              "0                               -0.000531   \n",
              "\n",
              "   _HarmonicChangeDetectionFunction_PeriodFreq  \\\n",
              "0                                     0.028571   \n",
              "\n",
              "   _HarmonicChangeDetectionFunction_PeriodAmp  \\\n",
              "0                                 2636.463867   \n",
              "\n",
              "   _HarmonicChangeDetectionFunction_PeriodEntropy  \n",
              "0                                             NaN  \n",
              "\n",
              "[1 rows x 50 columns]"
            ],
            "text/html": [
              "\n",
              "  <div id=\"df-e0c0b5b0-92fb-4775-9915-b3ff3d7cf5ae\">\n",
              "    <div class=\"colab-df-container\">\n",
              "      <div>\n",
              "<style scoped>\n",
              "    .dataframe tbody tr th:only-of-type {\n",
              "        vertical-align: middle;\n",
              "    }\n",
              "\n",
              "    .dataframe tbody tr th {\n",
              "        vertical-align: top;\n",
              "    }\n",
              "\n",
              "    .dataframe thead th {\n",
              "        text-align: right;\n",
              "    }\n",
              "</style>\n",
              "<table border=\"1\" class=\"dataframe\">\n",
              "  <thead>\n",
              "    <tr style=\"text-align: right;\">\n",
              "      <th></th>\n",
              "      <th>_RMSenergy_Mean</th>\n",
              "      <th>_Lowenergy_Mean</th>\n",
              "      <th>_Fluctuation_Mean</th>\n",
              "      <th>_Tempo_Mean</th>\n",
              "      <th>_MFCC_Mean_1</th>\n",
              "      <th>_MFCC_Mean_2</th>\n",
              "      <th>_MFCC_Mean_3</th>\n",
              "      <th>_MFCC_Mean_4</th>\n",
              "      <th>_MFCC_Mean_5</th>\n",
              "      <th>_MFCC_Mean_6</th>\n",
              "      <th>...</th>\n",
              "      <th>_Chromagram_Mean_9</th>\n",
              "      <th>_Chromagram_Mean_10</th>\n",
              "      <th>_Chromagram_Mean_11</th>\n",
              "      <th>_Chromagram_Mean_12</th>\n",
              "      <th>_HarmonicChangeDetectionFunction_Mean</th>\n",
              "      <th>_HarmonicChangeDetectionFunction_Std</th>\n",
              "      <th>_HarmonicChangeDetectionFunction_Slope</th>\n",
              "      <th>_HarmonicChangeDetectionFunction_PeriodFreq</th>\n",
              "      <th>_HarmonicChangeDetectionFunction_PeriodAmp</th>\n",
              "      <th>_HarmonicChangeDetectionFunction_PeriodEntropy</th>\n",
              "    </tr>\n",
              "  </thead>\n",
              "  <tbody>\n",
              "    <tr>\n",
              "      <th>0</th>\n",
              "      <td>0.067174</td>\n",
              "      <td>50.148142</td>\n",
              "      <td>0.000006</td>\n",
              "      <td>184.570312</td>\n",
              "      <td>-278.565643</td>\n",
              "      <td>84.132698</td>\n",
              "      <td>-27.460295</td>\n",
              "      <td>-14.657911</td>\n",
              "      <td>-10.417986</td>\n",
              "      <td>0.084659</td>\n",
              "      <td>...</td>\n",
              "      <td>0.175449</td>\n",
              "      <td>0.331654</td>\n",
              "      <td>0.107137</td>\n",
              "      <td>0.133154</td>\n",
              "      <td>-0.000531</td>\n",
              "      <td>24.949371</td>\n",
              "      <td>-0.000531</td>\n",
              "      <td>0.028571</td>\n",
              "      <td>2636.463867</td>\n",
              "      <td>NaN</td>\n",
              "    </tr>\n",
              "  </tbody>\n",
              "</table>\n",
              "<p>1 rows × 50 columns</p>\n",
              "</div>\n",
              "      <button class=\"colab-df-convert\" onclick=\"convertToInteractive('df-e0c0b5b0-92fb-4775-9915-b3ff3d7cf5ae')\"\n",
              "              title=\"Convert this dataframe to an interactive table.\"\n",
              "              style=\"display:none;\">\n",
              "        \n",
              "  <svg xmlns=\"http://www.w3.org/2000/svg\" height=\"24px\"viewBox=\"0 0 24 24\"\n",
              "       width=\"24px\">\n",
              "    <path d=\"M0 0h24v24H0V0z\" fill=\"none\"/>\n",
              "    <path d=\"M18.56 5.44l.94 2.06.94-2.06 2.06-.94-2.06-.94-.94-2.06-.94 2.06-2.06.94zm-11 1L8.5 8.5l.94-2.06 2.06-.94-2.06-.94L8.5 2.5l-.94 2.06-2.06.94zm10 10l.94 2.06.94-2.06 2.06-.94-2.06-.94-.94-2.06-.94 2.06-2.06.94z\"/><path d=\"M17.41 7.96l-1.37-1.37c-.4-.4-.92-.59-1.43-.59-.52 0-1.04.2-1.43.59L10.3 9.45l-7.72 7.72c-.78.78-.78 2.05 0 2.83L4 21.41c.39.39.9.59 1.41.59.51 0 1.02-.2 1.41-.59l7.78-7.78 2.81-2.81c.8-.78.8-2.07 0-2.86zM5.41 20L4 18.59l7.72-7.72 1.47 1.35L5.41 20z\"/>\n",
              "  </svg>\n",
              "      </button>\n",
              "      \n",
              "  <style>\n",
              "    .colab-df-container {\n",
              "      display:flex;\n",
              "      flex-wrap:wrap;\n",
              "      gap: 12px;\n",
              "    }\n",
              "\n",
              "    .colab-df-convert {\n",
              "      background-color: #E8F0FE;\n",
              "      border: none;\n",
              "      border-radius: 50%;\n",
              "      cursor: pointer;\n",
              "      display: none;\n",
              "      fill: #1967D2;\n",
              "      height: 32px;\n",
              "      padding: 0 0 0 0;\n",
              "      width: 32px;\n",
              "    }\n",
              "\n",
              "    .colab-df-convert:hover {\n",
              "      background-color: #E2EBFA;\n",
              "      box-shadow: 0px 1px 2px rgba(60, 64, 67, 0.3), 0px 1px 3px 1px rgba(60, 64, 67, 0.15);\n",
              "      fill: #174EA6;\n",
              "    }\n",
              "\n",
              "    [theme=dark] .colab-df-convert {\n",
              "      background-color: #3B4455;\n",
              "      fill: #D2E3FC;\n",
              "    }\n",
              "\n",
              "    [theme=dark] .colab-df-convert:hover {\n",
              "      background-color: #434B5C;\n",
              "      box-shadow: 0px 1px 3px 1px rgba(0, 0, 0, 0.15);\n",
              "      filter: drop-shadow(0px 1px 2px rgba(0, 0, 0, 0.3));\n",
              "      fill: #FFFFFF;\n",
              "    }\n",
              "  </style>\n",
              "\n",
              "      <script>\n",
              "        const buttonEl =\n",
              "          document.querySelector('#df-e0c0b5b0-92fb-4775-9915-b3ff3d7cf5ae button.colab-df-convert');\n",
              "        buttonEl.style.display =\n",
              "          google.colab.kernel.accessAllowed ? 'block' : 'none';\n",
              "\n",
              "        async function convertToInteractive(key) {\n",
              "          const element = document.querySelector('#df-e0c0b5b0-92fb-4775-9915-b3ff3d7cf5ae');\n",
              "          const dataTable =\n",
              "            await google.colab.kernel.invokeFunction('convertToInteractive',\n",
              "                                                     [key], {});\n",
              "          if (!dataTable) return;\n",
              "\n",
              "          const docLinkHtml = 'Like what you see? Visit the ' +\n",
              "            '<a target=\"_blank\" href=https://colab.research.google.com/notebooks/data_table.ipynb>data table notebook</a>'\n",
              "            + ' to learn more about interactive tables.';\n",
              "          element.innerHTML = '';\n",
              "          dataTable['output_type'] = 'display_data';\n",
              "          await google.colab.output.renderOutput(dataTable, element);\n",
              "          const docLink = document.createElement('div');\n",
              "          docLink.innerHTML = docLinkHtml;\n",
              "          element.appendChild(docLink);\n",
              "        }\n",
              "      </script>\n",
              "    </div>\n",
              "  </div>\n",
              "  "
            ]
          },
          "metadata": {},
          "execution_count": 38
        }
      ]
    },
    {
      "cell_type": "code",
      "source": [
        "features_2['_HarmonicChangeDetectionFunction_PeriodEntropy'] = attribute_avg"
      ],
      "metadata": {
        "id": "NODtIyebjiBJ"
      },
      "execution_count": 39,
      "outputs": []
    },
    {
      "cell_type": "code",
      "source": [
        "prediction3 = target_names[clf.predict(features_2)]\n",
        "prediction3"
      ],
      "metadata": {
        "colab": {
          "base_uri": "https://localhost:8080/"
        },
        "id": "YmjQW0uajr8Q",
        "outputId": "46d43e3f-8f18-4eda-9f31-804aa7898745"
      },
      "execution_count": 43,
      "outputs": [
        {
          "output_type": "execute_result",
          "data": {
            "text/plain": [
              "array(['angry'], dtype=object)"
            ]
          },
          "metadata": {},
          "execution_count": 43
        }
      ]
    },
    {
      "cell_type": "code",
      "source": [
        "z = '/content/Energetic.mp3'\n",
        "features_3 = {}\n",
        "features_3 = feature_extraction(z)"
      ],
      "metadata": {
        "colab": {
          "base_uri": "https://localhost:8080/"
        },
        "id": "5pIOXqHAj7YF",
        "outputId": "7802b8df-b4df-4c9f-f808-2d3b892628e0"
      },
      "execution_count": 42,
      "outputs": [
        {
          "output_type": "stream",
          "name": "stderr",
          "text": [
            "/content/finalmusicfeatureextractednew.py:131: RuntimeWarning: invalid value encountered in log2\n",
            "  features['_HarmonicChangeDetectionFunction_PeriodEntropy'] = -np.sum(periodicity * np.log2(periodicity)) / np.sum(periodicity)\n",
            "/usr/local/lib/python3.10/dist-packages/sklearn/utils/extmath.py:1047: RuntimeWarning: invalid value encountered in true_divide\n",
            "  updated_mean = (last_sum + new_sum) / updated_sample_count\n",
            "/usr/local/lib/python3.10/dist-packages/sklearn/utils/extmath.py:1052: RuntimeWarning: invalid value encountered in true_divide\n",
            "  T = new_sum / new_sample_count\n",
            "/usr/local/lib/python3.10/dist-packages/sklearn/utils/extmath.py:1072: RuntimeWarning: invalid value encountered in true_divide\n",
            "  new_unnormalized_variance -= correction**2 / new_sample_count\n"
          ]
        }
      ]
    },
    {
      "cell_type": "code",
      "source": [
        "features_3['_HarmonicChangeDetectionFunction_PeriodEntropy'] = attribute_avg"
      ],
      "metadata": {
        "id": "1S22FVAQz9jz"
      },
      "execution_count": 46,
      "outputs": []
    },
    {
      "cell_type": "code",
      "source": [
        "prediction4 = target_names[clf.predict(features_3)]\n",
        "prediction4"
      ],
      "metadata": {
        "colab": {
          "base_uri": "https://localhost:8080/"
        },
        "id": "gJQgHg81wcoU",
        "outputId": "03bd10f8-19c2-4555-88ac-a39454ae2abe"
      },
      "execution_count": 47,
      "outputs": [
        {
          "output_type": "execute_result",
          "data": {
            "text/plain": [
              "array(['relax'], dtype=object)"
            ]
          },
          "metadata": {},
          "execution_count": 47
        }
      ]
    },
    {
      "cell_type": "code",
      "source": [],
      "metadata": {
        "id": "RgqRsqimz5tw"
      },
      "execution_count": null,
      "outputs": []
    }
  ]
}