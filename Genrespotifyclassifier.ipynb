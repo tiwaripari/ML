{
  "nbformat": 4,
  "nbformat_minor": 0,
  "metadata": {
    "colab": {
      "provenance": [],
      "authorship_tag": "ABX9TyMuTHZUytTEKX9XXtdZstOF",
      "include_colab_link": true
    },
    "kernelspec": {
      "name": "python3",
      "display_name": "Python 3"
    },
    "language_info": {
      "name": "python"
    }
  },
  "cells": [
    {
      "cell_type": "markdown",
      "metadata": {
        "id": "view-in-github",
        "colab_type": "text"
      },
      "source": [
        "<a href=\"https://colab.research.google.com/github/tiwaripari/ML/blob/main/Genrespotifyclassifier.ipynb\" target=\"_parent\"><img src=\"https://colab.research.google.com/assets/colab-badge.svg\" alt=\"Open In Colab\"/></a>"
      ]
    },
    {
      "cell_type": "code",
      "execution_count": 14,
      "metadata": {
        "id": "zJbT2zmk10yB"
      },
      "outputs": [],
      "source": [
        "from pandas import read_csv\n",
        "import pandas as pd\n",
        "import matplotlib.pyplot as plt\n",
        "from pandas.plotting import scatter_matrix\n",
        "from matplotlib import pyplot\n",
        "from sklearn.model_selection import train_test_split\n",
        "from sklearn.model_selection import cross_val_score\n",
        "from sklearn.model_selection import cross_val_predict\n",
        "from sklearn.model_selection import StratifiedKFold\n",
        "from sklearn.metrics import classification_report\n",
        "from sklearn.metrics import confusion_matrix\n",
        "from sklearn.metrics import accuracy_score\n",
        "from sklearn.linear_model import LogisticRegression\n",
        "from sklearn.tree import DecisionTreeClassifier\n",
        "from sklearn.neighbors import KNeighborsClassifier\n",
        "from sklearn.discriminant_analysis import LinearDiscriminantAnalysis\n",
        "from sklearn.naive_bayes import GaussianNB\n",
        "from sklearn.svm import SVC\n",
        "import numpy as np\n",
        "\n",
        "df_2000 = pd.read_csv(\"/content/Spotify-2000.csv\")"
      ]
    },
    {
      "cell_type": "code",
      "source": [
        "\n",
        "# check data types using df.dtype\n",
        "df_2000[\"Top Genre\"].value_counts()\n",
        "\n",
        "df_2000.drop(columns = ['Index', 'Title', 'Artist', 'Year'], inplace = True)"
      ],
      "metadata": {
        "id": "JG1rsXkm1522"
      },
      "execution_count": 15,
      "outputs": []
    },
    {
      "cell_type": "code",
      "source": [
        "len(df_2000[\"Top Genre\"].unique())\n",
        "attributes = df_2000.columns[1:]\n",
        "for attribute in attributes:\n",
        "    temp = df_2000[attribute]\n",
        "    for instance in range(len(temp)):\n",
        "        if(type(temp[instance]) == str):\n",
        "            df_2000[attribute][instance] = float(temp[instance].replace(',',''))\n",
        ""
      ],
      "metadata": {
        "colab": {
          "base_uri": "https://localhost:8080/"
        },
        "id": "3qpyvAr33H-c",
        "outputId": "97e3c265-3aa7-4a70-9079-2d89c97558bd"
      },
      "execution_count": 16,
      "outputs": [
        {
          "output_type": "stream",
          "name": "stderr",
          "text": [
            "<ipython-input-16-a2f61fe28107>:7: SettingWithCopyWarning: \n",
            "A value is trying to be set on a copy of a slice from a DataFrame\n",
            "\n",
            "See the caveats in the documentation: https://pandas.pydata.org/pandas-docs/stable/user_guide/indexing.html#returning-a-view-versus-a-copy\n",
            "  df_2000[attribute][instance] = float(temp[instance].replace(',',''))\n"
          ]
        }
      ]
    },
    {
      "cell_type": "code",
      "source": [
        "df = df_2000\n",
        "\n",
        "# first extracting the genre columns\n",
        "# getting rid of white spaces and turning it all into lower cases\n",
        "genre = (df[\"Top Genre\"].str.strip()).str.lower()\n",
        "\n",
        "# function to split the genre column\n",
        "def genre_splitter(genre):\n",
        "    result = genre.copy()\n",
        "    result = result.str.split(\" \")\n",
        "    for i in range(len(result)):\n",
        "        if (len(result[i]) > 1):\n",
        "            result[i] = [result[i][1]]\n",
        "    return result.str.join('')"
      ],
      "metadata": {
        "id": "J_-D78Pb2EHE"
      },
      "execution_count": 17,
      "outputs": []
    },
    {
      "cell_type": "code",
      "source": [
        "genre_m1 = genre.copy()\n",
        "while(max((genre_m1.str.split(\" \")).str.len()) > 1):\n",
        "    genre_m1 = genre_splitter(genre_m1)\n"
      ],
      "metadata": {
        "id": "USLO827N2HLs"
      },
      "execution_count": 19,
      "outputs": []
    },
    {
      "cell_type": "code",
      "source": [
        "len(genre_m1.unique())\n",
        "\n",
        "genre_m1.value_counts()\n",
        "\n",
        "unique = genre_m1.unique()\n",
        "to_remove = []\n",
        "\n",
        "# genres that have a single instance only will be placed within the to_remove array\n",
        "for genre in unique:\n",
        "    if genre_m1.value_counts()[genre] < 10: # 10 was arbitrarily chosen\n",
        "        to_remove += [genre]\n",
        "len(to_remove)"
      ],
      "metadata": {
        "colab": {
          "base_uri": "https://localhost:8080/"
        },
        "id": "RBaUwvm22J3c",
        "outputId": "84297e30-aaa2-453a-e82f-3b2d2329fdcd"
      },
      "execution_count": 20,
      "outputs": [
        {
          "output_type": "execute_result",
          "data": {
            "text/plain": [
              "51"
            ]
          },
          "metadata": {},
          "execution_count": 20
        }
      ]
    },
    {
      "cell_type": "code",
      "source": [
        "df['Top Genre'] = genre_m1\n",
        "df"
      ],
      "metadata": {
        "colab": {
          "base_uri": "https://localhost:8080/",
          "height": 485
        },
        "id": "w_GNA1wQ2MvM",
        "outputId": "160d8d7e-dd06-4648-d594-13242f25a265"
      },
      "execution_count": 21,
      "outputs": [
        {
          "output_type": "execute_result",
          "data": {
            "text/plain": [
              "      Top Genre  Beats Per Minute (BPM)  Energy  Danceability  Loudness (dB)  \\\n",
              "0     standards                     157      30            53            -14   \n",
              "1          rock                     135      79            50            -11   \n",
              "2           hip                     168      69            66             -9   \n",
              "3         metal                     173      96            43             -4   \n",
              "4          rock                     106      82            58             -5   \n",
              "...         ...                     ...     ...           ...            ...   \n",
              "1989  standards                      94      21            70            -12   \n",
              "1990  standards                     175      76            36             -8   \n",
              "1991       rock                     168      80            53             -9   \n",
              "1992      bebop                     174      26            45            -13   \n",
              "1993  standards                     133      50            49            -10   \n",
              "\n",
              "      Liveness  Valence Length (Duration)  Acousticness  Speechiness  \\\n",
              "0           11       68             201.0            94            3   \n",
              "1           17       81             207.0            17            7   \n",
              "2            7       52             341.0             2           17   \n",
              "3            3       37             269.0             0            4   \n",
              "4           10       87             256.0             1            3   \n",
              "...        ...      ...               ...           ...          ...   \n",
              "1989        11       72             128.0            84            7   \n",
              "1990        76       95             136.0            73            6   \n",
              "1991        31       97             162.0            74            7   \n",
              "1992         7       60             324.0            54            4   \n",
              "1993        16       83             148.0            74            3   \n",
              "\n",
              "      Popularity  \n",
              "0             71  \n",
              "1             39  \n",
              "2             69  \n",
              "3             76  \n",
              "4             59  \n",
              "...          ...  \n",
              "1989          63  \n",
              "1990          69  \n",
              "1991          74  \n",
              "1992          65  \n",
              "1993          56  \n",
              "\n",
              "[1994 rows x 11 columns]"
            ],
            "text/html": [
              "\n",
              "  <div id=\"df-a7c10266-3da0-40b3-a81d-3df54771589f\">\n",
              "    <div class=\"colab-df-container\">\n",
              "      <div>\n",
              "<style scoped>\n",
              "    .dataframe tbody tr th:only-of-type {\n",
              "        vertical-align: middle;\n",
              "    }\n",
              "\n",
              "    .dataframe tbody tr th {\n",
              "        vertical-align: top;\n",
              "    }\n",
              "\n",
              "    .dataframe thead th {\n",
              "        text-align: right;\n",
              "    }\n",
              "</style>\n",
              "<table border=\"1\" class=\"dataframe\">\n",
              "  <thead>\n",
              "    <tr style=\"text-align: right;\">\n",
              "      <th></th>\n",
              "      <th>Top Genre</th>\n",
              "      <th>Beats Per Minute (BPM)</th>\n",
              "      <th>Energy</th>\n",
              "      <th>Danceability</th>\n",
              "      <th>Loudness (dB)</th>\n",
              "      <th>Liveness</th>\n",
              "      <th>Valence</th>\n",
              "      <th>Length (Duration)</th>\n",
              "      <th>Acousticness</th>\n",
              "      <th>Speechiness</th>\n",
              "      <th>Popularity</th>\n",
              "    </tr>\n",
              "  </thead>\n",
              "  <tbody>\n",
              "    <tr>\n",
              "      <th>0</th>\n",
              "      <td>standards</td>\n",
              "      <td>157</td>\n",
              "      <td>30</td>\n",
              "      <td>53</td>\n",
              "      <td>-14</td>\n",
              "      <td>11</td>\n",
              "      <td>68</td>\n",
              "      <td>201.0</td>\n",
              "      <td>94</td>\n",
              "      <td>3</td>\n",
              "      <td>71</td>\n",
              "    </tr>\n",
              "    <tr>\n",
              "      <th>1</th>\n",
              "      <td>rock</td>\n",
              "      <td>135</td>\n",
              "      <td>79</td>\n",
              "      <td>50</td>\n",
              "      <td>-11</td>\n",
              "      <td>17</td>\n",
              "      <td>81</td>\n",
              "      <td>207.0</td>\n",
              "      <td>17</td>\n",
              "      <td>7</td>\n",
              "      <td>39</td>\n",
              "    </tr>\n",
              "    <tr>\n",
              "      <th>2</th>\n",
              "      <td>hip</td>\n",
              "      <td>168</td>\n",
              "      <td>69</td>\n",
              "      <td>66</td>\n",
              "      <td>-9</td>\n",
              "      <td>7</td>\n",
              "      <td>52</td>\n",
              "      <td>341.0</td>\n",
              "      <td>2</td>\n",
              "      <td>17</td>\n",
              "      <td>69</td>\n",
              "    </tr>\n",
              "    <tr>\n",
              "      <th>3</th>\n",
              "      <td>metal</td>\n",
              "      <td>173</td>\n",
              "      <td>96</td>\n",
              "      <td>43</td>\n",
              "      <td>-4</td>\n",
              "      <td>3</td>\n",
              "      <td>37</td>\n",
              "      <td>269.0</td>\n",
              "      <td>0</td>\n",
              "      <td>4</td>\n",
              "      <td>76</td>\n",
              "    </tr>\n",
              "    <tr>\n",
              "      <th>4</th>\n",
              "      <td>rock</td>\n",
              "      <td>106</td>\n",
              "      <td>82</td>\n",
              "      <td>58</td>\n",
              "      <td>-5</td>\n",
              "      <td>10</td>\n",
              "      <td>87</td>\n",
              "      <td>256.0</td>\n",
              "      <td>1</td>\n",
              "      <td>3</td>\n",
              "      <td>59</td>\n",
              "    </tr>\n",
              "    <tr>\n",
              "      <th>...</th>\n",
              "      <td>...</td>\n",
              "      <td>...</td>\n",
              "      <td>...</td>\n",
              "      <td>...</td>\n",
              "      <td>...</td>\n",
              "      <td>...</td>\n",
              "      <td>...</td>\n",
              "      <td>...</td>\n",
              "      <td>...</td>\n",
              "      <td>...</td>\n",
              "      <td>...</td>\n",
              "    </tr>\n",
              "    <tr>\n",
              "      <th>1989</th>\n",
              "      <td>standards</td>\n",
              "      <td>94</td>\n",
              "      <td>21</td>\n",
              "      <td>70</td>\n",
              "      <td>-12</td>\n",
              "      <td>11</td>\n",
              "      <td>72</td>\n",
              "      <td>128.0</td>\n",
              "      <td>84</td>\n",
              "      <td>7</td>\n",
              "      <td>63</td>\n",
              "    </tr>\n",
              "    <tr>\n",
              "      <th>1990</th>\n",
              "      <td>standards</td>\n",
              "      <td>175</td>\n",
              "      <td>76</td>\n",
              "      <td>36</td>\n",
              "      <td>-8</td>\n",
              "      <td>76</td>\n",
              "      <td>95</td>\n",
              "      <td>136.0</td>\n",
              "      <td>73</td>\n",
              "      <td>6</td>\n",
              "      <td>69</td>\n",
              "    </tr>\n",
              "    <tr>\n",
              "      <th>1991</th>\n",
              "      <td>rock</td>\n",
              "      <td>168</td>\n",
              "      <td>80</td>\n",
              "      <td>53</td>\n",
              "      <td>-9</td>\n",
              "      <td>31</td>\n",
              "      <td>97</td>\n",
              "      <td>162.0</td>\n",
              "      <td>74</td>\n",
              "      <td>7</td>\n",
              "      <td>74</td>\n",
              "    </tr>\n",
              "    <tr>\n",
              "      <th>1992</th>\n",
              "      <td>bebop</td>\n",
              "      <td>174</td>\n",
              "      <td>26</td>\n",
              "      <td>45</td>\n",
              "      <td>-13</td>\n",
              "      <td>7</td>\n",
              "      <td>60</td>\n",
              "      <td>324.0</td>\n",
              "      <td>54</td>\n",
              "      <td>4</td>\n",
              "      <td>65</td>\n",
              "    </tr>\n",
              "    <tr>\n",
              "      <th>1993</th>\n",
              "      <td>standards</td>\n",
              "      <td>133</td>\n",
              "      <td>50</td>\n",
              "      <td>49</td>\n",
              "      <td>-10</td>\n",
              "      <td>16</td>\n",
              "      <td>83</td>\n",
              "      <td>148.0</td>\n",
              "      <td>74</td>\n",
              "      <td>3</td>\n",
              "      <td>56</td>\n",
              "    </tr>\n",
              "  </tbody>\n",
              "</table>\n",
              "<p>1994 rows × 11 columns</p>\n",
              "</div>\n",
              "      <button class=\"colab-df-convert\" onclick=\"convertToInteractive('df-a7c10266-3da0-40b3-a81d-3df54771589f')\"\n",
              "              title=\"Convert this dataframe to an interactive table.\"\n",
              "              style=\"display:none;\">\n",
              "        \n",
              "  <svg xmlns=\"http://www.w3.org/2000/svg\" height=\"24px\"viewBox=\"0 0 24 24\"\n",
              "       width=\"24px\">\n",
              "    <path d=\"M0 0h24v24H0V0z\" fill=\"none\"/>\n",
              "    <path d=\"M18.56 5.44l.94 2.06.94-2.06 2.06-.94-2.06-.94-.94-2.06-.94 2.06-2.06.94zm-11 1L8.5 8.5l.94-2.06 2.06-.94-2.06-.94L8.5 2.5l-.94 2.06-2.06.94zm10 10l.94 2.06.94-2.06 2.06-.94-2.06-.94-.94-2.06-.94 2.06-2.06.94z\"/><path d=\"M17.41 7.96l-1.37-1.37c-.4-.4-.92-.59-1.43-.59-.52 0-1.04.2-1.43.59L10.3 9.45l-7.72 7.72c-.78.78-.78 2.05 0 2.83L4 21.41c.39.39.9.59 1.41.59.51 0 1.02-.2 1.41-.59l7.78-7.78 2.81-2.81c.8-.78.8-2.07 0-2.86zM5.41 20L4 18.59l7.72-7.72 1.47 1.35L5.41 20z\"/>\n",
              "  </svg>\n",
              "      </button>\n",
              "      \n",
              "  <style>\n",
              "    .colab-df-container {\n",
              "      display:flex;\n",
              "      flex-wrap:wrap;\n",
              "      gap: 12px;\n",
              "    }\n",
              "\n",
              "    .colab-df-convert {\n",
              "      background-color: #E8F0FE;\n",
              "      border: none;\n",
              "      border-radius: 50%;\n",
              "      cursor: pointer;\n",
              "      display: none;\n",
              "      fill: #1967D2;\n",
              "      height: 32px;\n",
              "      padding: 0 0 0 0;\n",
              "      width: 32px;\n",
              "    }\n",
              "\n",
              "    .colab-df-convert:hover {\n",
              "      background-color: #E2EBFA;\n",
              "      box-shadow: 0px 1px 2px rgba(60, 64, 67, 0.3), 0px 1px 3px 1px rgba(60, 64, 67, 0.15);\n",
              "      fill: #174EA6;\n",
              "    }\n",
              "\n",
              "    [theme=dark] .colab-df-convert {\n",
              "      background-color: #3B4455;\n",
              "      fill: #D2E3FC;\n",
              "    }\n",
              "\n",
              "    [theme=dark] .colab-df-convert:hover {\n",
              "      background-color: #434B5C;\n",
              "      box-shadow: 0px 1px 3px 1px rgba(0, 0, 0, 0.15);\n",
              "      filter: drop-shadow(0px 1px 2px rgba(0, 0, 0, 0.3));\n",
              "      fill: #FFFFFF;\n",
              "    }\n",
              "  </style>\n",
              "\n",
              "      <script>\n",
              "        const buttonEl =\n",
              "          document.querySelector('#df-a7c10266-3da0-40b3-a81d-3df54771589f button.colab-df-convert');\n",
              "        buttonEl.style.display =\n",
              "          google.colab.kernel.accessAllowed ? 'block' : 'none';\n",
              "\n",
              "        async function convertToInteractive(key) {\n",
              "          const element = document.querySelector('#df-a7c10266-3da0-40b3-a81d-3df54771589f');\n",
              "          const dataTable =\n",
              "            await google.colab.kernel.invokeFunction('convertToInteractive',\n",
              "                                                     [key], {});\n",
              "          if (!dataTable) return;\n",
              "\n",
              "          const docLinkHtml = 'Like what you see? Visit the ' +\n",
              "            '<a target=\"_blank\" href=https://colab.research.google.com/notebooks/data_table.ipynb>data table notebook</a>'\n",
              "            + ' to learn more about interactive tables.';\n",
              "          element.innerHTML = '';\n",
              "          dataTable['output_type'] = 'display_data';\n",
              "          await google.colab.output.renderOutput(dataTable, element);\n",
              "          const docLink = document.createElement('div');\n",
              "          docLink.innerHTML = docLinkHtml;\n",
              "          element.appendChild(docLink);\n",
              "        }\n",
              "      </script>\n",
              "    </div>\n",
              "  </div>\n",
              "  "
            ]
          },
          "metadata": {},
          "execution_count": 21
        }
      ]
    },
    {
      "cell_type": "code",
      "source": [
        "df.set_index([\"Top Genre\"],drop = False, inplace = True)\n",
        "for name in to_remove:\n",
        "    type(name)\n",
        "    df.drop(index = str(name), inplace = True)\n",
        "\n",
        "df[\"Top Genre\"].value_counts()"
      ],
      "metadata": {
        "colab": {
          "base_uri": "https://localhost:8080/"
        },
        "id": "jLWfqHU32Pdn",
        "outputId": "1f1d6381-8019-4d01-aae5-7afa60424b7a"
      },
      "execution_count": 22,
      "outputs": [
        {
          "output_type": "execute_result",
          "data": {
            "text/plain": [
              "rock         834\n",
              "pop          307\n",
              "standards    123\n",
              "metal         93\n",
              "indie         78\n",
              "cabaret       51\n",
              "soul          45\n",
              "wave          40\n",
              "invasion      36\n",
              "europop       27\n",
              "folk          26\n",
              "hip           23\n",
              "uk            22\n",
              "disco         18\n",
              "funk          18\n",
              "mellow        17\n",
              "country       17\n",
              "dance         16\n",
              "americana     13\n",
              "britpop       11\n",
              "gold          11\n",
              "beat          11\n",
              "limburg       10\n",
              "Name: Top Genre, dtype: int64"
            ]
          },
          "metadata": {},
          "execution_count": 22
        }
      ]
    },
    {
      "cell_type": "code",
      "source": [
        "df.dtypes"
      ],
      "metadata": {
        "colab": {
          "base_uri": "https://localhost:8080/"
        },
        "id": "Agvk2UtO2u4f",
        "outputId": "cfd0ecd8-de42-47b2-d0e5-318df0cd408b"
      },
      "execution_count": 23,
      "outputs": [
        {
          "output_type": "execute_result",
          "data": {
            "text/plain": [
              "Top Genre                 object\n",
              "Beats Per Minute (BPM)     int64\n",
              "Energy                     int64\n",
              "Danceability               int64\n",
              "Loudness (dB)              int64\n",
              "Liveness                   int64\n",
              "Valence                    int64\n",
              "Length (Duration)         object\n",
              "Acousticness               int64\n",
              "Speechiness                int64\n",
              "Popularity                 int64\n",
              "dtype: object"
            ]
          },
          "metadata": {},
          "execution_count": 23
        }
      ]
    },
    {
      "cell_type": "code",
      "source": [
        "train_set, test_set = train_test_split(df, test_size = 0.2, random_state = 42)\n",
        "# training set\n",
        "X_train = train_set.values[:,1:]\n",
        "y_train = train_set.values[:,0]\n",
        "\n",
        "# test set\n",
        "X_test = test_set.values[:,1:]\n",
        "y_test = test_set.values[:,0]\n",
        "\n",
        "from sklearn.preprocessing import StandardScaler\n",
        "\n",
        "standard_scaler = StandardScaler().fit(X_train)\n",
        "\n",
        "# Standard Scaler\n",
        "X_train_ST = standard_scaler.transform(X_train)\n",
        "X_test_ST = standard_scaler.transform(X_test)\n",
        "\n",
        "# obtaining all unique classes\n",
        "unique = np.unique(y_train)"
      ],
      "metadata": {
        "id": "q6ObbYSK2Sav"
      },
      "execution_count": 24,
      "outputs": []
    },
    {
      "cell_type": "code",
      "source": [
        "from sklearn.preprocessing import label_binarize\n",
        "from sklearn.preprocessing import LabelEncoder\n",
        "# 1 hot encoding\n",
        "y_test_1hot = label_binarize(y_test, classes = unique)\n",
        "y_train_1hot = label_binarize(y_train, classes = unique)\n",
        "\n",
        "# labelling\n",
        "y_test_label = LabelEncoder()\n"
      ],
      "metadata": {
        "id": "KtKZLIWe2ZPO"
      },
      "execution_count": 25,
      "outputs": []
    },
    {
      "cell_type": "code",
      "source": [
        "from sklearn.linear_model import LogisticRegression\n",
        "from sklearn.ensemble import RandomForestClassifier\n",
        "from sklearn.naive_bayes import GaussianNB\n",
        "from sklearn.linear_model import SGDClassifier\n",
        "from sklearn.multiclass import OneVsOneClassifier"
      ],
      "metadata": {
        "id": "W_v32gSL3dHb"
      },
      "execution_count": 26,
      "outputs": []
    },
    {
      "cell_type": "code",
      "source": [
        "from sklearn.metrics import precision_score, recall_score\n",
        "from sklearn.metrics import f1_score"
      ],
      "metadata": {
        "id": "mGGfKCK93j0w"
      },
      "execution_count": 28,
      "outputs": []
    },
    {
      "cell_type": "code",
      "source": [
        "# training the models\n",
        "model_method1 = LogisticRegression(multi_class = 'ovr').fit(X_train_ST, y_train)\n",
        "\n",
        "# getting predictions\n",
        "predictions_method1 = model_method1.predict(X_test_ST)\n",
        "\n",
        "model = RandomForestClassifier(random_state = 42, min_samples_split = 5)\n",
        "model.fit(X_train, y_train)\n",
        "pred = model.predict(X_test_ST)\n",
        "\n",
        "accuracy = accuracy_score(y_test, predictions_method1)\n",
        "print(accuracy)\n",
        "from sklearn.metrics import confusion_matrix\n",
        "print(f1_score(y_test, predictions_method1, labels = unique, average = 'micro' ))\n"
      ],
      "metadata": {
        "colab": {
          "base_uri": "https://localhost:8080/"
        },
        "id": "kNMfcdDA3mdD",
        "outputId": "bb5cb3b7-bd43-489b-ea0d-d24e19f52b4a"
      },
      "execution_count": 34,
      "outputs": [
        {
          "output_type": "stream",
          "name": "stdout",
          "text": [
            "0.4756756756756757\n",
            "0.4756756756756757\n"
          ]
        }
      ]
    },
    {
      "cell_type": "code",
      "source": [
        "\n"
      ],
      "metadata": {
        "id": "nCSv3cRM3tPm"
      },
      "execution_count": null,
      "outputs": []
    }
  ]
}