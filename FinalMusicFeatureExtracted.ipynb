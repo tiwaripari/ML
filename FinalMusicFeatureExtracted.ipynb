{
  "nbformat": 4,
  "nbformat_minor": 0,
  "metadata": {
    "colab": {
      "provenance": [],
      "mount_file_id": "1fQP71qrgTEniXDBJPP0re-1nLUcHUCiE",
      "authorship_tag": "ABX9TyPPNDBmEKs4jBcGtMvfHL4R",
      "include_colab_link": true
    },
    "kernelspec": {
      "name": "python3",
      "display_name": "Python 3"
    },
    "language_info": {
      "name": "python"
    }
  },
  "cells": [
    {
      "cell_type": "markdown",
      "metadata": {
        "id": "view-in-github",
        "colab_type": "text"
      },
      "source": [
        "<a href=\"https://colab.research.google.com/github/tiwaripari/ML/blob/main/FinalMusicFeatureExtracted.ipynb\" target=\"_parent\"><img src=\"https://colab.research.google.com/assets/colab-badge.svg\" alt=\"Open In Colab\"/></a>"
      ]
    },
    {
      "cell_type": "code",
      "execution_count": 1,
      "metadata": {
        "id": "hTbmvCnDAtNV"
      },
      "outputs": [],
      "source": [
        "\n",
        "import librosa\n",
        "import librosa.display\n",
        "import IPython.display as ipd\n",
        "import numpy as np\n",
        "import pandas as pd\n",
        "from sklearn.ensemble import RandomForestClassifier\n",
        "from sklearn.metrics import accuracy_score\n",
        "from scipy.stats import kurtosis, skew\n",
        "from scipy.signal import find_peaks"
      ]
    },
    {
      "cell_type": "code",
      "source": [
        "def feature_extraction(file_path):\n",
        "  # Load the audio file\n",
        "  x, sample_rate = librosa.load(file_path)\n",
        "  features = {}\n",
        "\n",
        "  mfcc = []\n",
        "  mfcc = np.mean(librosa.feature.mfcc(y=x, sr=sample_rate, n_mfcc=13).T, axis=0)\n",
        "  for i in range(1, 14):\n",
        "    features[f'_MFCC_Mean_{i}'] = mfcc[i-1].mean()\n",
        "\n",
        "  chroma = np.mean(librosa.feature.chroma_stft(y=x, sr=sample_rate).T,axis=0)\n",
        "  for i in range(1, 13):\n",
        "        features[f'_Chromagram_Mean_{i}'] = chroma[i-1]\n",
        "\n",
        "  spectrogram = librosa.stft(x)\n",
        "  power_spectrogram = np.abs(spectrogram) ** 2\n",
        "\n",
        "  features['_HarmonicChangeDetectionFunction_Mean'] = librosa.feature.delta(power_spectrogram, order=1, axis=-1).mean()\n",
        "  features['_HarmonicChangeDetectionFunction_Std'] = librosa.feature.delta(power_spectrogram, order=1,axis=-1).std()\n",
        "  features['_HarmonicChangeDetectionFunction_Slope'] = np.mean(librosa.feature.delta(power_spectrogram, order=1, axis=-1))\n",
        "\n",
        "  # Apply Harmonic/Percussive Source Separation (HPSS)\n",
        "  harmonic, percussive = librosa.effects.hpss(y=x)\n",
        "\n",
        "  # Calculate the autocorrelation of the harmonic component\n",
        "  autocorr = np.correlate(harmonic, harmonic, mode='full')\n",
        "\n",
        "  # Find the peak in the autocorrelation function\n",
        "  lags = np.arange(-len(harmonic) + 1, len(harmonic))\n",
        "  positive_lags = lags[lags >= 0]\n",
        "  periodicity = autocorr[positive_lags]\n",
        "\n",
        "  # Calculate the HCDF-like feature values\n",
        "  features['_HarmonicChangeDetectionFunction_PeriodFreq'] = sample_rate / (positive_lags[np.argmax(periodicity)] + 1)\n",
        "  features['_HarmonicChangeDetectionFunction_PeriodAmp'] = np.max(periodicity)\n",
        "  features['_HarmonicChangeDetectionFunction_PeriodEntropy'] = -np.sum(periodicity * np.log2(periodicity)) / np.sum(periodicity)\n",
        "\n",
        "\n",
        "  features['_RMSenergy_Mean'] = librosa.feature.rms(y=x).mean()\n",
        "  features['_Lowenergy_Mean'] = librosa.feature.spectral_contrast(S=power_spectrogram).mean()\n",
        "  features['_Fluctuation_Mean'] = librosa.feature.spectral_flatness(S=power_spectrogram).mean()\n",
        "  features['_Tempo_Mean'] = librosa.feature.tempo(y=x, sr=sample_rate)[0].mean()\n",
        "\n",
        "  # Compute the spectral centroid feature\n",
        "  spectral_centroids = librosa.feature.spectral_centroid(y=x, sr=sample_rate)\n",
        "  features['_Spectralcentroid_Mean'] = spectral_centroids.mean()\n",
        "\n",
        "# Compute the spectral spread feature\n",
        "  spectral_spreads = librosa.feature.spectral_bandwidth(y=x, sr=sample_rate)\n",
        "  features['_Spectralspread_Mean'] = spectral_spreads.mean()\n",
        "\n",
        "# Calculate the magnitude spectrum\n",
        "  magnitude_spectrum = np.abs(np.fft.fft(x))\n",
        "\n",
        "# Calculate the spectral kurtosis\n",
        "  spectral_kurtosis = kurtosis(magnitude_spectrum)\n",
        "  features['_Spectralkurtosis_Mean'] = np.mean(spectral_kurtosis)\n",
        "\n",
        "# Calculate the spectral skewness\n",
        "  spectral_skewness = skew(magnitude_spectrum)\n",
        "  features['_Spectralskewness_Mean'] = np.mean(spectral_skewness)\n",
        "\n",
        "# Compute the spectral flatness feature\n",
        "  spectral_flatness = librosa.feature.spectral_flatness(y=x)\n",
        "  features['_Spectralflatness_Mean'] = spectral_flatness.mean()\n",
        "\n",
        "# Compute the entropy of spectrum feature\n",
        "  entropy_of_spectrum = librosa.feature.spectral_contrast(y=x, sr=sample_rate)\n",
        "  features['_EntropyofSpectrum_Mean'] = entropy_of_spectrum.mean()\n",
        "\n",
        "  # Calculate the magnitude spectrogram\n",
        "  S = np.abs(librosa.stft(y=x))\n",
        "\n",
        "# Calculate the roughness feature\n",
        "  roughness = librosa.feature.spectral_rolloff(S=S, sr=sample_rate)\n",
        "  features['_Roughness_Mean'] = np.mean(roughness)\n",
        "\n",
        "# Calculate the roughness slope feature\n",
        "  roughness_slope = np.diff(roughness, axis=1)\n",
        "  features['_Roughness_Slope'] = np.mean(roughness_slope)\n",
        "\n",
        "# Calculate the zero-crossing rate feature\n",
        "  zero_crossing_rate = librosa.feature.zero_crossing_rate(y=x)\n",
        "  features['_Zero-crossingrate_Mean'] = np.mean(zero_crossing_rate)\n",
        "\n",
        "# Calculate the attack time feature\n",
        "  attack_time = librosa.onset.onset_strength(y=x, sr=sample_rate)\n",
        "  features['_AttackTime_Mean'] = np.mean(attack_time)\n",
        "\n",
        "# Calculate the attack time slope feature\n",
        "  attack_time_slope = np.diff(attack_time)\n",
        "  features['_AttackTime_Slope'] = np.mean(attack_time_slope)\n",
        "\n",
        "# Calculate the rolloff feature\n",
        "  rolloff = librosa.feature.spectral_rolloff(y=x, sr=sample_rate)\n",
        "  features['_Rolloff_Mean'] = np.mean(rolloff)\n",
        "\n",
        "# Calculate the event density feature\n",
        "  event_density = np.sum(magnitude_spectrum > np.max(magnitude_spectrum) * 0.5)\n",
        "  features['_Eventdensity_Mean'] = event_density / len(magnitude_spectrum)\n",
        "\n",
        "# Calculate the pulse clarity feature\n",
        "  peaks, _ = find_peaks(x)\n",
        "  features['_Pulseclarity_Mean'] = np.mean(peaks)\n",
        "\n",
        "# Calculate the brightness feature\n",
        "  brightness = librosa.feature.spectral_flatness(y=x)\n",
        "  features['_Brightness_Mean'] = np.mean(brightness)\n",
        "\n",
        "  return features"
      ],
      "metadata": {
        "id": "osvxcqOLAvCW"
      },
      "execution_count": 6,
      "outputs": []
    },
    {
      "cell_type": "code",
      "source": [
        "x = '/content/drive/MyDrive/TunePocket-Rock-Party-30-Sec-Intro-Preview.mp3'\n",
        "features = {}\n",
        "features = feature_extraction(x)"
      ],
      "metadata": {
        "colab": {
          "base_uri": "https://localhost:8080/"
        },
        "id": "W_PKCZ1OCh3m",
        "outputId": "35a26701-c455-45a1-a307-1ae538f8db0b"
      },
      "execution_count": 7,
      "outputs": [
        {
          "output_type": "stream",
          "name": "stderr",
          "text": [
            "<ipython-input-6-204c960994cf>:36: RuntimeWarning: invalid value encountered in log2\n",
            "  features['_HarmonicChangeDetectionFunction_PeriodEntropy'] = -np.sum(periodicity * np.log2(periodicity)) / np.sum(periodicity)\n"
          ]
        }
      ]
    },
    {
      "cell_type": "code",
      "source": [
        "features"
      ],
      "metadata": {
        "colab": {
          "base_uri": "https://localhost:8080/"
        },
        "id": "Qho-ZQUHCzX2",
        "outputId": "b496578b-c0d8-4f3c-9ef1-fefad72fcba5"
      },
      "execution_count": 8,
      "outputs": [
        {
          "output_type": "execute_result",
          "data": {
            "text/plain": [
              "{'_MFCC_Mean_1': -22.972054,\n",
              " '_MFCC_Mean_2': 84.601036,\n",
              " '_MFCC_Mean_3': -28.321905,\n",
              " '_MFCC_Mean_4': 32.63283,\n",
              " '_MFCC_Mean_5': -1.4422629,\n",
              " '_MFCC_Mean_6': 5.140584,\n",
              " '_MFCC_Mean_7': 1.2359622,\n",
              " '_MFCC_Mean_8': 6.829946,\n",
              " '_MFCC_Mean_9': 1.3748925,\n",
              " '_MFCC_Mean_10': 7.0407195,\n",
              " '_MFCC_Mean_11': -1.3476068,\n",
              " '_MFCC_Mean_12': 5.826765,\n",
              " '_MFCC_Mean_13': -1.3939185,\n",
              " '_Chromagram_Mean_1': 0.45105198,\n",
              " '_Chromagram_Mean_2': 0.40799463,\n",
              " '_Chromagram_Mean_3': 0.49941653,\n",
              " '_Chromagram_Mean_4': 0.77754074,\n",
              " '_Chromagram_Mean_5': 0.49573925,\n",
              " '_Chromagram_Mean_6': 0.40501738,\n",
              " '_Chromagram_Mean_7': 0.4624765,\n",
              " '_Chromagram_Mean_8': 0.57066023,\n",
              " '_Chromagram_Mean_9': 0.74407774,\n",
              " '_Chromagram_Mean_10': 0.5218353,\n",
              " '_Chromagram_Mean_11': 0.39746425,\n",
              " '_Chromagram_Mean_12': 0.34780678,\n",
              " '_HarmonicChangeDetectionFunction_Mean': -0.011699124,\n",
              " '_HarmonicChangeDetectionFunction_Std': 75.90025,\n",
              " '_HarmonicChangeDetectionFunction_Slope': -0.011699124,\n",
              " '_HarmonicChangeDetectionFunction_PeriodFreq': 0.027777777777777776,\n",
              " '_HarmonicChangeDetectionFunction_PeriodAmp': 28034.852,\n",
              " '_HarmonicChangeDetectionFunction_PeriodEntropy': nan,\n",
              " '_RMSenergy_Mean': 0.24375623,\n",
              " '_Lowenergy_Mean': 35.55644091463338,\n",
              " '_Fluctuation_Mean': 0.044861086,\n",
              " '_Tempo_Mean': 123.046875,\n",
              " '_Spectralcentroid_Mean': 2520.357902867496,\n",
              " '_Spectralspread_Mean': 2291.0248307148167,\n",
              " '_Spectralkurtosis_Mean': 92.85413882772158,\n",
              " '_Spectralskewness_Mean': 7.385653905738017,\n",
              " '_Spectralflatness_Mean': 0.043164242,\n",
              " '_EntropyofSpectrum_Mean': 20.808180189109258,\n",
              " '_Roughness_Mean': 4900.087928403046,\n",
              " '_Roughness_Slope': 3.605074974798387,\n",
              " '_Zero-crossingrate_Mean': 0.13801705552869117,\n",
              " '_AttackTime_Mean': 1.049266,\n",
              " '_AttackTime_Slope': 6.152738e-10,\n",
              " '_Rolloff_Mean': 4900.087928403046,\n",
              " '_Eventdensity_Mean': 0.00026455026455026457,\n",
              " '_Pulseclarity_Mean': 417828.0952772276,\n",
              " '_Brightness_Mean': 0.043164242}"
            ]
          },
          "metadata": {},
          "execution_count": 8
        }
      ]
    },
    {
      "cell_type": "code",
      "source": [
        "len(features)"
      ],
      "metadata": {
        "colab": {
          "base_uri": "https://localhost:8080/"
        },
        "id": "isbjm8YkEb3u",
        "outputId": "d0e729fe-2c49-49d3-84a0-fab927a637af"
      },
      "execution_count": 9,
      "outputs": [
        {
          "output_type": "execute_result",
          "data": {
            "text/plain": [
              "50"
            ]
          },
          "metadata": {},
          "execution_count": 9
        }
      ]
    },
    {
      "cell_type": "code",
      "source": [],
      "metadata": {
        "id": "yj_ciyxMEexX"
      },
      "execution_count": null,
      "outputs": []
    }
  ]
}