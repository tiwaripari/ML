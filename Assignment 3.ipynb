{
 "cells": [
  {
   "cell_type": "code",
   "execution_count": 138,
   "id": "dcb09ce7",
   "metadata": {},
   "outputs": [],
   "source": [
    "import time\n",
    "graph = {\n",
    "    \"1111\" : [\"0011\",\"0101\",\"0110\"],\n",
    "    \"0011\" : [\"1011\",\"1111\"],\n",
    "    \"0101\" : [\"1101\", \"1111\"],\n",
    "    \"0110\" : [\"1110\", \"1111\"],\n",
    "    \"1011\" : [\"0010\",\"0001\",\"0011\"],\n",
    "    \"1101\" : [\"0001\", \"0100\", \"0101\"],\n",
    "    \"1110\" : [\"0100\",\"0110\"],\n",
    "    \"0010\" : [\"1010\", \"1011\",\"1110\"],\n",
    "    \"0001\" : [\"1001\", \"1011\", \"1101\"],\n",
    "    \"0100\" : [\"1100\", \"1110\", \"1101\"],\n",
    "    \"1010\" : [\"0000\", \"0010\"],\n",
    "    \"1100\" : [\"0000\", \"0100\"],\n",
    "    \"0000\" : [\"1000\",\"1010\",\"1001\",\"1100\"]\n",
    "    \n",
    "}\n"
   ]
  },
  {
   "cell_type": "markdown",
   "id": "334f63dc",
   "metadata": {},
   "source": [
    "here 1 denotes left side and 0 denotes right side also, the sequence is {Boat,Cabbage,Goat,Wolf}"
   ]
  },
  {
   "cell_type": "markdown",
   "id": "6362413c",
   "metadata": {},
   "source": [
    "## BFS"
   ]
  },
  {
   "cell_type": "code",
   "execution_count": 139,
   "id": "4b5d02ba",
   "metadata": {},
   "outputs": [],
   "source": [
    "start = time.time()"
   ]
  },
  {
   "cell_type": "code",
   "execution_count": 140,
   "id": "62314b91",
   "metadata": {},
   "outputs": [
    {
     "name": "stdout",
     "output_type": "stream",
     "text": [
      "Found\n"
     ]
    },
    {
     "data": {
      "text/plain": [
       "['1111',\n",
       " '0101',\n",
       " '1101',\n",
       " '0001',\n",
       " '0100',\n",
       " '1011',\n",
       " '1110',\n",
       " '0010',\n",
       " '1010',\n",
       " '0000']"
      ]
     },
     "execution_count": 140,
     "metadata": {},
     "output_type": "execute_result"
    }
   ],
   "source": [
    "\n",
    "queue = []\n",
    "queue.append(\"1111\")\n",
    "path = []\n",
    "visited = []\n",
    "while(queue):\n",
    "    state = str(queue.pop(0))\n",
    "    if(state == \"0000\"):\n",
    "        path.append(\"0000\")\n",
    "        print(\"Found\")\n",
    "        break\n",
    "    if(state in visited):\n",
    "        continue\n",
    "    if(state[1] == state[2]):\n",
    "        if(state[0] == state[1]):\n",
    "            for x in graph[state]:\n",
    "                \n",
    "                queue.append(x)\n",
    "            path.append(state)\n",
    "        else:\n",
    "            continue\n",
    "            \n",
    "    elif(state[2] == state[3]):\n",
    "        if(state[0] == state[2]):\n",
    "            for x in graph[state]:\n",
    "                queue.append(x)\n",
    "            path.append(state)\n",
    "        else:\n",
    "            continue\n",
    "            \n",
    "    else:\n",
    "        for x in graph[state]:\n",
    "            queue.append(x)\n",
    "        path.append(state)\n",
    "    visited.append(state)           \n",
    "    \n",
    "\n",
    "\n",
    "path\n",
    "\n",
    "    "
   ]
  },
  {
   "cell_type": "code",
   "execution_count": 141,
   "id": "43949f7e",
   "metadata": {},
   "outputs": [],
   "source": [
    "end = time.time()"
   ]
  },
  {
   "cell_type": "code",
   "execution_count": 142,
   "id": "085096a8",
   "metadata": {},
   "outputs": [],
   "source": [
    "time_taken = end - start"
   ]
  },
  {
   "cell_type": "code",
   "execution_count": 143,
   "id": "247819d6",
   "metadata": {},
   "outputs": [
    {
     "data": {
      "text/plain": [
       "0.323988676071167"
      ]
     },
     "execution_count": 143,
     "metadata": {},
     "output_type": "execute_result"
    }
   ],
   "source": [
    "time_taken"
   ]
  },
  {
   "cell_type": "markdown",
   "id": "86dec24b",
   "metadata": {},
   "source": [
    "## DFS"
   ]
  },
  {
   "cell_type": "code",
   "execution_count": 144,
   "id": "aa7b6e73",
   "metadata": {},
   "outputs": [],
   "source": [
    "start = time.time()"
   ]
  },
  {
   "cell_type": "code",
   "execution_count": 145,
   "id": "e51aeab7",
   "metadata": {},
   "outputs": [],
   "source": [
    "def DFSvisit(state, path, visited):\n",
    "  \n",
    "    if(state == \"0000\"):\n",
    "        path.append(\"0000\")\n",
    "        print(\"Found\")\n",
    "        \n",
    "        return \n",
    "   \n",
    "    if(state in visited):\n",
    "        return\n",
    "            \n",
    "    visited.append(state)\n",
    "  \n",
    "        \n",
    "    if(state[1] == state[2]):\n",
    "        if(state[0] == state[1]):\n",
    "                path.append(state)\n",
    "                for state1 in graph[state]:\n",
    "                    x = str(state1)\n",
    "                    \n",
    "                    DFSvisit(x,path,visited)\n",
    "        else:\n",
    "            return\n",
    "            \n",
    "    elif(state[2] == state[3]):\n",
    "        if(state[0] == state[2]):\n",
    "                path.append(state)\n",
    "                for state1 in graph[state]:\n",
    "                    x = str(state1)\n",
    "                    \n",
    "                    DFSvisit(x,path,visited)\n",
    "                \n",
    "        else:\n",
    "            return\n",
    "            \n",
    "    else:\n",
    "        path.append(state)\n",
    "        for state1 in graph[state]:\n",
    "                x = str(state1)\n",
    "                DFSvisit(x,path,visited)\n",
    "                       \n",
    "    \n",
    "\n",
    "                \n",
    "    return        \n",
    "   \n"
   ]
  },
  {
   "cell_type": "code",
   "execution_count": 146,
   "id": "077015d9",
   "metadata": {},
   "outputs": [
    {
     "name": "stdout",
     "output_type": "stream",
     "text": [
      "Found\n"
     ]
    },
    {
     "data": {
      "text/plain": [
       "['1111',\n",
       " '0101',\n",
       " '1101',\n",
       " '0001',\n",
       " '1011',\n",
       " '0010',\n",
       " '1010',\n",
       " '0000',\n",
       " '1110',\n",
       " '0100']"
      ]
     },
     "execution_count": 146,
     "metadata": {},
     "output_type": "execute_result"
    }
   ],
   "source": [
    "path = []\n",
    "visited = []\n",
    "\n",
    "DFSvisit(\"1111\", path, visited)\n",
    "path"
   ]
  },
  {
   "cell_type": "code",
   "execution_count": 147,
   "id": "64c6eb39",
   "metadata": {},
   "outputs": [],
   "source": [
    "end = time.time()"
   ]
  },
  {
   "cell_type": "code",
   "execution_count": 148,
   "id": "971b7a19",
   "metadata": {},
   "outputs": [],
   "source": [
    "time_taken1 = end - start"
   ]
  },
  {
   "cell_type": "code",
   "execution_count": 149,
   "id": "19488f8b",
   "metadata": {},
   "outputs": [
    {
     "data": {
      "text/plain": [
       "0.4464833736419678"
      ]
     },
     "execution_count": 149,
     "metadata": {},
     "output_type": "execute_result"
    }
   ],
   "source": [
    "time_taken1"
   ]
  },
  {
   "cell_type": "markdown",
   "id": "a93ed0cb",
   "metadata": {},
   "source": [
    "## DLS"
   ]
  },
  {
   "cell_type": "code",
   "execution_count": 150,
   "id": "b35c01a0",
   "metadata": {},
   "outputs": [],
   "source": [
    "start = time.time()"
   ]
  },
  {
   "cell_type": "code",
   "execution_count": 151,
   "id": "56f0633c",
   "metadata": {},
   "outputs": [],
   "source": [
    "def DlSvisit(state, path, visited, limit):\n",
    "    if(limit == 0):\n",
    "        \n",
    "        return\n",
    "    \n",
    "    if(state == \"0000\"):\n",
    "        path.append(\"0000\")\n",
    "        print(\"Found\")\n",
    "        \n",
    "        return \n",
    "   \n",
    "    if(state in visited):\n",
    "        return\n",
    "            \n",
    "    visited.append(state)\n",
    "  \n",
    "        \n",
    "    if(state[1] == state[2]):\n",
    "        if(state[0] == state[1]):\n",
    "                path.append(state)\n",
    "                for state1 in graph[state]:\n",
    "                    x = str(state1)\n",
    "                    \n",
    "                    DlSvisit(x,path,visited,limit-1)\n",
    "        else:\n",
    "            return\n",
    "            \n",
    "    elif(state[2] == state[3]):\n",
    "        if(state[0] == state[2]):\n",
    "                path.append(state)\n",
    "                for state1 in graph[state]:\n",
    "                    x = str(state1)\n",
    "                    \n",
    "                    DlSvisit(x,path,visited,limit-1)\n",
    "                \n",
    "        else:\n",
    "            return\n",
    "            \n",
    "    else:\n",
    "        path.append(state)\n",
    "        for state1 in graph[state]:\n",
    "                x = str(state1)\n",
    "                DlSvisit(x,path,visited,limit-1)\n",
    "                       \n",
    "    \n",
    "\n",
    "                \n",
    "    return        \n",
    "   "
   ]
  },
  {
   "cell_type": "code",
   "execution_count": 152,
   "id": "058949c0",
   "metadata": {},
   "outputs": [
    {
     "name": "stdout",
     "output_type": "stream",
     "text": [
      "Not found\n"
     ]
    },
    {
     "data": {
      "text/plain": [
       "['1111', '0101', '1101', '0001', '0100']"
      ]
     },
     "execution_count": 152,
     "metadata": {},
     "output_type": "execute_result"
    }
   ],
   "source": [
    "path = []\n",
    "visited = []\n",
    "\n",
    "DlSvisit(\"1111\", path, visited, 4)\n",
    "\n",
    "if(\"0000\" not in path):\n",
    "    print(\"Not found\")\n",
    "path"
   ]
  },
  {
   "cell_type": "code",
   "execution_count": 153,
   "id": "53f67e8e",
   "metadata": {},
   "outputs": [],
   "source": [
    "end = time.time()"
   ]
  },
  {
   "cell_type": "code",
   "execution_count": 154,
   "id": "f3e23788",
   "metadata": {},
   "outputs": [
    {
     "data": {
      "text/plain": [
       "0.4461202621459961"
      ]
     },
     "execution_count": 154,
     "metadata": {},
     "output_type": "execute_result"
    }
   ],
   "source": [
    "time_taken2 = end - start\n",
    "time_taken2"
   ]
  },
  {
   "cell_type": "code",
   "execution_count": null,
   "id": "88504974",
   "metadata": {},
   "outputs": [],
   "source": []
  },
  {
   "cell_type": "markdown",
   "id": "c234177e",
   "metadata": {},
   "source": [
    "## BBFS"
   ]
  },
  {
   "cell_type": "code",
   "execution_count": 155,
   "id": "feb2fb13",
   "metadata": {},
   "outputs": [],
   "source": [
    "start = time.time()"
   ]
  },
  {
   "cell_type": "code",
   "execution_count": 156,
   "id": "f0ccaeee",
   "metadata": {},
   "outputs": [
    {
     "name": "stdout",
     "output_type": "stream",
     "text": [
      "found\n"
     ]
    },
    {
     "data": {
      "text/plain": [
       "['0000', '1010', '0010', '1011', '1110']"
      ]
     },
     "execution_count": 156,
     "metadata": {},
     "output_type": "execute_result"
    }
   ],
   "source": [
    "queue = []\n",
    "queue1 = []\n",
    "queue.append(\"1111\")\n",
    "queue1.append(\"0000\")\n",
    "path = []\n",
    "visited = []\n",
    "visited1 = []\n",
    "path1 = []\n",
    "\n",
    "while(queue and queue1):\n",
    "    state = str(queue.pop(0))\n",
    "    state1 = str(queue1.pop(0))\n",
    "    if(state in path1 or state1 in path):\n",
    "        print(\"found\")\n",
    "        break\n",
    "    if state not in visited:\n",
    "        \n",
    "        if(state[1] == state[2]):\n",
    "            if(state[0] == state[1]):\n",
    "                for x in graph[state]:\n",
    "                    queue.append(x)\n",
    "                path.append(state)\n",
    "        elif(state[2] == state[3]):\n",
    "            if(state[0] == state[2]):\n",
    "                for x in graph[state]:\n",
    "                    queue.append(x)\n",
    "                path.append(state)\n",
    "            \n",
    "            \n",
    "        else:\n",
    "            for x in graph[state]:\n",
    "                queue.append(x)\n",
    "            path.append(state)\n",
    "        visited.append(state)\n",
    "                \n",
    "    if state1 not in visited1:\n",
    "         \n",
    "        if(state1[1] == state1[2]):\n",
    "            if(state1[0] == state1[1]):\n",
    "                for x in graph[state1]:\n",
    "                    queue1.append(x)\n",
    "                path1.append(state1)\n",
    "        elif(state1[2] == state1[3]):\n",
    "            if(state1[0] == state1[2]):\n",
    "                for x in graph[state1]:\n",
    "                    queue1.append(x)\n",
    "                path1.append(state1)\n",
    "            \n",
    "            \n",
    "        else:\n",
    "            for x in graph[state1]:\n",
    "                queue1.append(x)\n",
    "            path1.append(state1)\n",
    "        visited1.append(state1)\n",
    "                \n",
    "        \n",
    "       \n",
    "    \n",
    "    else:\n",
    "        continue\n",
    "\n",
    "\n",
    "           \n",
    "            \n",
    "           \n",
    "            \n",
    "\n",
    "path\n",
    "path1\n",
    "\n",
    "\n",
    "           \n",
    "            \n",
    "        "
   ]
  },
  {
   "cell_type": "code",
   "execution_count": 157,
   "id": "13790c75",
   "metadata": {},
   "outputs": [],
   "source": [
    "end = time.time()"
   ]
  },
  {
   "cell_type": "code",
   "execution_count": 158,
   "id": "4d108494",
   "metadata": {},
   "outputs": [
    {
     "data": {
      "text/plain": [
       "0.0729973316192627"
      ]
     },
     "execution_count": 158,
     "metadata": {},
     "output_type": "execute_result"
    }
   ],
   "source": [
    "time_taken3 = end - start\n",
    "time_taken3"
   ]
  },
  {
   "cell_type": "markdown",
   "id": "f35b312c",
   "metadata": {},
   "source": [
    "## IDDFS"
   ]
  },
  {
   "cell_type": "code",
   "execution_count": 159,
   "id": "7558aea5",
   "metadata": {},
   "outputs": [],
   "source": [
    "start = time.time()"
   ]
  },
  {
   "cell_type": "code",
   "execution_count": 160,
   "id": "f6ed2351",
   "metadata": {},
   "outputs": [],
   "source": [
    "def DlSvisit(state, path, visited, limit, max_limit):\n",
    "    if(limit == max_limit):\n",
    "        \n",
    "        return\n",
    "    \n",
    "    if(state == \"0000\"):\n",
    "        path.append(\"0000\")\n",
    "        print(\"Found\")\n",
    "        \n",
    "        return \n",
    "   \n",
    "    if(state in visited):\n",
    "        return\n",
    "            \n",
    "    visited.append(state)\n",
    "  \n",
    "        \n",
    "    if(state[1] == state[2]):\n",
    "        if(state[0] == state[1]):\n",
    "                path.append(state)\n",
    "                for state1 in graph[state]:\n",
    "                    x = str(state1)\n",
    "                    \n",
    "                    DlSvisit(x, path, visited, limit+1, max_limit)\n",
    "        else:\n",
    "            return\n",
    "            \n",
    "    elif(state[2] == state[3]):\n",
    "        if(state[0] == state[2]):\n",
    "                path.append(state)\n",
    "                for state1 in graph[state]:\n",
    "                    x = str(state1)\n",
    "                    \n",
    "                    DlSvisit(x, path, visited, limit+1, max_limit)\n",
    "                \n",
    "        else:\n",
    "            return\n",
    "            \n",
    "    else:\n",
    "        path.append(state)\n",
    "        for state1 in graph[state]:\n",
    "                x = str(state1)\n",
    "                DlSvisit(x, path, visited, limit+1, max_limit)\n",
    "                       \n",
    "    \n",
    "\n",
    "                \n",
    "    return        \n",
    "   "
   ]
  },
  {
   "cell_type": "code",
   "execution_count": 161,
   "id": "72b23273",
   "metadata": {},
   "outputs": [
    {
     "name": "stdout",
     "output_type": "stream",
     "text": [
      "Not found\n"
     ]
    },
    {
     "data": {
      "text/plain": [
       "['1111', '0101', '1101', '0001', '0100']"
      ]
     },
     "execution_count": 161,
     "metadata": {},
     "output_type": "execute_result"
    }
   ],
   "source": [
    "path = []\n",
    "visited = []\n",
    "\n",
    "DlSvisit(\"1111\", path, visited, 0, 4)\n",
    "\n",
    "if(\"0000\" not in path):\n",
    "    print(\"Not found\")\n",
    "path"
   ]
  },
  {
   "cell_type": "code",
   "execution_count": 162,
   "id": "4b5ce277",
   "metadata": {},
   "outputs": [],
   "source": [
    "end = time.time()"
   ]
  },
  {
   "cell_type": "code",
   "execution_count": 163,
   "id": "84966de0",
   "metadata": {},
   "outputs": [
    {
     "data": {
      "text/plain": [
       "0.09613871574401855"
      ]
     },
     "execution_count": 163,
     "metadata": {},
     "output_type": "execute_result"
    }
   ],
   "source": [
    "time_taken4 = end - start\n",
    "time_taken4"
   ]
  },
  {
   "cell_type": "code",
   "execution_count": null,
   "id": "b6367e73",
   "metadata": {},
   "outputs": [],
   "source": []
  },
  {
   "cell_type": "code",
   "execution_count": null,
   "id": "cdd409ab",
   "metadata": {},
   "outputs": [],
   "source": []
  },
  {
   "cell_type": "markdown",
   "id": "0624360a",
   "metadata": {},
   "source": [
    "## Jealous husband"
   ]
  },
  {
   "cell_type": "code",
   "execution_count": 164,
   "id": "1f55aa74",
   "metadata": {},
   "outputs": [],
   "source": [
    "graph1={\n",
    "    \"111111\" : [\"011011\", \"110011\"],\n",
    "    \"011011\" : [\"111111\", \"111011\"],\n",
    "    \"110011\" : [\"111111\"],\n",
    "    \"111011\" : [\"111000\"],\n",
    "    \"111000\" : [\"111000\", \"111100\"],\n",
    "    \"111100\" : [\"111000\", \"100100\"],\n",
    "    \"100100\" : [\"111100\", \"110110\"],\n",
    "    \"110110\" : [\"100100\", \"000110\"],\n",
    "    \"000110\" : [\"110110\", \"000111\"],\n",
    "    \"000111\" : [\"000110\", \"000001\"],\n",
    "    \"000001\" : [\"000111\", \"001001\"],\n",
    "    \"001001\" : [\"000001\", \"000000\"],\n",
    "    \"000000\" : [\"001001\"]\n",
    "}\n"
   ]
  },
  {
   "cell_type": "markdown",
   "id": "ab049c98",
   "metadata": {},
   "source": [
    "here 0 is right side and 1 is left side sequence denotes {h1,h2,h3,w1,w2,w3}"
   ]
  },
  {
   "cell_type": "markdown",
   "id": "6688f285",
   "metadata": {},
   "source": [
    "## BFS "
   ]
  },
  {
   "cell_type": "code",
   "execution_count": 165,
   "id": "d86a4047",
   "metadata": {},
   "outputs": [
    {
     "name": "stdout",
     "output_type": "stream",
     "text": [
      "Found\n"
     ]
    },
    {
     "data": {
      "text/plain": [
       "['111111',\n",
       " '011011',\n",
       " '111011',\n",
       " '111000',\n",
       " '111100',\n",
       " '100100',\n",
       " '110110',\n",
       " '000110',\n",
       " '000111',\n",
       " '000001',\n",
       " '001001',\n",
       " '000000']"
      ]
     },
     "execution_count": 165,
     "metadata": {},
     "output_type": "execute_result"
    }
   ],
   "source": [
    "queue = []\n",
    "queue.append(\"111111\")\n",
    "path = []\n",
    "visited = []\n",
    "while(queue):\n",
    "    state = str(queue.pop(0))\n",
    "    if(state == \"000000\"):\n",
    "        path.append(\"000000\")\n",
    "        print(\"Found\")\n",
    "        break\n",
    "    if(state in visited):\n",
    "        continue\n",
    "    if(state[3] != state[0] and (state[3] == state[1] or state[3] == state[2])):\n",
    "        continue\n",
    "        \n",
    "            \n",
    "    elif(state[4] != state[1] and (state[4] == state[0] or state[4] == state[2])):\n",
    "        continue\n",
    "        \n",
    "    elif(state[5] != state[2] and (state[5] == state[0] or state[5] == state[1])):\n",
    "        continue\n",
    "            \n",
    "    else:\n",
    "        for x in graph1[state]:\n",
    "            queue.append(x)\n",
    "        path.append(state)\n",
    "    visited.append(state)           \n",
    "    \n",
    "\n",
    "\n",
    "path\n"
   ]
  },
  {
   "cell_type": "code",
   "execution_count": null,
   "id": "fc46248b",
   "metadata": {},
   "outputs": [],
   "source": []
  },
  {
   "cell_type": "markdown",
   "id": "b3cbbd10",
   "metadata": {},
   "source": [
    "## DFS"
   ]
  },
  {
   "cell_type": "code",
   "execution_count": 166,
   "id": "2333384f",
   "metadata": {},
   "outputs": [],
   "source": [
    "def DFSvisit(state, path, visited):\n",
    "  \n",
    "    if(state == \"000000\"):\n",
    "        path.append(\"000000\")\n",
    "        print(\"Found\")\n",
    "        \n",
    "        return \n",
    "   \n",
    "    if(state in visited):\n",
    "        return\n",
    "            \n",
    "    visited.append(state)\n",
    "  \n",
    "    \n",
    "    if(state[3] != state[0] and (state[3] == state[1] or state[3] == state[2])):\n",
    "        return\n",
    "        \n",
    "            \n",
    "    elif(state[4] != state[1] and (state[4] == state[0] or state[4] == state[2])):\n",
    "        return\n",
    "        \n",
    "    elif(state[5] != state[2] and (state[5] == state[0] or state[5] == state[1])):\n",
    "        return\n",
    "            \n",
    "    else:\n",
    "        path.append(state)\n",
    "        for state1 in graph1[state]:\n",
    "            x = str(state1)\n",
    "            DFSvisit(x,path,visited)\n",
    "        \n",
    "       \n",
    "                       \n",
    "    \n",
    "\n",
    "                \n",
    "    return        \n",
    "   \n"
   ]
  },
  {
   "cell_type": "code",
   "execution_count": 167,
   "id": "6935e64f",
   "metadata": {},
   "outputs": [
    {
     "name": "stdout",
     "output_type": "stream",
     "text": [
      "Found\n"
     ]
    },
    {
     "data": {
      "text/plain": [
       "['111111',\n",
       " '011011',\n",
       " '111011',\n",
       " '111000',\n",
       " '111100',\n",
       " '100100',\n",
       " '110110',\n",
       " '000110',\n",
       " '000111',\n",
       " '000001',\n",
       " '001001',\n",
       " '000000']"
      ]
     },
     "execution_count": 167,
     "metadata": {},
     "output_type": "execute_result"
    }
   ],
   "source": [
    "path = []\n",
    "visited = []\n",
    "\n",
    "DFSvisit(\"111111\", path, visited)\n",
    "path"
   ]
  },
  {
   "cell_type": "code",
   "execution_count": null,
   "id": "ced4c485",
   "metadata": {},
   "outputs": [],
   "source": []
  },
  {
   "cell_type": "markdown",
   "id": "3690dd10",
   "metadata": {},
   "source": [
    "## DLS"
   ]
  },
  {
   "cell_type": "code",
   "execution_count": 168,
   "id": "9ad674a3",
   "metadata": {},
   "outputs": [],
   "source": [
    "def DLSvisit(state, path, visited, limit):\n",
    "    if(limit == 0):\n",
    "        return\n",
    "    if(state == \"000000\"):\n",
    "        path.append(\"000000\")\n",
    "        print(\"Found\")\n",
    "        \n",
    "        return \n",
    "   \n",
    "    if(state in visited):\n",
    "        return\n",
    "            \n",
    "    visited.append(state)\n",
    "  \n",
    "    \n",
    "    if(state[3] != state[0] and (state[3] == state[1] or state[3] == state[2])):\n",
    "        return\n",
    "        \n",
    "            \n",
    "    elif(state[4] != state[1] and (state[4] == state[0] or state[4] == state[2])):\n",
    "        return\n",
    "        \n",
    "    elif(state[5] != state[2] and (state[5] == state[0] or state[5] == state[1])):\n",
    "        return\n",
    "            \n",
    "    else:\n",
    "        path.append(state)\n",
    "        for state1 in graph1[state]:\n",
    "            x = str(state1)\n",
    "            DLSvisit(x,path,visited,limit-1)\n",
    "        \n",
    "       \n",
    "                       \n",
    "    \n",
    "\n",
    "                \n",
    "    return        \n",
    "   "
   ]
  },
  {
   "cell_type": "code",
   "execution_count": 169,
   "id": "5bbf1130",
   "metadata": {},
   "outputs": [
    {
     "name": "stdout",
     "output_type": "stream",
     "text": [
      "Not found\n"
     ]
    },
    {
     "data": {
      "text/plain": [
       "['111111', '011011', '111011', '111000']"
      ]
     },
     "execution_count": 169,
     "metadata": {},
     "output_type": "execute_result"
    }
   ],
   "source": [
    "path = []\n",
    "visited = []\n",
    "\n",
    "DLSvisit(\"111111\", path, visited, 4)\n",
    "\n",
    "\n",
    "if(\"000000\" not in path):\n",
    "    print(\"Not found\")\n",
    "path"
   ]
  },
  {
   "cell_type": "code",
   "execution_count": null,
   "id": "c1f8724c",
   "metadata": {},
   "outputs": [],
   "source": []
  },
  {
   "cell_type": "markdown",
   "id": "7fdf2120",
   "metadata": {},
   "source": [
    "## IDDFS"
   ]
  },
  {
   "cell_type": "code",
   "execution_count": 170,
   "id": "9c1f7887",
   "metadata": {},
   "outputs": [],
   "source": [
    "def DLSvisit(state, path, visited, limit, max_limit):\n",
    "    if(limit == max_limit):\n",
    "        return\n",
    "    if(state == \"000000\"):\n",
    "        path.append(\"000000\")\n",
    "        print(\"Found\")\n",
    "        \n",
    "        return \n",
    "   \n",
    "    if(state in visited):\n",
    "        return\n",
    "            \n",
    "    visited.append(state)\n",
    "  \n",
    "    \n",
    "    if(state[3] != state[0] and (state[3] == state[1] or state[3] == state[2])):\n",
    "        return\n",
    "        \n",
    "            \n",
    "    elif(state[4] != state[1] and (state[4] == state[0] or state[4] == state[2])):\n",
    "        return\n",
    "        \n",
    "    elif(state[5] != state[2] and (state[5] == state[0] or state[5] == state[1])):\n",
    "        return\n",
    "            \n",
    "    else:\n",
    "        path.append(state)\n",
    "        for state1 in graph1[state]:\n",
    "            x = str(state1)\n",
    "            DLSvisit(x, path, visited, limit+1, max_limit)\n",
    "        \n",
    "       \n",
    "                       \n",
    "    \n",
    "\n",
    "                \n",
    "    return        \n"
   ]
  },
  {
   "cell_type": "code",
   "execution_count": 171,
   "id": "76064d96",
   "metadata": {},
   "outputs": [
    {
     "name": "stdout",
     "output_type": "stream",
     "text": [
      "Not found\n"
     ]
    },
    {
     "data": {
      "text/plain": [
       "['111111', '011011', '111011', '111000']"
      ]
     },
     "execution_count": 171,
     "metadata": {},
     "output_type": "execute_result"
    }
   ],
   "source": [
    "path = []\n",
    "visited = []\n",
    "\n",
    "DLSvisit(\"111111\", path, visited, 0, 4)\n",
    "\n",
    "\n",
    "if(\"000000\" not in path):\n",
    "    print(\"Not found\")\n",
    "path"
   ]
  },
  {
   "cell_type": "code",
   "execution_count": null,
   "id": "0a9c9a61",
   "metadata": {},
   "outputs": [],
   "source": []
  },
  {
   "cell_type": "markdown",
   "id": "22cdf04b",
   "metadata": {},
   "source": [
    "## BBFS"
   ]
  },
  {
   "cell_type": "code",
   "execution_count": 172,
   "id": "d42c2617",
   "metadata": {},
   "outputs": [
    {
     "name": "stdout",
     "output_type": "stream",
     "text": [
      "found\n"
     ]
    },
    {
     "data": {
      "text/plain": [
       "['000000', '001001', '000001', '000111', '000110', '110110', '100100']"
      ]
     },
     "execution_count": 172,
     "metadata": {},
     "output_type": "execute_result"
    }
   ],
   "source": [
    "queue = []\n",
    "queue1 = []\n",
    "queue.append(\"111111\")\n",
    "queue1.append(\"000000\")\n",
    "path = []\n",
    "visited = []\n",
    "visited1 = []\n",
    "path1 = []\n",
    "\n",
    "while(queue and queue1):\n",
    "    state = str(queue.pop(0))\n",
    "    state1 = str(queue1.pop(0))\n",
    "    if(state in path1 or state1 in path):\n",
    "        print(\"found\")\n",
    "        break\n",
    "    if state not in visited:\n",
    "        \n",
    "        if(state[3] == state[0] or (state[3] != state[0] and state[3] != state[1] and state[3] != state[2])):\n",
    "            for x in graph1[state]:\n",
    "                queue.append(x)\n",
    "            path.append(state)\n",
    "        \n",
    "           \n",
    "           \n",
    "        elif(state[4] == state[1] or (state[4] != state[1] and state[4] != state[2] and state[4] != state[0])):\n",
    "            for x in graph1[state]:\n",
    "                queue.append(x)\n",
    "            path.append(state)\n",
    "            \n",
    "        \n",
    "        elif(state[5] == state[2] or (state[5] != state[2] and state[5] != state[1] and state[5] != state[0])):\n",
    "            for x in graph1[state]:\n",
    "                queue.append(x)\n",
    "            path.append(state)\n",
    "              \n",
    "        visited.append(state)\n",
    "                \n",
    "    if state1 not in visited1:\n",
    "         \n",
    "        if(state1[3] == state1[0] or (state1[3] != state1[0] and state1[3] != state1[1] and state1[3] != state1[2])):\n",
    "            for x in graph1[state1]:\n",
    "                queue1.append(x)\n",
    "            path1.append(state1)\n",
    "        \n",
    "           \n",
    "           \n",
    "        elif(state1[4] == state1[1] or (state1[4] != state1[1] and state1[4] != state1[2] and state1[4] != state1[0])):\n",
    "            for x in graph1[state1]:\n",
    "                queue1.append(x)\n",
    "            path1.append(state1)\n",
    "            \n",
    "        \n",
    "        elif(state1[5] == state1[2] or (state1[5] != state1[2] and state1[5] != state1[1] and state1[5] != state1[0])):\n",
    "            for x in graph1[state1]:\n",
    "                queue1.append(x)\n",
    "            path1.append(state1)\n",
    "              \n",
    "        visited1.append(state1)\n",
    "                \n",
    "                \n",
    "        \n",
    "       \n",
    "    \n",
    "    else:\n",
    "        continue\n",
    "\n",
    "\n",
    "           \n",
    "            \n",
    "           \n",
    "            \n",
    "\n",
    "path\n",
    "path1\n"
   ]
  },
  {
   "cell_type": "code",
   "execution_count": null,
   "id": "158c326b",
   "metadata": {},
   "outputs": [],
   "source": []
  },
  {
   "cell_type": "code",
   "execution_count": null,
   "id": "2984b37b",
   "metadata": {},
   "outputs": [],
   "source": []
  },
  {
   "cell_type": "code",
   "execution_count": null,
   "id": "33800c29",
   "metadata": {},
   "outputs": [],
   "source": []
  },
  {
   "cell_type": "code",
   "execution_count": null,
   "id": "f85ef181",
   "metadata": {},
   "outputs": [],
   "source": []
  },
  {
   "cell_type": "code",
   "execution_count": null,
   "id": "cfab2b45",
   "metadata": {},
   "outputs": [],
   "source": []
  },
  {
   "cell_type": "code",
   "execution_count": null,
   "id": "04257f9f",
   "metadata": {},
   "outputs": [],
   "source": []
  },
  {
   "cell_type": "code",
   "execution_count": null,
   "id": "1b7f68e1",
   "metadata": {},
   "outputs": [],
   "source": []
  },
  {
   "cell_type": "code",
   "execution_count": null,
   "id": "c698e37c",
   "metadata": {},
   "outputs": [],
   "source": []
  },
  {
   "cell_type": "code",
   "execution_count": null,
   "id": "96a50d55",
   "metadata": {},
   "outputs": [],
   "source": []
  }
 ],
 "metadata": {
  "kernelspec": {
   "display_name": "Python 3 (ipykernel)",
   "language": "python",
   "name": "python3"
  },
  "language_info": {
   "codemirror_mode": {
    "name": "ipython",
    "version": 3
   },
   "file_extension": ".py",
   "mimetype": "text/x-python",
   "name": "python",
   "nbconvert_exporter": "python",
   "pygments_lexer": "ipython3",
   "version": "3.9.12"
  }
 },
 "nbformat": 4,
 "nbformat_minor": 5
}
